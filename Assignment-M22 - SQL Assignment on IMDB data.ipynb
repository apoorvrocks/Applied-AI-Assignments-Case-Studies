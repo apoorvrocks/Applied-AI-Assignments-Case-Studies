{
 "cells": [
  {
   "cell_type": "markdown",
   "metadata": {},
   "source": [
    "# IMDB DATASET ASSIGNMENT"
   ]
  },
  {
   "cell_type": "code",
   "execution_count": 1,
   "metadata": {},
   "outputs": [],
   "source": [
    "import sqlite3"
   ]
  },
  {
   "cell_type": "code",
   "execution_count": 2,
   "metadata": {},
   "outputs": [],
   "source": [
    "db = 'Db-IMDB.db'\n",
    "conn = sqlite3.connect(db)"
   ]
  },
  {
   "cell_type": "code",
   "execution_count": 3,
   "metadata": {},
   "outputs": [],
   "source": [
    "c = conn.cursor()"
   ]
  },
  {
   "cell_type": "markdown",
   "metadata": {},
   "source": [
    "#### Q1. List all the directors who directed a 'Comedy' movie in a leap year. (You need to check that the genre is 'Comedy’ and year is a leap year) Your query should return director name, the movie name, and the year."
   ]
  },
  {
   "cell_type": "code",
   "execution_count": 4,
   "metadata": {},
   "outputs": [],
   "source": [
    "query1 = '''SELECT DISTINCT TRIM(p.Name) AS 'Director_Name', m.title AS 'Movie_Title', m.year AS 'Year'\n",
    "FROM Movie m \n",
    "LEFT JOIN M_Director md\n",
    "ON m.MID = md.MID\n",
    "LEFT JOIN Person p\n",
    "ON md.PID = p.PID\n",
    "WHERE (m.MID IN (SELECT mg.MID FROM M_Genre mg WHERE mg.GID IN\n",
    "                    (SELECT g.GID FROM Genre g WHERE g.Name LIKE '%Comedy%')\n",
    "                )\n",
    "        ) \n",
    "        AND \n",
    "        ((m.year % 4) == 0) LIMIT 10'''"
   ]
  },
  {
   "cell_type": "code",
   "execution_count": 5,
   "metadata": {
    "scrolled": false
   },
   "outputs": [
    {
     "name": "stdout",
     "output_type": "stream",
     "text": [
      "('Director Name'), ('Movie Title'), ('Year')\n",
      "('Milap Zaveri', 'Mastizaade', '2016')\n",
      "('Danny Leiner', 'Harold & Kumar Go to White Castle', '2004')\n",
      "('Anurag Kashyap', 'Gangs of Wasseypur', '2012')\n",
      "('Frank Coraci', 'Around the World in 80 Days', '2004')\n",
      "('Griffin Dunne', 'The Accidental Husband', '2008')\n",
      "('Anurag Basu', 'Barfi!', '2012')\n",
      "('Gurinder Chadha', 'Bride & Prejudice', '2004')\n",
      "('Mike Judge', 'Beavis and Butt-Head Do America', '1996')\n",
      "('Abhinay Deo', 'Blackmail', 'I 2018')\n",
      "('Tarun Mansukhani', 'Dostana', '2008')\n"
     ]
    }
   ],
   "source": [
    "print('(\\'Director Name\\'), (\\'Movie Title\\'), (\\'Year\\')')\n",
    "for row in c.execute(query1):\n",
    "    print(row)"
   ]
  },
  {
   "cell_type": "markdown",
   "metadata": {},
   "source": [
    "#### Q2. List the names of all the actors who played in the movie 'Anand' (1971)"
   ]
  },
  {
   "cell_type": "code",
   "execution_count": 6,
   "metadata": {},
   "outputs": [],
   "source": [
    "query2 = '''SELECT p.Name AS 'Actor Name in Movie Anand'\n",
    "FROM Person p WHERE p.PID IN\n",
    "    (SELECT TRIM(mc.PID)\n",
    "    FROM M_Cast mc JOIN Movie m\n",
    "    ON mc.MID = m.MID\n",
    "    WHERE m.title = 'Anand')\n",
    "'''"
   ]
  },
  {
   "cell_type": "code",
   "execution_count": 7,
   "metadata": {},
   "outputs": [
    {
     "name": "stdout",
     "output_type": "stream",
     "text": [
      "Actor Name in Movie Anand\n",
      "(' Amitabh Bachchan',)\n",
      "(' Rajesh Khanna',)\n",
      "(' Sumita Sanyal',)\n",
      "(' Ramesh Deo',)\n",
      "(' Seema Deo',)\n",
      "(' Asit Kumar Sen',)\n",
      "(' Dev Kishan',)\n",
      "(' Atam Prakash',)\n",
      "(' Lalita Kumari',)\n",
      "(' Savita',)\n",
      "(' Brahm Bhardwaj',)\n",
      "(' Gurnam Singh',)\n",
      "(' Lalita Pawar',)\n",
      "(' Durga Khote',)\n",
      "(' Dara Singh',)\n",
      "(' Johnny Walker',)\n",
      "(' Moolchand',)\n"
     ]
    }
   ],
   "source": [
    "print('Actor Name in Movie Anand')\n",
    "for row in c.execute(query2):\n",
    "    print(row)"
   ]
  },
  {
   "cell_type": "markdown",
   "metadata": {},
   "source": [
    "#### Q3. List all the actors who acted in a film before 1970 and in a film after 1990. (That is: < 1970 and > 1990.)"
   ]
  },
  {
   "cell_type": "code",
   "execution_count": 8,
   "metadata": {},
   "outputs": [],
   "source": [
    "query3 = '''SELECT p.Name\n",
    "FROM Person p \n",
    "JOIN M_Cast mc on p.PID = TRIM(mc.PID) \n",
    "JOIN Movie m ON mc.MID = m.MID\n",
    "WHERE m.year < 1970\n",
    "INTERSECT\n",
    "SELECT p.Name\n",
    "FROM Person p \n",
    "JOIN M_Cast mc on p.PID = TRIM(mc.PID) \n",
    "JOIN Movie m ON mc.MID = m.MID\n",
    "WHERE m.year > 1990\n",
    "LIMIT 10'''"
   ]
  },
  {
   "cell_type": "code",
   "execution_count": 9,
   "metadata": {},
   "outputs": [
    {
     "name": "stdout",
     "output_type": "stream",
     "text": [
      "Actor Name between 1970 AND 1990\n",
      "(' A.K. Hangal',)\n",
      "(' Aachi Manorama',)\n",
      "(' Abbas',)\n",
      "(' Abdul',)\n",
      "(' Abhi Bhattacharya',)\n",
      "(' Abhimanyu Sharma',)\n",
      "(' Achala Sachdev',)\n",
      "(' Adil',)\n",
      "(' Ajay',)\n",
      "(' Ajit',)\n"
     ]
    }
   ],
   "source": [
    "print('Actor Name between 1970 AND 1990')\n",
    "for row in c.execute(query3):\n",
    "    print(row)"
   ]
  },
  {
   "cell_type": "markdown",
   "metadata": {},
   "source": [
    "#### Q4. List all directors who directed 10 movies or more, in descending order of the number of movies they directed. Return the directors' names and the number of movies each of them directed."
   ]
  },
  {
   "cell_type": "code",
   "execution_count": 10,
   "metadata": {},
   "outputs": [],
   "source": [
    "query4 = '''SELECT p.Name AS 'Movie Director', COUNT(md.PID) movie_count\n",
    "            FROM Person p \n",
    "            JOIN M_Director md\n",
    "            ON p.PID = md.PID\n",
    "            GROUP BY md.PID\n",
    "            HAVING movie_count > 9\n",
    "            ORDER BY movie_count\n",
    "            DESC LIMIT 10'''"
   ]
  },
  {
   "cell_type": "code",
   "execution_count": 11,
   "metadata": {},
   "outputs": [
    {
     "name": "stdout",
     "output_type": "stream",
     "text": [
      "Movie Director, Number of Movies Directed\n",
      "('David Dhawan', 78)\n",
      "('Mahesh Bhatt', 70)\n",
      "('Ram Gopal Varma', 60)\n",
      "('Vikram Bhatt', 58)\n",
      "('Hrishikesh Mukherjee', 54)\n",
      "('Yash Chopra', 42)\n",
      "('Basu Chatterjee', 38)\n",
      "('Shakti Samanta', 38)\n",
      "('Subhash Ghai', 36)\n",
      "('Shyam Benegal', 34)\n"
     ]
    }
   ],
   "source": [
    "print('Movie Director, Number of Movies Directed')\n",
    "for row in c.execute(query4):\n",
    "    print(row)"
   ]
  },
  {
   "cell_type": "markdown",
   "metadata": {},
   "source": [
    "#### Q5 A. For each year, count the number of movies in that year that had only female actors."
   ]
  },
  {
   "cell_type": "code",
   "execution_count": 12,
   "metadata": {},
   "outputs": [],
   "source": [
    "query_5_a = '''CREATE VIEW temp_5_a AS\n",
    "SELECT m.title, SUBSTR(m.year, LENGTH(m.year)-3, 4) AS 'Year', p.Name, p.Gender\n",
    "FROM Movie m \n",
    "JOIN M_Cast mc ON m.MID = mc.MID\n",
    "JOIN Person p ON TRIM(mc.PID) = p.PID'''"
   ]
  },
  {
   "cell_type": "code",
   "execution_count": 13,
   "metadata": {},
   "outputs": [],
   "source": [
    "query_5_a_a = '''CREATE VIEW temp_5_a_a AS\n",
    "SELECT DISTINCT title, Year \n",
    "FROM temp_5_a\n",
    "WHERE title NOT IN (SELECT title \n",
    "FROM temp_5_a\n",
    "WHERE Gender = 'Male')'''"
   ]
  },
  {
   "cell_type": "code",
   "execution_count": 14,
   "metadata": {},
   "outputs": [],
   "source": [
    "query_5a = '''SELECT Year, COUNT(Year) FROM temp_5_a_a\n",
    "GROUP BY Year\n",
    "ORDER BY COUNT(Year) DESC'''"
   ]
  },
  {
   "cell_type": "code",
   "execution_count": 16,
   "metadata": {},
   "outputs": [
    {
     "name": "stdout",
     "output_type": "stream",
     "text": [
      "Year, Movie Count\n",
      "('2018', 2)\n",
      "('1939', 1)\n",
      "('1999', 1)\n",
      "('2000', 1)\n"
     ]
    }
   ],
   "source": [
    "print('Year, Movie Count')\n",
    "for row in c.execute(query_5a):\n",
    "    print(row)"
   ]
  },
  {
   "cell_type": "markdown",
   "metadata": {},
   "source": [
    "#### Q5 B. Now include a small change: report for each year the percentage of movies in that year with only female actors, and the total number of movies made that year. For example, one answer will be: 1990 31.81 13522 meaning that in 1990 there were 13,522 movies, and 31.81% had only female actors. You do not need to round your answer."
   ]
  },
  {
   "cell_type": "code",
   "execution_count": 17,
   "metadata": {},
   "outputs": [],
   "source": [
    "query_5_b = '''CREATE VIEW temp_5_b_movies_with_only_female AS\n",
    "SELECT Year, COUNT(Year) AS 'movie_count' FROM temp_5_a_a\n",
    "GROUP BY Year\n",
    "ORDER BY COUNT(Year) DESC'''"
   ]
  },
  {
   "cell_type": "code",
   "execution_count": 18,
   "metadata": {},
   "outputs": [],
   "source": [
    "query_3_b_b = '''CREATE VIEW temp_5_b_movies_in_year AS\n",
    "SELECT DISTINCT title, Year \n",
    "FROM temp_5_a'''"
   ]
  },
  {
   "cell_type": "code",
   "execution_count": 19,
   "metadata": {},
   "outputs": [],
   "source": [
    "query_3_b_b_b = '''CREATE VIEW temp_5_b_total_movies_in_year AS\n",
    "SELECT Year, COUNT(Year) AS 'movie_count' FROM temp_5_b_movies_in_year\n",
    "GROUP BY Year\n",
    "ORDER BY COUNT(Year) DESC'''"
   ]
  },
  {
   "cell_type": "code",
   "execution_count": 20,
   "metadata": {},
   "outputs": [],
   "source": [
    "query_5b = '''SELECT a.Year, ((a.movie_count*100.0)/b.movie_count) AS 'Female Percenatge', b.movie_count AS 'Total Movie Count'\n",
    "FROM temp_5_b_movies_with_only_female a JOIN temp_5_b_total_movies_in_year b ON a.Year = b.Year\n",
    "ORDER BY a.YEAR DESC'''"
   ]
  },
  {
   "cell_type": "code",
   "execution_count": 21,
   "metadata": {},
   "outputs": [
    {
     "name": "stdout",
     "output_type": "stream",
     "text": [
      "Year, Percentage Female, Total Movie Count\n",
      "('2018', 1.9230769230769231, 104)\n",
      "('2000', 1.5625, 64)\n",
      "('1999', 1.5151515151515151, 66)\n",
      "('1939', 50.0, 2)\n"
     ]
    }
   ],
   "source": [
    "print('Year, Percentage Female, Total Movie Count')\n",
    "for row in c.execute(query_5b):\n",
    "    print(row)"
   ]
  },
  {
   "cell_type": "markdown",
   "metadata": {},
   "source": [
    "#### Q6. Find the film(s) with the largest cast. Return the movie title and the size of the cast. By \"cast size\" we mean the number of distinct actors that played in that movie: if an actor played multiple roles, or if it simply occurs multiple times in casts, we still count her/him only once."
   ]
  },
  {
   "cell_type": "code",
   "execution_count": 22,
   "metadata": {},
   "outputs": [],
   "source": [
    "query6 = '''SELECT m.title AS 'Movie Name', (SELECT DISTINCT COUNT(MID) FROM M_Cast GROUP BY MID ORDER BY COUNT(PID) DESC) AS 'Cast No.'\n",
    "FROM Movie  m\n",
    "WHERE m.MID \n",
    "IN (SELECT DISTINCT MID \n",
    "FROM M_Cast \n",
    "GROUP BY MID \n",
    "ORDER BY COUNT(PID) DESC \n",
    "LIMIT 1)'''"
   ]
  },
  {
   "cell_type": "code",
   "execution_count": 23,
   "metadata": {},
   "outputs": [
    {
     "name": "stdout",
     "output_type": "stream",
     "text": [
      "Movie Name, Cast Count\n",
      "(\"Ocean's Eight\", 238)\n"
     ]
    }
   ],
   "source": [
    "print('Movie Name, Cast Count')\n",
    "for row in c.execute(query6):\n",
    "    print(row)"
   ]
  },
  {
   "cell_type": "markdown",
   "metadata": {},
   "source": [
    "#### Q7. A decade is a sequence of 10 consecutive years. For example, say in your database you have movie information starting from 1965. Then the first decade is 1965, 1966, ..., 1974; the second one is 1967, 1968, ..., 1976 and so on. Find the decade D with the largest number of films and the total number of films in D."
   ]
  },
  {
   "cell_type": "code",
   "execution_count": 24,
   "metadata": {},
   "outputs": [],
   "source": [
    "query7 = '''SELECT m1.year AS 'FROM', m1.year+9 AS 'TO', COUNT(*) AS 'Movie in Decade'\n",
    "FROM (SELECT DISTINCT year FROM Movie) m1 JOIN Movie m2 ON m1.year > m2.year AND m1.year < m2.year+10\n",
    "GROUP BY m1.year\n",
    "ORDER BY COUNT(*) DESC\n",
    "LIMIT 1'''"
   ]
  },
  {
   "cell_type": "code",
   "execution_count": 25,
   "metadata": {},
   "outputs": [
    {
     "name": "stdout",
     "output_type": "stream",
     "text": [
      "FROM, TO, Max Movies\n",
      "('2018', 2027, 1025)\n"
     ]
    }
   ],
   "source": [
    "print('FROM, TO, Max Movies')\n",
    "for row in c.execute(query7):\n",
    "    print(row)"
   ]
  },
  {
   "cell_type": "markdown",
   "metadata": {},
   "source": [
    "#### Q8. Find the actors that were never unemployed for more than 3 years at a stretch. (Assume that the actors remain unemployed between two consecutive movies)."
   ]
  },
  {
   "cell_type": "code",
   "execution_count": 26,
   "metadata": {},
   "outputs": [],
   "source": [
    "query8 = '''SELECT PID, Name \n",
    "FROM Person \n",
    "WHERE  PID NOT IN (SELECT DISTINCT PID \n",
    "FROM M_Cast AS C1 NATURAL JOIN Movie as M1 \n",
    "WHERE EXISTS (SELECT MID \n",
    "FROM M_Cast AS C2 NATURAL JOIN Movie AS M2 \n",
    "WHERE C1.PID = C2.PID AND (M2.year-3) > M1.year AND NOT EXISTS (SELECT MID \n",
    "FROM M_Cast AS C3 NATURAL JOIN Movie AS M3 \n",
    "WHERE C1.PID = C3.PID AND M1.year < M3.year AND M3.year < M2.year)))\n",
    "LIMIT 10'''"
   ]
  },
  {
   "cell_type": "code",
   "execution_count": 27,
   "metadata": {},
   "outputs": [
    {
     "name": "stdout",
     "output_type": "stream",
     "text": [
      "('nm0000288', ' Christian Bale')\n",
      "('nm0000949', ' Cate Blanchett')\n",
      "('nm1212722', ' Benedict Cumberbatch')\n",
      "('nm0365140', ' Naomie Harris')\n",
      "('nm0785227', ' Andy Serkis')\n",
      "('nm0611932', ' Peter Mullan')\n",
      "('nm2930503', ' Jack Reynor')\n",
      "('nm0550371', ' Eddie Marsan')\n",
      "('nm0390903', ' Tom Hollander')\n",
      "('nm0722629', ' Matthew Rhys')\n"
     ]
    }
   ],
   "source": [
    "for row in c.execute(query8):\n",
    "    print(row)"
   ]
  },
  {
   "cell_type": "markdown",
   "metadata": {},
   "source": [
    "#### Q9. Find all the actors that made more movies with Yash Chopra than any other director."
   ]
  },
  {
   "cell_type": "code",
   "execution_count": 28,
   "metadata": {},
   "outputs": [],
   "source": [
    "query9 = '''SELECT p1.PID, TRIM(p1.Name), COUNT(m1.MID) AS movies_with_yc\n",
    "FROM Person p1 JOIN M_Cast mc1 ON p1.PID = TRIM(mc1.PID) JOIN Movie m1 ON mc1.MID = m1.MID JOIN M_Director md1 ON m1.MID = md1.MID JOIN Person p2 ON md1.PID = p2.PID\n",
    "WHERE p2.Name = 'Yash Chopra'\n",
    "GROUP BY p1.PID\n",
    "HAVING COUNT(m1.MID) > (SELECT COUNT(m4.MID) FROM Person p3 JOIN M_Cast mc2 ON p3.PID = TRIM(mc2.PID) JOIN Movie m4 ON mc2.MID = m4.MID JOIN M_Director md2 ON m4.MID = md2.MID JOIN Person AS p4 ON md2.PID = p4.PID\n",
    "WHERE p1.PID = p3.PID AND p4.Name != 'Yash Chopra'\n",
    "GROUP BY p4.PID)\n",
    "ORDER BY movies_with_yc DESC\n",
    "LIMIT 10'''"
   ]
  },
  {
   "cell_type": "code",
   "execution_count": 29,
   "metadata": {},
   "outputs": [
    {
     "name": "stdout",
     "output_type": "stream",
     "text": [
      "PID, Name of Actors, Number of Movies\n",
      "('nm0471443', 'Manmohan Krishna', 20)\n",
      "('nm0004434', 'Shashi Kapoor', 14)\n",
      "('nm0451600', 'Anupam Kher', 14)\n",
      "('nm0707271', 'Jagdish Raj', 11)\n",
      "('nm0407002', 'Iftekhar', 9)\n",
      "('nm0004564', 'Hema Malini', 8)\n",
      "('nm0025630', 'Vikas Anand', 8)\n",
      "('nm0534501', 'Madan Puri', 8)\n",
      "('nm0894340', 'Deven Verma', 8)\n",
      "('nm0000821', 'Amitabh Bachchan', 6)\n"
     ]
    }
   ],
   "source": [
    "print('PID, Name of Actors, Number of Movies')\n",
    "for row in c.execute(query9):\n",
    "    print(row)"
   ]
  },
  {
   "cell_type": "markdown",
   "metadata": {},
   "source": [
    "#### Q10. The Shahrukh number of an actor is the length of the shortest path between the actor and Shahrukh Khan in the \"co-acting\" graph. That is, Shahrukh Khan has Shahrukh number 0; all actors who acted in the same film as Shahrukh have Shahrukh number 1; all actors who acted in the same film as some actor with Shahrukh number 1 have Shahrukh number 2, etc. Return all actors whose Shahrukh number is 2."
   ]
  },
  {
   "cell_type": "code",
   "execution_count": 30,
   "metadata": {},
   "outputs": [],
   "source": [
    "query10 = '''SELECT DISTINCT p1.PID, TRIM(p1.Name) AS 'Shahrukh No 2'\n",
    "FROM Person p1 JOIN M_Cast mc1 ON p1.PID = TRIM(mc1.PID)\n",
    "WHERE TRIM(p1.Name) <> 'Shah Rukh Khan' AND mc1.MID IN (SELECT mc2.MID \n",
    "FROM M_Cast mc2\n",
    "WHERE TRIM(mc2.PID) IN (SELECT p2.PID \n",
    "FROM Person p2 JOIN M_Cast mc3 ON p2.PID = TRIM(mc3.PID)\n",
    "WHERE TRIM(p2.Name) <> 'Shah Rukh Khan' AND mc3.MID IN (SELECT mc4.MID \n",
    "FROM Person p3 JOIN M_Cast mc4 \n",
    "WHERE TRIM(p3.Name) = 'Shah Rukh Khan'))) \n",
    "AND p1.PID NOT IN (SELECT p4.PID \n",
    "FROM Person p4 JOIN M_Cast mc5 ON p4.PID = TRIM(mc5.PID)\n",
    "WHERE TRIM(p4.Name) <> 'Shah Rukh Khan'\n",
    "AND mc5.MID IN (SELECT mc6.MID \n",
    "FROM Person p5 JOIN M_Cast mc6 ON p5.PID = TRIM(mc6.PID)\n",
    "WHERE TRIM(p5.Name) = 'Shah Rukh Khan'))\n",
    "LIMIT 10'''"
   ]
  },
  {
   "cell_type": "code",
   "execution_count": 31,
   "metadata": {},
   "outputs": [
    {
     "name": "stdout",
     "output_type": "stream",
     "text": [
      "PID, Shahrukh No. 2\n",
      "('nm0000288', 'Christian Bale')\n",
      "('nm0000949', 'Cate Blanchett')\n",
      "('nm1212722', 'Benedict Cumberbatch')\n",
      "('nm0365140', 'Naomie Harris')\n",
      "('nm0785227', 'Andy Serkis')\n",
      "('nm0611932', 'Peter Mullan')\n",
      "('nm2930503', 'Jack Reynor')\n",
      "('nm0550371', 'Eddie Marsan')\n",
      "('nm0390903', 'Tom Hollander')\n",
      "('nm0722629', 'Matthew Rhys')\n"
     ]
    }
   ],
   "source": [
    "print('PID, Shahrukh No. 2')\n",
    "for row in c.execute(query10):\n",
    "    print(row)"
   ]
  },
  {
   "cell_type": "code",
   "execution_count": 32,
   "metadata": {},
   "outputs": [],
   "source": [
    "conn.close()"
   ]
  },
  {
   "cell_type": "code",
   "execution_count": null,
   "metadata": {},
   "outputs": [],
   "source": []
  }
 ],
 "metadata": {
  "kernelspec": {
   "display_name": "Python 3",
   "language": "python",
   "name": "python3"
  },
  "language_info": {
   "codemirror_mode": {
    "name": "ipython",
    "version": 3
   },
   "file_extension": ".py",
   "mimetype": "text/x-python",
   "name": "python",
   "nbconvert_exporter": "python",
   "pygments_lexer": "ipython3",
   "version": "3.6.5"
  }
 },
 "nbformat": 4,
 "nbformat_minor": 2
}
