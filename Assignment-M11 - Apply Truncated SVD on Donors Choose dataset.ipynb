{
 "cells": [
  {
   "cell_type": "code",
   "execution_count": 1,
   "metadata": {},
   "outputs": [],
   "source": [
    "import pandas as pd\n",
    "from collections import Counter\n",
    "from tqdm import tqdm\n",
    "import re\n",
    "import pickle\n",
    "from sklearn.feature_extraction.text import CountVectorizer\n",
    "from sklearn.preprocessing import Normalizer\n",
    "import pickle\n",
    "import numpy as np\n",
    "import matplotlib.pyplot as plt\n",
    "import seaborn as sns\n",
    "from xgboost import XGBClassifier as xgbc\n",
    "from sklearn.metrics import roc_curve, auc\n",
    "from sklearn.model_selection import GridSearchCV\n",
    "from sklearn.metrics import confusion_matrix"
   ]
  },
  {
   "cell_type": "markdown",
   "metadata": {},
   "source": [
    "# Reading Data"
   ]
  },
  {
   "cell_type": "code",
   "execution_count": 2,
   "metadata": {},
   "outputs": [],
   "source": [
    "# https://github.com/pandas-dev/pandas/issues/11493\n",
    "# https://stackoverflow.com/questions/52105659/pandas-read-csv-unexpected-end-of-data-error\n",
    "\n",
    "project_data = pd.read_csv('train_data.csv', engine='python', error_bad_lines = False)\n",
    "resource_data = pd.read_csv('resources.csv', engine='python', error_bad_lines = False)"
   ]
  },
  {
   "cell_type": "markdown",
   "metadata": {},
   "source": [
    "# Combining both DataFrames"
   ]
  },
  {
   "cell_type": "code",
   "execution_count": 3,
   "metadata": {},
   "outputs": [
    {
     "name": "stderr",
     "output_type": "stream",
     "text": [
      "/Users/swatisharma/anaconda3/lib/python3.6/site-packages/ipykernel_launcher.py:4: FutureWarning: using a dict on a Series for aggregation\n",
      "is deprecated and will be removed in a future version. Use                 named aggregation instead.\n",
      "\n",
      "    >>> grouper.agg(name_1=func_1, name_2=func_2)\n",
      "\n",
      "  after removing the cwd from sys.path.\n"
     ]
    }
   ],
   "source": [
    "# https://stackoverflow.com/questions/41581044/pandas-aggregate-rows-for-a-given-column-and-count-the-number\n",
    "\n",
    "rd = resource_data.groupby('id').description\n",
    "rd = rd.agg(dict(description = lambda x:list(x), number='count'))"
   ]
  },
  {
   "cell_type": "code",
   "execution_count": 4,
   "metadata": {},
   "outputs": [],
   "source": [
    "price_qty_data = resource_data.groupby('id').agg({'price':'sum', 'quantity':'sum'}).reset_index()\n",
    "resource_data = pd.merge(rd, price_qty_data, on='id', how='left')"
   ]
  },
  {
   "cell_type": "code",
   "execution_count": 5,
   "metadata": {},
   "outputs": [],
   "source": [
    "project_data = pd.merge(project_data, resource_data, on='id', how='left')"
   ]
  },
  {
   "cell_type": "code",
   "execution_count": 6,
   "metadata": {},
   "outputs": [
    {
     "name": "stdout",
     "output_type": "stream",
     "text": [
      "109248\n"
     ]
    }
   ],
   "source": [
    "print(len(project_data))"
   ]
  },
  {
   "cell_type": "code",
   "execution_count": 7,
   "metadata": {},
   "outputs": [],
   "source": [
    "# https://stackoverflow.com/a/2582163/4084039\n",
    "cols = ['Date' if x=='project_submitted_datetime' else x for x in list(project_data.columns)]\n",
    "\n",
    "# https://stackoverflow.com/a/49702492/4084039\n",
    "project_data['Date'] = pd.to_datetime(project_data['project_submitted_datetime'])\n",
    "project_data.drop('project_submitted_datetime', axis = 'columns', inplace=True)\n",
    "project_data.sort_values(by=['Date'], inplace=True)\n",
    "\n",
    "# https://stackoverflow.com/a/13148611/4084039\n",
    "project_data = project_data[cols]"
   ]
  },
  {
   "cell_type": "code",
   "execution_count": 8,
   "metadata": {},
   "outputs": [],
   "source": [
    "# consider we have text like this \"Math & Science, Warmth, Care & Hunger\"\n",
    "# it will split it in three parts [\"Math & Science\", \"Warmth\", \"Care & Hunger\"]\n",
    "# this will split each of the catogory based on space \"Math & Science\"=> \"Math\",\"&\", \"Science\"\n",
    "# if we have the words \"The\" we are going to replace it with ''(i.e removing 'The')\n",
    "# we are placeing all the ' '(space) with ''(empty) ex:\"Math & Science\"=>\"Math&Science\"\n",
    "#\" abc \".strip() will return \"abc\", remove the trailing spaces\n",
    "# we are replacing the & value into _\n",
    "\n",
    "def preprocess(param1):\n",
    "    lst=list()\n",
    "    for i in param1:\n",
    "        temp=''\n",
    "        for j in i.split(','):\n",
    "            if 'The' in j.split():\n",
    "                j=j.replace('The', '')\n",
    "            j=j.replace(' ', '')\n",
    "            j=j.lower()\n",
    "            temp+=j.strip()+ ' '\n",
    "            temp = temp.replace('&', '_')\n",
    "        lst.append(temp.strip())\n",
    "    return lst"
   ]
  },
  {
   "cell_type": "code",
   "execution_count": 11,
   "metadata": {},
   "outputs": [],
   "source": [
    "# https://stackoverflow.com/a/47301924/4084039\n",
    "# https://www.geeksforgeeks.org/removing-stop-words-nltk-python/\n",
    "# https://stackoverflow.com/questions/23669024/how-to-strip-a-specific-word-from-a-string\n",
    "# https://stackoverflow.com/questions/8270092/remove-all-whitespace-in-a-string-in-python\n",
    "\n",
    "\n",
    "categories = list(project_data['project_subject_categories'].values)\n",
    "\n",
    "project_data['clean_categories'] = preprocess(categories)\n",
    "#project_data.drop(['project_subject_categories'], axis='columns', inplace=True)\n",
    "\n",
    "\n",
    "\n",
    "cnt = Counter()\n",
    "for word in project_data['clean_categories'].values:\n",
    "    cnt.update(word.split())\n",
    "\n",
    "cat_dict = dict(cnt)\n",
    "sorted_cat_dict = dict(sorted(cat_dict.items(), key=lambda kv:kv[1]))\n",
    "        "
   ]
  },
  {
   "cell_type": "code",
   "execution_count": 12,
   "metadata": {},
   "outputs": [],
   "source": [
    "# https://stackoverflow.com/a/47301924/4084039\n",
    "# https://www.geeksforgeeks.org/removing-stop-words-nltk-python/\n",
    "# https://stackoverflow.com/questions/23669024/how-to-strip-a-specific-word-from-a-string\n",
    "# https://stackoverflow.com/questions/8270092/remove-all-whitespace-in-a-string-in-python\n",
    "\n",
    "\n",
    "sub_categories = list(project_data['project_subject_subcategories'].values)\n",
    "\n",
    "project_data['clean_subcategories'] = preprocess(sub_categories)\n",
    "project_data.drop(['project_subject_subcategories'], axis='columns', inplace=True)\n",
    "\n",
    "\n",
    "\n",
    "cnt = Counter()\n",
    "for word in project_data['clean_subcategories'].values:\n",
    "    cnt.update(word.split())\n",
    "\n",
    "sub_cat_dict = dict(cnt)\n",
    "sorted_sub_cat_dict = dict(sorted(sub_cat_dict.items(), key=lambda kv:kv[1]))\n",
    "        "
   ]
  },
  {
   "cell_type": "code",
   "execution_count": 13,
   "metadata": {},
   "outputs": [],
   "source": [
    "project_data['teacher_prefix'] = project_data['teacher_prefix'].fillna(\"\")\n",
    "teacher_pfx = list(project_data['teacher_prefix'].values)\n",
    "\n",
    "teacher_pfx_list = []\n",
    "for i in teacher_pfx:\n",
    "    temp = \"\"\n",
    "    for j in i.split(','):\n",
    "        if 'The' in j.split():\n",
    "            j=j.replace('The', '')\n",
    "        j = j.replace('.','')\n",
    "        j = j.lower()\n",
    "        temp +=j.strip()+\" \"\n",
    "    teacher_pfx_list.append(temp.strip()) \n",
    "    \n",
    "project_data['clean_teacher_prefix'] = teacher_pfx_list\n",
    "project_data.drop(['teacher_prefix'], axis=1, inplace=True)\n",
    "\n",
    "# count of all the words in corpus\n",
    "my_counter = Counter()\n",
    "for word in project_data['clean_teacher_prefix'].values:\n",
    "    my_counter.update(word.split())\n",
    "\n",
    "teacher_prefix_dict = dict(my_counter)\n",
    "sorted_teacher_prefix_dict = dict(sorted(teacher_prefix_dict.items(), key=lambda kv:kv[1]))\n"
   ]
  },
  {
   "cell_type": "code",
   "execution_count": 14,
   "metadata": {},
   "outputs": [],
   "source": [
    "prj_grd_cat = list(project_data['project_grade_category'].values)\n",
    "\n",
    "prj_grd_cat_list = []\n",
    "for i in prj_grd_cat:\n",
    "    temp = \"\"\n",
    "    for j in i.split(','):\n",
    "        if 'The' in j.split():\n",
    "            j=j.replace('The', '')\n",
    "        j = j.replace(' ','_')\n",
    "        j = j.replace('-','_')\n",
    "        j = j.lower()\n",
    "        temp +=j.strip()+\" \"\n",
    "    prj_grd_cat_list.append(temp.strip()) \n",
    "    \n",
    "project_data['clean_project_grade_category'] = prj_grd_cat_list\n",
    "project_data.drop(['project_grade_category'], axis=1, inplace=True)\n",
    "\n",
    "# count of all the words in corpus\n",
    "my_counter = Counter()\n",
    "for word in project_data['clean_project_grade_category'].values:\n",
    "    my_counter.update(word.split())\n",
    "\n",
    "project_grade_category_dict = dict(my_counter)\n",
    "sorted_project_grade_category_dict = dict(sorted(project_grade_category_dict.items(), key=lambda kv:kv[1]))"
   ]
  },
  {
   "cell_type": "code",
   "execution_count": 15,
   "metadata": {},
   "outputs": [],
   "source": [
    "state = list(project_data['school_state'].values)\n",
    "\n",
    "state_list = []\n",
    "for i in state:\n",
    "    temp = \"\"\n",
    "    for j in i.split(','):\n",
    "        if 'The' in j.split():\n",
    "            j=j.replace('The', '')\n",
    "        j = j.replace(' ','_')\n",
    "        j=j.lower()\n",
    "        temp +=j.strip()+\" \"\n",
    "        temp = temp.replace('&','')\n",
    "    state_list.append(temp.strip()) \n",
    "    \n",
    "project_data['clean_state'] = state_list\n",
    "\n",
    "project_data.drop(['school_state'], axis=1, inplace=True)\n",
    "\n",
    "# count of all the words in corpus\n",
    "my_counter = Counter()\n",
    "for word in project_data['clean_state'].values:\n",
    "    my_counter.update(word.split())\n",
    "\n",
    "state_dict = dict(my_counter)\n",
    "sorted_state_dict = dict(sorted(state_dict.items(), key=lambda kv:kv[1]))"
   ]
  },
  {
   "cell_type": "code",
   "execution_count": 16,
   "metadata": {},
   "outputs": [],
   "source": [
    "# merge two column text dataframe: \n",
    "project_data[\"essay\"] = project_data[\"project_essay_1\"].map(str) +\\\n",
    "                        project_data[\"project_essay_2\"].map(str) + \\\n",
    "                        project_data[\"project_essay_3\"].map(str) + \\\n",
    "                        project_data[\"project_essay_4\"].map(str)"
   ]
  },
  {
   "cell_type": "code",
   "execution_count": 17,
   "metadata": {},
   "outputs": [],
   "source": [
    "project_data.drop([\"project_essay_1\"], axis=1, inplace=True)\n",
    "project_data.drop([\"project_essay_2\"], axis=1, inplace=True)\n",
    "project_data.drop([\"project_essay_3\"], axis=1, inplace=True)\n",
    "project_data.drop([\"project_essay_4\"], axis=1, inplace=True)"
   ]
  },
  {
   "cell_type": "code",
   "execution_count": 18,
   "metadata": {},
   "outputs": [],
   "source": [
    "# https://stackoverflow.com/a/47091490/4084039\n",
    "\n",
    "def decontracted(phrase):\n",
    "    # specific\n",
    "    phrase = re.sub(r\"won't\", \"will not\", phrase)\n",
    "    phrase = re.sub(r\"can\\'t\", \"can not\", phrase)\n",
    "\n",
    "    # general\n",
    "    phrase = re.sub(r\"n\\'t\", \" not\", phrase)\n",
    "    phrase = re.sub(r\"\\'re\", \" are\", phrase)\n",
    "    phrase = re.sub(r\"\\'s\", \" is\", phrase)\n",
    "    phrase = re.sub(r\"\\'d\", \" would\", phrase)\n",
    "    phrase = re.sub(r\"\\'ll\", \" will\", phrase)\n",
    "    phrase = re.sub(r\"\\'t\", \" not\", phrase)\n",
    "    phrase = re.sub(r\"\\'ve\", \" have\", phrase)\n",
    "    phrase = re.sub(r\"\\'m\", \" am\", phrase)\n",
    "    return phrase"
   ]
  },
  {
   "cell_type": "code",
   "execution_count": 19,
   "metadata": {},
   "outputs": [],
   "source": [
    "# https://gist.github.com/sebleier/554280\n",
    "# we are removing the words from the stop words list: 'no', 'nor', 'not'\n",
    "stopwords= ['i', 'me', 'my', 'myself', 'we', 'our', 'ours', 'ourselves', 'you', \"you're\", \"you've\",\\\n",
    "            \"you'll\", \"you'd\", 'your', 'yours', 'yourself', 'yourselves', 'he', 'him', 'his', 'himself', \\\n",
    "            'she', \"she's\", 'her', 'hers', 'herself', 'it', \"it's\", 'its', 'itself', 'they', 'them', 'their',\\\n",
    "            'theirs', 'themselves', 'what', 'which', 'who', 'whom', 'this', 'that', \"that'll\", 'these', 'those', \\\n",
    "            'am', 'is', 'are', 'was', 'were', 'be', 'been', 'being', 'have', 'has', 'had', 'having', 'do', 'does', \\\n",
    "            'did', 'doing', 'a', 'an', 'the', 'and', 'but', 'if', 'or', 'because', 'as', 'until', 'while', 'of', \\\n",
    "            'at', 'by', 'for', 'with', 'about', 'against', 'between', 'into', 'through', 'during', 'before', 'after',\\\n",
    "            'above', 'below', 'to', 'from', 'up', 'down', 'in', 'out', 'on', 'off', 'over', 'under', 'again', 'further',\\\n",
    "            'then', 'once', 'here', 'there', 'when', 'where', 'why', 'how', 'all', 'any', 'both', 'each', 'few', 'more',\\\n",
    "            'most', 'other', 'some', 'such', 'only', 'own', 'same', 'so', 'than', 'too', 'very', \\\n",
    "            's', 't', 'can', 'will', 'just', 'don', \"don't\", 'should', \"should've\", 'now', 'd', 'll', 'm', 'o', 're', \\\n",
    "            've', 'y', 'ain', 'aren', \"aren't\", 'couldn', \"couldn't\", 'didn', \"didn't\", 'doesn', \"doesn't\", 'hadn',\\\n",
    "            \"hadn't\", 'hasn', \"hasn't\", 'haven', \"haven't\", 'isn', \"isn't\", 'ma', 'mightn', \"mightn't\", 'mustn',\\\n",
    "            \"mustn't\", 'needn', \"needn't\", 'shan', \"shan't\", 'shouldn', \"shouldn't\", 'wasn', \"wasn't\", 'weren', \"weren't\", \\\n",
    "            'won', \"won't\", 'wouldn', \"wouldn't\"]"
   ]
  },
  {
   "cell_type": "code",
   "execution_count": 26,
   "metadata": {},
   "outputs": [
    {
     "name": "stderr",
     "output_type": "stream",
     "text": [
      "100%|██████████| 109248/109248 [01:19<00:00, 1378.99it/s]\n"
     ]
    }
   ],
   "source": [
    "preprocessed_essays = list()\n",
    "# tqdm is for printing the status bar\n",
    "for sentance in tqdm(project_data['essay'].values):\n",
    "    sent = decontracted(sentance)\n",
    "    sent = sent.replace('\\\\r', ' ')\n",
    "    sent = sent.replace('\\\\\"', ' ')\n",
    "    sent = sent.replace('\\\\n', ' ')\n",
    "    sent = re.sub('[^A-Za-z0-9]+', ' ', sent)\n",
    "    # https://gist.github.com/sebleier/554280\n",
    "    sent = ' '.join(e for e in sent.split() if e.lower() not in stopwords)\n",
    "    preprocessed_essays.append(sent.lower().strip())\n",
    "project_data['clean_essays'] = preprocessed_essays\n",
    "project_data.drop('essay', axis=1, inplace=True)"
   ]
  },
  {
   "cell_type": "markdown",
   "metadata": {},
   "source": [
    "### Computing Sentiment Scores of clean_essays"
   ]
  },
  {
   "cell_type": "code",
   "execution_count": 27,
   "metadata": {},
   "outputs": [
    {
     "name": "stderr",
     "output_type": "stream",
     "text": [
      "  0%|          | 38/109248 [00:00<04:51, 374.13it/s]"
     ]
    },
    {
     "name": "stdout",
     "output_type": "stream",
     "text": [
      "[nltk_data] Downloading package vader_lexicon to\n",
      "[nltk_data]     /Users/swatisharma/nltk_data...\n",
      "[nltk_data]   Package vader_lexicon is already up-to-date!\n"
     ]
    },
    {
     "name": "stderr",
     "output_type": "stream",
     "text": [
      "100%|██████████| 109248/109248 [04:23<00:00, 415.07it/s]\n"
     ]
    }
   ],
   "source": [
    "from nltk.sentiment.vader import SentimentIntensityAnalyzer\n",
    "import nltk\n",
    "nltk.download('vader_lexicon')\n",
    "\n",
    "sid = SentimentIntensityAnalyzer()\n",
    "neg_score = list()\n",
    "neu_score = list()\n",
    "pos_score = list()\n",
    "compound_score = list()\n",
    "for essay in tqdm(project_data['clean_essays'].values):\n",
    "    ss = sid.polarity_scores(essay)\n",
    "    neg_score.append(ss['neg'])\n",
    "    neu_score.append(ss['neu'])\n",
    "    pos_score.append(ss['pos']) \n",
    "    compound_score.append(ss['compound'])   \n",
    "project_data['sentiment_score_neg'] = neg_score\n",
    "project_data['sentiment_score_neu'] = neu_score\n",
    "project_data['sentiment_score_pos'] = pos_score\n",
    "project_data['sentiment_score_compound'] = compound_score\n",
    "project_data['sentiment_score_neg'] = project_data['sentiment_score_neg'].astype(float)\n",
    "project_data['sentiment_score_neu'] = project_data['sentiment_score_neu'].astype(float)\n",
    "project_data['sentiment_score_pos'] = project_data['sentiment_score_pos'].astype(float)\n",
    "project_data['sentiment_score_compound'] = project_data['sentiment_score_compound'].astype(float)"
   ]
  },
  {
   "cell_type": "markdown",
   "metadata": {},
   "source": [
    "### Computing number of words in clean_essays"
   ]
  },
  {
   "cell_type": "code",
   "execution_count": 28,
   "metadata": {},
   "outputs": [
    {
     "name": "stderr",
     "output_type": "stream",
     "text": [
      "100%|██████████| 109248/109248 [00:00<00:00, 981113.66it/s]\n"
     ]
    }
   ],
   "source": [
    "essay_length = list()\n",
    "for essay in tqdm(project_data['clean_essays'].values):\n",
    "    length = len(essay)\n",
    "    essay_length.append(length)\n",
    "project_data['clean_essay_length'] = essay_length\n",
    "project_data['clean_essay_length'] = project_data['clean_essay_length'].astype(float)"
   ]
  },
  {
   "cell_type": "code",
   "execution_count": 29,
   "metadata": {},
   "outputs": [
    {
     "name": "stderr",
     "output_type": "stream",
     "text": [
      "100%|██████████| 109248/109248 [00:03<00:00, 27898.80it/s]\n"
     ]
    }
   ],
   "source": [
    "preprocessed_titles = []\n",
    "# tqdm is for printing the status bar\n",
    "for sentence in tqdm(project_data['project_title'].values):\n",
    "    sent2 = decontracted(sentence)\n",
    "    sent2 = sent2.replace('\\\\r', ' ')\n",
    "    sent2 = sent2.replace('\\\\\"', ' ')\n",
    "    sent2 = sent2.replace('\\\\n', ' ')\n",
    "    sent2 = re.sub('[^A-Za-z0-9]+', ' ', sent2)\n",
    "    # https://gist.github.com/sebleier/554280\n",
    "    sent2 = ' '.join(e for e in sent2.split() if e not in stopwords)\n",
    "    preprocessed_titles.append(sent2.lower().strip())\n",
    "    \n",
    "project_data['clean_project_title'] = preprocessed_titles\n",
    "project_data.drop('project_title', axis=1, inplace=True)"
   ]
  },
  {
   "cell_type": "markdown",
   "metadata": {},
   "source": [
    "### Computing number of words in clean_project_title"
   ]
  },
  {
   "cell_type": "code",
   "execution_count": 30,
   "metadata": {},
   "outputs": [
    {
     "name": "stderr",
     "output_type": "stream",
     "text": [
      "100%|██████████| 109248/109248 [00:00<00:00, 1099794.12it/s]\n"
     ]
    }
   ],
   "source": [
    "title_length = list()\n",
    "for title in tqdm(project_data['clean_project_title'].values):\n",
    "    length = len(title)\n",
    "    title_length.append(length)\n",
    "project_data['clean_title_length'] = title_length\n",
    "project_data['clean_title_length'] = project_data['clean_title_length'].astype(float)"
   ]
  },
  {
   "cell_type": "code",
   "execution_count": 32,
   "metadata": {},
   "outputs": [],
   "source": [
    "# https://cmdlinetips.com/2018/02/how-to-randomly-select-rows-in-pandas-pandas-tutorial/\n",
    "\n",
    "project_data = project_data.sample(n=50000)"
   ]
  },
  {
   "cell_type": "code",
   "execution_count": 33,
   "metadata": {},
   "outputs": [
    {
     "data": {
      "text/plain": [
       "(50000, 24)"
      ]
     },
     "execution_count": 33,
     "metadata": {},
     "output_type": "execute_result"
    }
   ],
   "source": [
    "project_data.shape"
   ]
  },
  {
   "cell_type": "code",
   "execution_count": null,
   "metadata": {},
   "outputs": [],
   "source": [
    "y = project_data['project_is_approved'].values\n",
    "project_data.drop(['project_is_approved'], axis='columns', inplace=True)\n",
    "X = project_data"
   ]
  },
  {
   "cell_type": "markdown",
   "metadata": {},
   "source": [
    "# Train-Test Split"
   ]
  },
  {
   "cell_type": "code",
   "execution_count": null,
   "metadata": {},
   "outputs": [],
   "source": [
    "# train test split\n",
    "\n",
    "from sklearn.model_selection import train_test_split\n",
    "X_train, X_test, y_train, y_test = train_test_split(X, y, test_size=0.3, stratify=y)"
   ]
  },
  {
   "cell_type": "code",
   "execution_count": null,
   "metadata": {},
   "outputs": [],
   "source": [
    "# https://www.jessicayung.com/how-to-use-pickle-to-save-and-load-variables-in-python/\n",
    "\n",
    "with open('train_test_split_M11.pickle', 'wb') as f:\n",
    "    pickle.dump([X_train, X_test, y_train, y_test], f)"
   ]
  },
  {
   "cell_type": "code",
   "execution_count": 2,
   "metadata": {},
   "outputs": [],
   "source": [
    "with open('train_test_split_M11.pickle', 'rb') as f:\n",
    "    X_train, X_test, y_train, y_test = pickle.load(f)"
   ]
  },
  {
   "cell_type": "markdown",
   "metadata": {},
   "source": [
    "## Make Data Model Ready"
   ]
  },
  {
   "cell_type": "markdown",
   "metadata": {},
   "source": [
    "### Vectorizing Categorical Data"
   ]
  },
  {
   "cell_type": "code",
   "execution_count": 21,
   "metadata": {},
   "outputs": [],
   "source": [
    "def categorical_vectorization(train_column, test_column):\n",
    "    vectorizer = CountVectorizer()\n",
    "    vectorizer.fit(train_column)\n",
    "    X_train_val_ohe = vectorizer.transform(train_column)\n",
    "    X_test_val_ohe = vectorizer.transform(test_column)\n",
    "    ft_name = vectorizer.get_feature_names()\n",
    "    return (X_train_val_ohe, X_test_val_ohe, ft_name)"
   ]
  },
  {
   "cell_type": "markdown",
   "metadata": {},
   "source": [
    "#### clean_state column"
   ]
  },
  {
   "cell_type": "code",
   "execution_count": 22,
   "metadata": {},
   "outputs": [
    {
     "name": "stdout",
     "output_type": "stream",
     "text": [
      "After vectorizations\n",
      "(455004, 51) (455004,)\n",
      "(195003, 51) (195003,)\n",
      "['ak', 'al', 'ar', 'az', 'ca', 'co', 'ct', 'dc', 'de', 'fl', 'ga', 'hi', 'ia', 'id', 'il', 'in', 'ks', 'ky', 'la', 'ma', 'md', 'me', 'mi', 'mn', 'mo', 'ms', 'mt', 'nc', 'nd', 'ne', 'nh', 'nj', 'nm', 'nv', 'ny', 'oh', 'ok', 'or', 'pa', 'ri', 'sc', 'sd', 'tn', 'tx', 'ut', 'va', 'vt', 'wa', 'wi', 'wv', 'wy']\n",
      "====================================================================================================\n"
     ]
    }
   ],
   "source": [
    "tra1 = X_train['clean_state'].values\n",
    "tes1 = X_test['clean_state'].values\n",
    "X_train_state_ohe, X_test_state_ohe, feat1 = categorical_vectorization(tra1, tes1)\n",
    "\n",
    "print(\"After vectorizations\")\n",
    "print(X_train_state_ohe.shape, y_train.shape)\n",
    "print(X_test_state_ohe.shape, y_test.shape)\n",
    "print(feat1)\n",
    "print(\"=\"*100)"
   ]
  },
  {
   "cell_type": "markdown",
   "metadata": {},
   "source": [
    "#### clean_categories"
   ]
  },
  {
   "cell_type": "code",
   "execution_count": 23,
   "metadata": {},
   "outputs": [
    {
     "name": "stdout",
     "output_type": "stream",
     "text": [
      "After vectorizations\n",
      "(455004, 9) (455004,)\n",
      "(195003, 9) (195003,)\n",
      "['appliedlearning', 'care_hunger', 'health_sports', 'history_civics', 'literacy_language', 'math_science', 'music_arts', 'specialneeds', 'warmth']\n",
      "====================================================================================================\n"
     ]
    }
   ],
   "source": [
    "tra2 = X_train['clean_categories'].values\n",
    "tes2 = X_test['clean_categories'].values\n",
    "X_train_clean_categories_ohe, X_test_clean_categories_ohe, feat2 = categorical_vectorization(tra2, tes2)\n",
    "print(\"After vectorizations\")\n",
    "print(X_train_clean_categories_ohe.shape, y_train.shape)\n",
    "print(X_test_clean_categories_ohe.shape, y_test.shape)\n",
    "print(feat2)\n",
    "print(\"=\"*100)"
   ]
  },
  {
   "cell_type": "markdown",
   "metadata": {},
   "source": [
    "#### clean_subcategories "
   ]
  },
  {
   "cell_type": "code",
   "execution_count": 24,
   "metadata": {},
   "outputs": [
    {
     "name": "stdout",
     "output_type": "stream",
     "text": [
      "After vectorizations\n",
      "(455004, 30) (455004,)\n",
      "(195003, 30) (195003,)\n",
      "['appliedsciences', 'care_hunger', 'charactereducation', 'civics_government', 'college_careerprep', 'communityservice', 'earlydevelopment', 'economics', 'environmentalscience', 'esl', 'extracurricular', 'financialliteracy', 'foreignlanguages', 'gym_fitness', 'health_lifescience', 'health_wellness', 'history_geography', 'literacy', 'literature_writing', 'mathematics', 'music', 'nutritioneducation', 'other', 'parentinvolvement', 'performingarts', 'socialsciences', 'specialneeds', 'teamsports', 'visualarts', 'warmth']\n",
      "====================================================================================================\n"
     ]
    }
   ],
   "source": [
    "tra3 = X_train['clean_subcategories'].values\n",
    "tes3 = X_test['clean_subcategories'].values\n",
    "X_train_clean_subcategories_ohe, X_test_clean_subcategories_ohe, feat3 = categorical_vectorization(tra3, tes3)\n",
    "print(\"After vectorizations\")\n",
    "print(X_train_clean_subcategories_ohe.shape, y_train.shape)\n",
    "print(X_test_clean_subcategories_ohe.shape, y_test.shape)\n",
    "print(feat3)\n",
    "print(\"=\"*100)"
   ]
  },
  {
   "cell_type": "markdown",
   "metadata": {},
   "source": [
    "#### clean_project_grade_category"
   ]
  },
  {
   "cell_type": "code",
   "execution_count": 25,
   "metadata": {},
   "outputs": [
    {
     "name": "stdout",
     "output_type": "stream",
     "text": [
      "After vectorizations\n",
      "(455004, 4) (455004,)\n",
      "(195003, 4) (195003,)\n",
      "['grades_3_5', 'grades_6_8', 'grades_9_12', 'grades_prek_2']\n",
      "====================================================================================================\n"
     ]
    }
   ],
   "source": [
    "tra4 = X_train['clean_project_grade_category'].values\n",
    "tes4 = X_test['clean_project_grade_category'].values\n",
    "X_train_clean_project_grade_category_ohe, X_test_clean_project_grade_category_ohe, feat4 = categorical_vectorization(tra4, tes4)\n",
    "print(\"After vectorizations\")\n",
    "print(X_train_clean_project_grade_category_ohe.shape, y_train.shape)\n",
    "print(X_test_clean_project_grade_category_ohe.shape, y_test.shape)\n",
    "print(feat4)\n",
    "print(\"=\"*100)"
   ]
  },
  {
   "cell_type": "markdown",
   "metadata": {},
   "source": [
    "#### clean_teacher_prefix "
   ]
  },
  {
   "cell_type": "code",
   "execution_count": 26,
   "metadata": {},
   "outputs": [
    {
     "name": "stdout",
     "output_type": "stream",
     "text": [
      "After vectorizations\n",
      "(455004, 5) (455004,)\n",
      "(195003, 5) (195003,)\n",
      "['dr', 'mr', 'mrs', 'ms', 'teacher']\n",
      "====================================================================================================\n"
     ]
    }
   ],
   "source": [
    "tra5 = X_train['clean_teacher_prefix'].values\n",
    "tes5 = X_test['clean_teacher_prefix'].values\n",
    "X_train_clean_teacher_prefix_category_ohe, X_test_clean_teacher_prefix_category_ohe, feat5 = categorical_vectorization(tra5, tes5)\n",
    "print(\"After vectorizations\")\n",
    "print(X_train_clean_teacher_prefix_category_ohe.shape, y_train.shape)\n",
    "print(X_test_clean_teacher_prefix_category_ohe.shape, y_test.shape)\n",
    "print(feat5)\n",
    "print(\"=\"*100)"
   ]
  },
  {
   "cell_type": "markdown",
   "metadata": {},
   "source": [
    "### Vectorizing Numerical Data"
   ]
  },
  {
   "cell_type": "code",
   "execution_count": 64,
   "metadata": {},
   "outputs": [],
   "source": [
    "def numerical_vectorization(train_column, test_column):\n",
    "    normalizer = Normalizer()\n",
    "    normalizer.fit(train_column)\n",
    "    X_train_val_norm = normalizer.transform(train_column)\n",
    "    X_test_val_norm = normalizer.transform(test_column)\n",
    "    X_train_val_norm = X_train_val_norm.astype(float)\n",
    "    X_test_val_norm = X_test_val_norm.astype(float)\n",
    "    return (X_train_val_norm, X_test_val_norm)"
   ]
  },
  {
   "cell_type": "markdown",
   "metadata": {},
   "source": [
    "#### price"
   ]
  },
  {
   "cell_type": "code",
   "execution_count": 65,
   "metadata": {},
   "outputs": [
    {
     "name": "stdout",
     "output_type": "stream",
     "text": [
      "After vectorizations\n",
      "(35000, 1) (35000,)\n",
      "(15000, 1) (15000,)\n",
      "====================================================================================================\n"
     ]
    }
   ],
   "source": [
    "tra1 = X_train['price'].values.reshape(-1,1)\n",
    "tes1 = X_test['price'].values.reshape(-1,1)\n",
    "X_train_price_norm, X_test_price_norm = numerical_vectorization(tra1, tes1)\n",
    "print(\"After vectorizations\")\n",
    "print(X_train_price_norm.shape, y_train.shape)\n",
    "print(X_test_price_norm.shape, y_test.shape)\n",
    "print(\"=\"*100)"
   ]
  },
  {
   "cell_type": "markdown",
   "metadata": {},
   "source": [
    "#### teacher_number_of_previously_posted_projects"
   ]
  },
  {
   "cell_type": "code",
   "execution_count": 66,
   "metadata": {},
   "outputs": [
    {
     "name": "stdout",
     "output_type": "stream",
     "text": [
      "After vectorizations\n",
      "(35000, 1) (35000,)\n",
      "(15000, 1) (15000,)\n",
      "====================================================================================================\n"
     ]
    }
   ],
   "source": [
    "tra2 = X_train['teacher_number_of_previously_posted_projects'].values.reshape(-1,1)\n",
    "tes2 = X_test['teacher_number_of_previously_posted_projects'].values.reshape(-1,1)\n",
    "X_train_teacher_number_of_previously_posted_projects_norm, X_test_teacher_number_of_previously_posted_projects_norm = numerical_vectorization(tra2, tes2)\n",
    "print(\"After vectorizations\")\n",
    "print(X_train_teacher_number_of_previously_posted_projects_norm.shape, y_train.shape)\n",
    "print(X_test_teacher_number_of_previously_posted_projects_norm.shape, y_test.shape)\n",
    "print(\"=\"*100)"
   ]
  },
  {
   "cell_type": "markdown",
   "metadata": {},
   "source": [
    "#### quantity"
   ]
  },
  {
   "cell_type": "code",
   "execution_count": 67,
   "metadata": {},
   "outputs": [
    {
     "name": "stdout",
     "output_type": "stream",
     "text": [
      "After vectorizations\n",
      "(35000, 1) (35000,)\n",
      "(15000, 1) (15000,)\n",
      "====================================================================================================\n"
     ]
    }
   ],
   "source": [
    "tra3 = X_train['quantity'].values.reshape(-1,1)\n",
    "tes3 = X_test['quantity'].values.reshape(-1,1)\n",
    "X_train_quantity_norm, X_test_quantity_norm = numerical_vectorization(tra3, tes3)\n",
    "print(\"After vectorizations\")\n",
    "print(X_train_quantity_norm.shape, y_train.shape)\n",
    "print(X_test_quantity_norm.shape, y_test.shape)\n",
    "print(\"=\"*100)"
   ]
  },
  {
   "cell_type": "markdown",
   "metadata": {},
   "source": [
    "#### sentiment_score_neg"
   ]
  },
  {
   "cell_type": "code",
   "execution_count": 68,
   "metadata": {},
   "outputs": [
    {
     "name": "stdout",
     "output_type": "stream",
     "text": [
      "After vectorizations\n",
      "(35000, 1) (35000,)\n",
      "(15000, 1) (15000,)\n",
      "====================================================================================================\n"
     ]
    }
   ],
   "source": [
    "tra4 = X_train['sentiment_score_neg'].values.reshape(-1,1)\n",
    "tes4 = X_test['sentiment_score_neg'].values.reshape(-1,1)\n",
    "X_train_sentiment_score_neg_norm, X_test_sentiment_score_neg_norm = numerical_vectorization(tra4, tes4)\n",
    "print(\"After vectorizations\")\n",
    "print(X_train_sentiment_score_neg_norm.shape, y_train.shape)\n",
    "print(X_test_sentiment_score_neg_norm.shape, y_test.shape)\n",
    "print(\"=\"*100)"
   ]
  },
  {
   "cell_type": "markdown",
   "metadata": {},
   "source": [
    "#### sentiment_score_neu"
   ]
  },
  {
   "cell_type": "code",
   "execution_count": 69,
   "metadata": {},
   "outputs": [
    {
     "name": "stdout",
     "output_type": "stream",
     "text": [
      "After vectorizations\n",
      "(35000, 1) (35000,)\n",
      "(15000, 1) (15000,)\n",
      "====================================================================================================\n"
     ]
    }
   ],
   "source": [
    "tra5 = X_train['sentiment_score_neu'].values.reshape(-1,1)\n",
    "tes5 = X_test['sentiment_score_neu'].values.reshape(-1,1)\n",
    "X_train_sentiment_score_neu_norm, X_test_sentiment_score_neu_norm = numerical_vectorization(tra5, tes5)\n",
    "print(\"After vectorizations\")\n",
    "print(X_train_sentiment_score_neu_norm.shape, y_train.shape)\n",
    "print(X_test_sentiment_score_neu_norm.shape, y_test.shape)\n",
    "print(\"=\"*100)"
   ]
  },
  {
   "cell_type": "markdown",
   "metadata": {},
   "source": [
    "#### sentiment_score_pos"
   ]
  },
  {
   "cell_type": "code",
   "execution_count": 70,
   "metadata": {},
   "outputs": [
    {
     "name": "stdout",
     "output_type": "stream",
     "text": [
      "After vectorizations\n",
      "(35000, 1) (35000,)\n",
      "(15000, 1) (15000,)\n",
      "====================================================================================================\n"
     ]
    }
   ],
   "source": [
    "tra6 = X_train['sentiment_score_pos'].values.reshape(-1,1)\n",
    "tes6 = X_test['sentiment_score_pos'].values.reshape(-1,1)\n",
    "X_train_sentiment_score_pos_norm, X_test_sentiment_score_pos_norm = numerical_vectorization(tra6, tes6)\n",
    "print(\"After vectorizations\")\n",
    "print(X_train_sentiment_score_pos_norm.shape, y_train.shape)\n",
    "print(X_test_sentiment_score_pos_norm.shape, y_test.shape)\n",
    "print(\"=\"*100)"
   ]
  },
  {
   "cell_type": "markdown",
   "metadata": {},
   "source": [
    "#### sentiment_score_compound"
   ]
  },
  {
   "cell_type": "code",
   "execution_count": 71,
   "metadata": {},
   "outputs": [
    {
     "name": "stdout",
     "output_type": "stream",
     "text": [
      "After vectorizations\n",
      "(35000, 1) (35000,)\n",
      "(15000, 1) (15000,)\n",
      "====================================================================================================\n"
     ]
    }
   ],
   "source": [
    "tra7 = X_train['sentiment_score_compound'].values.reshape(-1,1)\n",
    "tes7 = X_test['sentiment_score_compound'].values.reshape(-1,1)\n",
    "X_train_sentiment_score_compound_norm, X_test_sentiment_score_compound_norm = numerical_vectorization(tra7, tes7)\n",
    "print(\"After vectorizations\")\n",
    "print(X_train_sentiment_score_compound_norm.shape, y_train.shape)\n",
    "print(X_test_sentiment_score_compound_norm.shape, y_test.shape)\n",
    "print(\"=\"*100)"
   ]
  },
  {
   "cell_type": "markdown",
   "metadata": {},
   "source": [
    "#### clean_title_length"
   ]
  },
  {
   "cell_type": "code",
   "execution_count": 72,
   "metadata": {},
   "outputs": [
    {
     "name": "stdout",
     "output_type": "stream",
     "text": [
      "After vectorizations\n",
      "(35000, 1) (35000,)\n",
      "(15000, 1) (15000,)\n",
      "====================================================================================================\n"
     ]
    }
   ],
   "source": [
    "tra8 = X_train['clean_title_length'].values.reshape(-1,1)\n",
    "tes8 = X_test['clean_title_length'].values.reshape(-1,1)\n",
    "X_train_clean_title_length_norm, X_test_clean_title_length_norm = numerical_vectorization(tra8, tes8)\n",
    "print(\"After vectorizations\")\n",
    "print(X_train_clean_title_length_norm.shape, y_train.shape)\n",
    "print(X_test_clean_title_length_norm.shape, y_test.shape)\n",
    "print(\"=\"*100)"
   ]
  },
  {
   "cell_type": "markdown",
   "metadata": {},
   "source": [
    "#### clean_essay_length"
   ]
  },
  {
   "cell_type": "code",
   "execution_count": 73,
   "metadata": {},
   "outputs": [
    {
     "name": "stdout",
     "output_type": "stream",
     "text": [
      "After vectorizations\n",
      "(35000, 1) (35000,)\n",
      "(15000, 1) (15000,)\n",
      "====================================================================================================\n"
     ]
    }
   ],
   "source": [
    "tra9 = X_train['clean_essay_length'].values.reshape(-1,1)\n",
    "tes9 = X_test['clean_essay_length'].values.reshape(-1,1)\n",
    "X_train_clean_essay_length_norm, X_test_clean_essay_length_norm = numerical_vectorization(tra9, tes9)\n",
    "print(\"After vectorizations\")\n",
    "print(X_train_clean_essay_length_norm.shape, y_train.shape)\n",
    "print(X_test_clean_essay_length_norm.shape, y_test.shape)\n",
    "print(\"=\"*100)"
   ]
  },
  {
   "cell_type": "markdown",
   "metadata": {},
   "source": [
    "# Combining Essay and Title for X_train and X_test"
   ]
  },
  {
   "cell_type": "code",
   "execution_count": 19,
   "metadata": {},
   "outputs": [
    {
     "data": {
      "text/plain": [
       "Index(['Unnamed: 0', 'id', 'teacher_id', 'Date', 'project_subject_categories',\n",
       "       'project_resource_summary',\n",
       "       'teacher_number_of_previously_posted_projects', 'number', 'description',\n",
       "       'price', 'quantity', 'clean_categories', 'clean_subcategories',\n",
       "       'clean_teacher_prefix', 'clean_project_grade_category', 'clean_state',\n",
       "       'clean_essays', 'sentiment_score_neg', 'sentiment_score_neu',\n",
       "       'sentiment_score_pos', 'sentiment_score_compound', 'clean_essay_length',\n",
       "       'clean_project_title', 'clean_title_length'],\n",
       "      dtype='object')"
      ]
     },
     "execution_count": 19,
     "metadata": {},
     "output_type": "execute_result"
    }
   ],
   "source": [
    "X_train.columns"
   ]
  },
  {
   "cell_type": "code",
   "execution_count": 20,
   "metadata": {},
   "outputs": [],
   "source": [
    "X_train['Essay_title'] = X_train['clean_essays'].map(str) + X_train['clean_project_title'].map(str)"
   ]
  },
  {
   "cell_type": "code",
   "execution_count": 21,
   "metadata": {},
   "outputs": [
    {
     "data": {
      "text/plain": [
       "Index(['Unnamed: 0', 'id', 'teacher_id', 'Date', 'project_subject_categories',\n",
       "       'project_resource_summary',\n",
       "       'teacher_number_of_previously_posted_projects', 'number', 'description',\n",
       "       'price', 'quantity', 'clean_categories', 'clean_subcategories',\n",
       "       'clean_teacher_prefix', 'clean_project_grade_category', 'clean_state',\n",
       "       'clean_essays', 'sentiment_score_neg', 'sentiment_score_neu',\n",
       "       'sentiment_score_pos', 'sentiment_score_compound', 'clean_essay_length',\n",
       "       'clean_project_title', 'clean_title_length', 'Essay_title'],\n",
       "      dtype='object')"
      ]
     },
     "execution_count": 21,
     "metadata": {},
     "output_type": "execute_result"
    }
   ],
   "source": [
    "X_train.columns"
   ]
  },
  {
   "cell_type": "code",
   "execution_count": 22,
   "metadata": {},
   "outputs": [],
   "source": [
    "X_train.drop(['clean_essays'], axis=1, inplace=True)\n",
    "X_train.drop('clean_project_title', axis=1, inplace=True)"
   ]
  },
  {
   "cell_type": "code",
   "execution_count": 23,
   "metadata": {},
   "outputs": [
    {
     "data": {
      "text/plain": [
       "Index(['Unnamed: 0', 'id', 'teacher_id', 'Date', 'project_subject_categories',\n",
       "       'project_resource_summary',\n",
       "       'teacher_number_of_previously_posted_projects', 'number', 'description',\n",
       "       'price', 'quantity', 'clean_categories', 'clean_subcategories',\n",
       "       'clean_teacher_prefix', 'clean_project_grade_category', 'clean_state',\n",
       "       'sentiment_score_neg', 'sentiment_score_neu', 'sentiment_score_pos',\n",
       "       'sentiment_score_compound', 'clean_essay_length', 'clean_title_length',\n",
       "       'Essay_title'],\n",
       "      dtype='object')"
      ]
     },
     "execution_count": 23,
     "metadata": {},
     "output_type": "execute_result"
    }
   ],
   "source": [
    "X_train.columns"
   ]
  },
  {
   "cell_type": "code",
   "execution_count": 24,
   "metadata": {},
   "outputs": [
    {
     "data": {
      "text/plain": [
       "Index(['Unnamed: 0', 'id', 'teacher_id', 'Date', 'project_subject_categories',\n",
       "       'project_resource_summary',\n",
       "       'teacher_number_of_previously_posted_projects', 'number', 'description',\n",
       "       'price', 'quantity', 'clean_categories', 'clean_subcategories',\n",
       "       'clean_teacher_prefix', 'clean_project_grade_category', 'clean_state',\n",
       "       'clean_essays', 'sentiment_score_neg', 'sentiment_score_neu',\n",
       "       'sentiment_score_pos', 'sentiment_score_compound', 'clean_essay_length',\n",
       "       'clean_project_title', 'clean_title_length'],\n",
       "      dtype='object')"
      ]
     },
     "execution_count": 24,
     "metadata": {},
     "output_type": "execute_result"
    }
   ],
   "source": [
    "X_test.columns"
   ]
  },
  {
   "cell_type": "code",
   "execution_count": 25,
   "metadata": {},
   "outputs": [],
   "source": [
    "X_test['Essay_title'] = X_test['clean_essays'].map(str) + X_test['clean_project_title'].map(str)"
   ]
  },
  {
   "cell_type": "code",
   "execution_count": 26,
   "metadata": {},
   "outputs": [
    {
     "data": {
      "text/plain": [
       "Index(['Unnamed: 0', 'id', 'teacher_id', 'Date', 'project_subject_categories',\n",
       "       'project_resource_summary',\n",
       "       'teacher_number_of_previously_posted_projects', 'number', 'description',\n",
       "       'price', 'quantity', 'clean_categories', 'clean_subcategories',\n",
       "       'clean_teacher_prefix', 'clean_project_grade_category', 'clean_state',\n",
       "       'clean_essays', 'sentiment_score_neg', 'sentiment_score_neu',\n",
       "       'sentiment_score_pos', 'sentiment_score_compound', 'clean_essay_length',\n",
       "       'clean_project_title', 'clean_title_length', 'Essay_title'],\n",
       "      dtype='object')"
      ]
     },
     "execution_count": 26,
     "metadata": {},
     "output_type": "execute_result"
    }
   ],
   "source": [
    "X_test.columns"
   ]
  },
  {
   "cell_type": "code",
   "execution_count": 27,
   "metadata": {},
   "outputs": [],
   "source": [
    "X_test.drop(['clean_essays'], axis=1, inplace=True)\n",
    "X_test.drop('clean_project_title', axis=1, inplace=True)"
   ]
  },
  {
   "cell_type": "code",
   "execution_count": 28,
   "metadata": {},
   "outputs": [
    {
     "data": {
      "text/plain": [
       "Index(['Unnamed: 0', 'id', 'teacher_id', 'Date', 'project_subject_categories',\n",
       "       'project_resource_summary',\n",
       "       'teacher_number_of_previously_posted_projects', 'number', 'description',\n",
       "       'price', 'quantity', 'clean_categories', 'clean_subcategories',\n",
       "       'clean_teacher_prefix', 'clean_project_grade_category', 'clean_state',\n",
       "       'sentiment_score_neg', 'sentiment_score_neu', 'sentiment_score_pos',\n",
       "       'sentiment_score_compound', 'clean_essay_length', 'clean_title_length',\n",
       "       'Essay_title'],\n",
       "      dtype='object')"
      ]
     },
     "execution_count": 28,
     "metadata": {},
     "output_type": "execute_result"
    }
   ],
   "source": [
    "X_test.columns"
   ]
  },
  {
   "cell_type": "code",
   "execution_count": 44,
   "metadata": {},
   "outputs": [],
   "source": [
    "with open('Dataset.pickle', 'wb') as f:\n",
    "    pickle.dump([X_train, y_train, X_test, y_test], f)"
   ]
  },
  {
   "cell_type": "markdown",
   "metadata": {},
   "source": [
    "# Calculating IDF values for each word in Essay_title column"
   ]
  },
  {
   "cell_type": "code",
   "execution_count": 56,
   "metadata": {},
   "outputs": [],
   "source": [
    "# https://www.sanfoundry.com/python-program-count-frequency-word-string/\n",
    "\n",
    "sentences_list = []\n",
    "\n",
    "for i in X_train['Essay_title']:\n",
    "    sentences_list.append(i)"
   ]
  },
  {
   "cell_type": "code",
   "execution_count": 58,
   "metadata": {},
   "outputs": [],
   "source": [
    "# https://stackoverflow.com/a/33726420\n",
    "\n",
    "unique_word_doc_corpus = list(set(sentences_list))"
   ]
  },
  {
   "cell_type": "code",
   "execution_count": 59,
   "metadata": {},
   "outputs": [
    {
     "name": "stdout",
     "output_type": "stream",
     "text": [
      "34975\n"
     ]
    }
   ],
   "source": [
    "print(len(unique_word_doc_corpus))"
   ]
  },
  {
   "cell_type": "code",
   "execution_count": 60,
   "metadata": {},
   "outputs": [],
   "source": [
    "total_docs = list(X_train['Essay_title'])"
   ]
  },
  {
   "cell_type": "code",
   "execution_count": 61,
   "metadata": {},
   "outputs": [
    {
     "name": "stdout",
     "output_type": "stream",
     "text": [
      "35000\n"
     ]
    }
   ],
   "source": [
    "print(len(total_docs))"
   ]
  },
  {
   "cell_type": "code",
   "execution_count": null,
   "metadata": {},
   "outputs": [],
   "source": [
    "IDF_ = []\n",
    "for i in unique_word_doc_corpus:\n",
    "    count = 0\n",
    "    for j in total_docs:\n",
    "        if i in j:\n",
    "            count += 1\n",
    "    if count == 0:\n",
    "        IDF_.append(0)\n",
    "    else:\n",
    "        IDF_.append(math.log(len(total_docs)/count))"
   ]
  },
  {
   "cell_type": "code",
   "execution_count": 37,
   "metadata": {},
   "outputs": [],
   "source": [
    "IDF_dict = dict(zip(unique_word_doc_corpus, IDF_))"
   ]
  },
  {
   "cell_type": "code",
   "execution_count": 38,
   "metadata": {},
   "outputs": [],
   "source": [
    "with open('IDF.pickle', 'wb') as f:\n",
    "    pickle.dump(IDF_dict, f)"
   ]
  },
  {
   "cell_type": "markdown",
   "metadata": {},
   "source": [
    "# Creating Co-Occurrence Matrix"
   ]
  },
  {
   "cell_type": "code",
   "execution_count": 31,
   "metadata": {},
   "outputs": [],
   "source": [
    "with open('IDF.pickle', 'rb') as f:\n",
    "    IDF_dict = pickle.load(f)"
   ]
  },
  {
   "cell_type": "code",
   "execution_count": 32,
   "metadata": {},
   "outputs": [],
   "source": [
    "# https://stackoverflow.com/a/11902696\n",
    "\n",
    "IDF_dict_ = Counter(IDF_dict)"
   ]
  },
  {
   "cell_type": "code",
   "execution_count": 33,
   "metadata": {},
   "outputs": [],
   "source": [
    "IDF_dict_top2K = IDF_dict_.most_common(2000)"
   ]
  },
  {
   "cell_type": "code",
   "execution_count": 34,
   "metadata": {},
   "outputs": [
    {
     "name": "stdout",
     "output_type": "stream",
     "text": [
      "2000\n"
     ]
    }
   ],
   "source": [
    "print(len(IDF_dict_top2K))"
   ]
  },
  {
   "cell_type": "code",
   "execution_count": 35,
   "metadata": {},
   "outputs": [],
   "source": [
    "with open('IDF_top_2K.pickle', 'wb') as f:\n",
    "    pickle.dump(IDF_dict_top2K, f)"
   ]
  },
  {
   "cell_type": "code",
   "execution_count": 33,
   "metadata": {},
   "outputs": [],
   "source": [
    "with open('IDF_top_2K.pickle', 'rb') as f:\n",
    "    IDF_dict_top2K = pickle.load(f)"
   ]
  },
  {
   "cell_type": "code",
   "execution_count": 34,
   "metadata": {},
   "outputs": [],
   "source": [
    "# https://www.geeksforgeeks.org/python-convert-list-of-tuples-into-list/\n",
    "\n",
    "IDF_list = list(map(lambda x: x[0], IDF_dict_top2K))"
   ]
  },
  {
   "cell_type": "code",
   "execution_count": 65,
   "metadata": {},
   "outputs": [],
   "source": [
    "length = len(IDF_list)"
   ]
  },
  {
   "cell_type": "code",
   "execution_count": 6,
   "metadata": {},
   "outputs": [],
   "source": [
    "# original\n",
    "def getContextWords(sentence, focus_word, index_list):\n",
    "    focus_word_list = list()\n",
    "    focus_word_list.clear()\n",
    "    last_index = len(sentence)-1\n",
    "    for word in sentence:\n",
    "        for i,v in enumerate(index_list):\n",
    "            i = v\n",
    "            if word == focus_word:\n",
    "                focus_word_list.clear()\n",
    "                if i > 4 and i < last_index-4: \n",
    "                    focus_word_list.append(sentence[i-5])\n",
    "                    focus_word_list.append(sentence[i-4])\n",
    "                    focus_word_list.append(sentence[i-3])\n",
    "                    focus_word_list.append(sentence[i-2])\n",
    "                    focus_word_list.append(sentence[i-1])\n",
    "                    focus_word_list.append(sentence[i+1])\n",
    "                    focus_word_list.append(sentence[i+2])\n",
    "                    focus_word_list.append(sentence[i+3])\n",
    "                    focus_word_list.append(sentence[i+4])\n",
    "                    focus_word_list.append(sentence[i+5])\n",
    "                elif i == 0:\n",
    "                    if i+1 <= last_index:\n",
    "                        focus_word_list.append(sentence[i+1])\n",
    "                    if i+2 <= last_index:    \n",
    "                        focus_word_list.append(sentence[i+2])\n",
    "                    if i+3 <= last_index:    \n",
    "                        focus_word_list.append(sentence[i+3])\n",
    "                    if i+4 <= last_index:    \n",
    "                        focus_word_list.append(sentence[i+4])\n",
    "                    if i+5 <= last_index:    \n",
    "                        focus_word_list.append(sentence[i+5])\n",
    "                elif i == 1:\n",
    "                    if i-1 >= 0:\n",
    "                        focus_word_list.append(sentence[i-1])\n",
    "                    if i+1 <= last_index:\n",
    "                        focus_word_list.append(sentence[i+1])\n",
    "                    if i+2 <= last_index:    \n",
    "                        focus_word_list.append(sentence[i+2])\n",
    "                    if i+3 <= last_index:    \n",
    "                        focus_word_list.append(sentence[i+3])\n",
    "                    if i+4 <= last_index:    \n",
    "                        focus_word_list.append(sentence[i+4])\n",
    "                    if i+5 <= last_index:    \n",
    "                        focus_word_list.append(sentence[i+5])\n",
    "                elif i == 2:\n",
    "                    if i-2 >= 0:\n",
    "                        focus_word_list.append(sentence[i-2])\n",
    "                    if i-1 >= 0:\n",
    "                        focus_word_list.append(sentence[i-1])\n",
    "                    if i+1 <= last_index:\n",
    "                        focus_word_list.append(sentence[i+1])\n",
    "                    if i+2 <= last_index:    \n",
    "                        focus_word_list.append(sentence[i+2])\n",
    "                    if i+3 <= last_index:    \n",
    "                        focus_word_list.append(sentence[i+3])\n",
    "                    if i+4 <= last_index:    \n",
    "                        focus_word_list.append(sentence[i+4])\n",
    "                    if i+5 <= last_index:    \n",
    "                        focus_word_list.append(sentence[i+5])\n",
    "                elif i == 3:\n",
    "                    if i-3 >= 0:\n",
    "                        focus_word_list.append(sentence[i-3])\n",
    "                    if i-2 >= 0:\n",
    "                        focus_word_list.append(sentence[i-2])\n",
    "                    if i-1 >= 0:\n",
    "                        focus_word_list.append(sentence[i-1])\n",
    "                    if i+1 <= last_index:\n",
    "                        focus_word_list.append(sentence[i+1])\n",
    "                    if i+2 <= last_index:    \n",
    "                        focus_word_list.append(sentence[i+2])\n",
    "                    if i+3 <= last_index:    \n",
    "                        focus_word_list.append(sentence[i+3])\n",
    "                    if i+4 <= last_index:    \n",
    "                        focus_word_list.append(sentence[i+4])\n",
    "                    if i+5 <= last_index:    \n",
    "                        focus_word_list.append(sentence[i+5])\n",
    "                elif i == 4:\n",
    "                    if i-4 >= 0:\n",
    "                        focus_word_list.append(sentence[i-4])\n",
    "                    if i-3 >= 0:\n",
    "                        focus_word_list.append(sentence[i-3])\n",
    "                    if i-2 >= 0:\n",
    "                        focus_word_list.append(sentence[i-2])\n",
    "                    if i-1 >= 0:\n",
    "                        focus_word_list.append(sentence[i-1])\n",
    "                    if i+1 <= last_index:\n",
    "                        focus_word_list.append(sentence[i+1])\n",
    "                    if i+2 <= last_index:    \n",
    "                        focus_word_list.append(sentence[i+2])\n",
    "                    if i+3 <= last_index:    \n",
    "                        focus_word_list.append(sentence[i+3])\n",
    "                    if i+4 <= last_index:    \n",
    "                        focus_word_list.append(sentence[i+4])\n",
    "                    if i+5 <= last_index:    \n",
    "                        focus_word_list.append(sentence[i+5])\n",
    "                elif i == last_index:\n",
    "                    if i-5 >= 0:\n",
    "                        focus_word_list.append(sentence[i-5])\n",
    "                    if i-4 >= 0:\n",
    "                        focus_word_list.append(sentence[i-4])\n",
    "                    if i-3 >= 0:\n",
    "                        focus_word_list.append(sentence[i-3])\n",
    "                    if i-2 >= 0:\n",
    "                        focus_word_list.append(sentence[i-2])\n",
    "                    if i-1 >= 0:\n",
    "                        focus_word_list.append(sentence[i-1])\n",
    "                elif i == last_index-1:\n",
    "                    if i-5 >= 0:\n",
    "                        focus_word_list.append(sentence[i-5])\n",
    "                    if i-4 >= 0:\n",
    "                        focus_word_list.append(sentence[i-4])\n",
    "                    if i-3 >= 0:\n",
    "                        focus_word_list.append(sentence[i-3])\n",
    "                    if i-2 >= 0:\n",
    "                        focus_word_list.append(sentence[i-2])\n",
    "                    if i-1 >= 0:\n",
    "                        focus_word_list.append(sentence[i-1])\n",
    "                    if i+1 <= last_index:\n",
    "                        focus_word_list.append(sentence[i+1])\n",
    "                elif i == last_index-2:\n",
    "                    if i-5 >= 0:\n",
    "                        focus_word_list.append(sentence[i-5])\n",
    "                    if i-4 >= 0:\n",
    "                        focus_word_list.append(sentence[i-4])\n",
    "                    if i-3 >= 0:\n",
    "                        focus_word_list.append(sentence[i-3])\n",
    "                    if i-2 >= 0:\n",
    "                        focus_word_list.append(sentence[i-2])\n",
    "                    if i-1 >= 0:\n",
    "                        focus_word_list.append(sentence[i-1])\n",
    "                    if i+1 <= last_index:\n",
    "                        focus_word_list.append(sentence[i+1])\n",
    "                    if i+2 <= last_index:\n",
    "                        focus_word_list.append(sentence[i+2])\n",
    "                elif i == last_index-3:\n",
    "                    if i-5 >= 0:\n",
    "                        focus_word_list.append(sentence[i-5])\n",
    "                    if i-4 >= 0:\n",
    "                        focus_word_list.append(sentence[i-4])\n",
    "                    if i-3 >= 0:\n",
    "                        focus_word_list.append(sentence[i-3])\n",
    "                    if i-2 >= 0:\n",
    "                        focus_word_list.append(sentence[i-2])\n",
    "                    if i-1 >= 0:\n",
    "                        focus_word_list.append(sentence[i-1])\n",
    "                    if i+1 <= last_index:\n",
    "                        focus_word_list.append(sentence[i+1])\n",
    "                    if i+2 <= last_index:\n",
    "                        focus_word_list.append(sentence[i+2])\n",
    "                    if i+3 <= last_index:\n",
    "                        focus_word_list.append(sentence[i+3])\n",
    "                elif i == last_index-4:\n",
    "                    if i-5 >= 0:\n",
    "                        focus_word_list.append(sentence[i-5])\n",
    "                    if i-4 >= 0:\n",
    "                        focus_word_list.append(sentence[i-4])\n",
    "                    if i-3 >= 0:\n",
    "                        focus_word_list.append(sentence[i-3])\n",
    "                    if i-2 >= 0:\n",
    "                        focus_word_list.append(sentence[i-2])\n",
    "                    if i-1 >= 0:\n",
    "                        focus_word_list.append(sentence[i-1])\n",
    "                    if i+1 <= last_index:\n",
    "                        focus_word_list.append(sentence[i+1])\n",
    "                    if i+2 <= last_index:\n",
    "                        focus_word_list.append(sentence[i+2])\n",
    "                    if i+3 <= last_index:\n",
    "                        focus_word_list.append(sentence[i+3])\n",
    "                    if i+4 <= last_index:\n",
    "                        focus_word_list.append(sentence[i+4])\n",
    "    return focus_word_list    "
   ]
  },
  {
   "cell_type": "code",
   "execution_count": 7,
   "metadata": {},
   "outputs": [],
   "source": [
    "# original\n",
    "def co_occ_matrix(corpus):\n",
    "    # https://stackoverflow.com/questions/2397141/how-to-initialize-a-two-dimensional-array-in-python\n",
    "    focus_word_index = list()\n",
    "    co_occurrence_matrix = list()\n",
    "    for i in range(0,2000):\n",
    "        new = list()\n",
    "        for j in range(0,2000):\n",
    "            new.append(0)\n",
    "        co_occurrence_matrix.append(new)\n",
    "        \n",
    "    for word in IDF_list:\n",
    "        focus_word_index.clear()\n",
    "        for index, sentence in enumerate(corpus):\n",
    "            for index1, word1 in enumerate(sentence):      \n",
    "                if word == word1:\n",
    "                    focus_word_index.append(index1)\n",
    "                \n",
    "                    context = getContextWords(sentence, word1, focus_word_index)\n",
    "                \n",
    "                    for word2 in context:\n",
    "                        if word2 in IDF_list:\n",
    "                            co_occurrence_matrix[IDF_list.index(word1)][IDF_list.index(word2)] += 1\n",
    "    return co_occurrence_matrix"
   ]
  },
  {
   "cell_type": "code",
   "execution_count": 8,
   "metadata": {},
   "outputs": [],
   "source": [
    "corpus = X_train['Essay_title']"
   ]
  },
  {
   "cell_type": "code",
   "execution_count": 9,
   "metadata": {},
   "outputs": [],
   "source": [
    "co_occurrence_matrix = np.array(co_occ_matrix(corpus))"
   ]
  },
  {
   "cell_type": "code",
   "execution_count": 10,
   "metadata": {},
   "outputs": [
    {
     "data": {
      "text/plain": [
       "(2000, 2000)"
      ]
     },
     "execution_count": 10,
     "metadata": {},
     "output_type": "execute_result"
    }
   ],
   "source": [
    "co_occurrence_matrix.shape"
   ]
  },
  {
   "cell_type": "code",
   "execution_count": 11,
   "metadata": {},
   "outputs": [
    {
     "name": "stdout",
     "output_type": "stream",
     "text": [
      "[[0 0 0 ... 0 0 0]\n",
      " [0 0 0 ... 0 0 0]\n",
      " [0 0 0 ... 0 0 0]\n",
      " ...\n",
      " [0 0 0 ... 0 0 0]\n",
      " [0 0 0 ... 0 0 0]\n",
      " [0 0 0 ... 0 0 0]]\n"
     ]
    }
   ],
   "source": [
    "print(co_occurrence_matrix)"
   ]
  },
  {
   "cell_type": "code",
   "execution_count": 12,
   "metadata": {},
   "outputs": [],
   "source": [
    "with open('coo_matrix.pickle', 'wb') as f:\n",
    "    pickle.dump(co_occurrence_matrix, f)"
   ]
  },
  {
   "cell_type": "code",
   "execution_count": 25,
   "metadata": {},
   "outputs": [],
   "source": [
    "with open('coo_matrix.pickle', 'rb') as f:\n",
    "    co_occurrence_matrix = pickle.load(f)"
   ]
  },
  {
   "cell_type": "markdown",
   "metadata": {},
   "source": [
    "# Applying TruncatedSVD"
   ]
  },
  {
   "cell_type": "code",
   "execution_count": 26,
   "metadata": {},
   "outputs": [
    {
     "name": "stdout",
     "output_type": "stream",
     "text": [
      "n_components= 10 variance= 0.2892442982200681\n",
      "n_components= 20 variance= 0.3574299311379457\n",
      "n_components= 50 variance= 0.43808416921244714\n",
      "n_components= 60 variance= 0.4601011709626862\n",
      "n_components= 100 variance= 0.4915713180736725\n",
      "n_components= 200 variance= 0.5466189631665005\n",
      "n_components= 300 variance= 0.6016544450038488\n",
      "n_components= 400 variance= 0.6566838523496812\n",
      "n_components= 500 variance= 0.7117369663104173\n",
      "n_components= 1000 variance= 0.8665839031648979\n",
      "n_components= 1200 variance= 0.8941037180993142\n",
      "n_components= 1500 variance= 0.9353875146300811\n",
      "n_components= 1600 variance= 0.9491437060994057\n",
      "n_components= 1700 variance= 0.9629041094143457\n",
      "n_components= 1800 variance= 0.9766630418132598\n",
      "n_components= 1900 variance= 0.9904234355796535\n",
      "n_components= 1999 variance= 0.9999999999999798\n"
     ]
    }
   ],
   "source": [
    "# finding optimal value of n_componenets(n) using truncated svd\n",
    "from sklearn.decomposition import TruncatedSVD\n",
    "n_components=[10,20,50,60,100,200,300,400,500,1000,1200,1500,1600,1700,1800,1900,1999]\n",
    "explained_variance=[]\n",
    "for n in n_components:\n",
    "    svd=TruncatedSVD(n_components=n,random_state=42)\n",
    "    svd.fit(co_occurrence_matrix)\n",
    "    exvar=svd.explained_variance_ratio_.sum()\n",
    "    explained_variance.append(exvar)\n",
    "    \n",
    "    print('n_components=',n,'variance=',exvar)"
   ]
  },
  {
   "cell_type": "code",
   "execution_count": 27,
   "metadata": {},
   "outputs": [
    {
     "data": {
      "image/png": "[encoded data removed]",
      "text/plain": [
       "<Figure size 432x288 with 1 Axes>"
      ]
     },
     "metadata": {
      "needs_background": "light"
     },
     "output_type": "display_data"
    }
   ],
   "source": [
    "#plotting curve between n_components and explained variance\n",
    "import matplotlib.pyplot as plt\n",
    "\n",
    "plt.plot(n_components, explained_variance)\n",
    "plt.xlabel('n_components')\n",
    "plt.ylabel(\"Explained variance\")\n",
    "plt.title(\"n_components v/s Explained variance\")\n",
    "plt.show()"
   ]
  },
  {
   "cell_type": "code",
   "execution_count": 28,
   "metadata": {},
   "outputs": [],
   "source": [
    "\n",
    "from sklearn.decomposition import TruncatedSVD\n",
    "\n",
    "tsvd=TruncatedSVD(n_components=1600,random_state=42)\n",
    "final_co_occurrence_matrix=tsvd.fit_transform(co_occurrence_matrix)"
   ]
  },
  {
   "cell_type": "code",
   "execution_count": 29,
   "metadata": {},
   "outputs": [],
   "source": [
    "with open('final_coo_matrix.pickle', 'wb') as f:\n",
    "    pickle.dump(final_co_occurrence_matrix, f)"
   ]
  },
  {
   "cell_type": "code",
   "execution_count": 30,
   "metadata": {},
   "outputs": [
    {
     "data": {
      "text/plain": [
       "(2000, 1600)"
      ]
     },
     "execution_count": 30,
     "metadata": {},
     "output_type": "execute_result"
    }
   ],
   "source": [
    "final_co_occurrence_matrix.shape"
   ]
  },
  {
   "cell_type": "code",
   "execution_count": 31,
   "metadata": {},
   "outputs": [
    {
     "data": {
      "text/plain": [
       "array([[ 1.22260672e-14, -8.64717376e-15,  1.16445351e-14, ...,\n",
       "        -3.84234992e-02,  1.83618894e-02,  8.63439431e-03],\n",
       "       [-1.67255450e-15, -5.99916349e-17,  6.08709875e-16, ...,\n",
       "         3.19238247e-17,  2.31392461e-17, -1.94817578e-19],\n",
       "       [ 3.06843311e-16,  1.53320126e-14, -9.17663587e-15, ...,\n",
       "        -2.38732846e-02, -3.11377183e-02, -8.83968529e-03],\n",
       "       ...,\n",
       "       [-9.62408097e-16,  9.37671672e-15, -6.29270298e-15, ...,\n",
       "        -1.49539793e-02,  1.51040926e-02, -3.53548751e-02],\n",
       "       [-1.25404001e-15,  2.60007186e-15,  1.08257205e-14, ...,\n",
       "        -3.80156044e-02, -2.53252044e-03,  1.27461287e-02],\n",
       "       [-1.41574036e-16,  2.63343547e-16, -2.30068978e-16, ...,\n",
       "        -5.00133251e-18, -3.58936564e-17,  8.74796570e-17]])"
      ]
     },
     "execution_count": 31,
     "metadata": {},
     "output_type": "execute_result"
    }
   ],
   "source": [
    "final_co_occurrence_matrix"
   ]
  },
  {
   "cell_type": "code",
   "execution_count": 35,
   "metadata": {},
   "outputs": [],
   "source": [
    "model = {}\n",
    "for i in range(len(IDF_list)):\n",
    "    model[IDF_list[i]] = final_co_occurrence_matrix[i]"
   ]
  },
  {
   "cell_type": "code",
   "execution_count": 36,
   "metadata": {},
   "outputs": [],
   "source": [
    "# model = final_2000_features\n",
    "glove_words =  set(model.keys())"
   ]
  },
  {
   "cell_type": "markdown",
   "metadata": {},
   "source": [
    "# Vectorizing Essay and Title using Avg W2V"
   ]
  },
  {
   "cell_type": "code",
   "execution_count": 57,
   "metadata": {},
   "outputs": [],
   "source": [
    "with open('train_test_split_M11.pickle', 'rb') as f:\n",
    "    X_train, X_test, y_train, y_test = pickle.load(f)"
   ]
  },
  {
   "cell_type": "code",
   "execution_count": 46,
   "metadata": {},
   "outputs": [
    {
     "data": {
      "text/plain": [
       "Index(['Unnamed: 0', 'id', 'teacher_id', 'Date', 'project_subject_categories',\n",
       "       'project_resource_summary',\n",
       "       'teacher_number_of_previously_posted_projects', 'number', 'description',\n",
       "       'price', 'quantity', 'clean_categories', 'clean_subcategories',\n",
       "       'clean_teacher_prefix', 'clean_project_grade_category', 'clean_state',\n",
       "       'clean_essays', 'sentiment_score_neg', 'sentiment_score_neu',\n",
       "       'sentiment_score_pos', 'sentiment_score_compound', 'clean_essay_length',\n",
       "       'clean_project_title', 'clean_title_length'],\n",
       "      dtype='object')"
      ]
     },
     "execution_count": 46,
     "metadata": {},
     "output_type": "execute_result"
    }
   ],
   "source": [
    "X_train.columns"
   ]
  },
  {
   "cell_type": "code",
   "execution_count": 47,
   "metadata": {},
   "outputs": [
    {
     "data": {
      "text/plain": [
       "Index(['Unnamed: 0', 'id', 'teacher_id', 'Date', 'project_subject_categories',\n",
       "       'project_resource_summary',\n",
       "       'teacher_number_of_previously_posted_projects', 'number', 'description',\n",
       "       'price', 'quantity', 'clean_categories', 'clean_subcategories',\n",
       "       'clean_teacher_prefix', 'clean_project_grade_category', 'clean_state',\n",
       "       'clean_essays', 'sentiment_score_neg', 'sentiment_score_neu',\n",
       "       'sentiment_score_pos', 'sentiment_score_compound', 'clean_essay_length',\n",
       "       'clean_project_title', 'clean_title_length'],\n",
       "      dtype='object')"
      ]
     },
     "execution_count": 47,
     "metadata": {},
     "output_type": "execute_result"
    }
   ],
   "source": [
    "X_test.columns"
   ]
  },
  {
   "cell_type": "code",
   "execution_count": 48,
   "metadata": {},
   "outputs": [
    {
     "name": "stderr",
     "output_type": "stream",
     "text": [
      "100%|██████████| 35000/35000 [00:00<00:00, 192400.53it/s]\n"
     ]
    }
   ],
   "source": [
    "X_train_avg_w2v_titles_vectors = []; \n",
    "for sentence in tqdm(X_train['clean_project_title']):\n",
    "    vector = np.zeros(1600)\n",
    "    cnt_words =0;\n",
    "    for word in sentence.split():\n",
    "        if word in glove_words:\n",
    "            vector += model[word]\n",
    "            cnt_words += 1\n",
    "    if cnt_words != 0:\n",
    "        vector /= cnt_words\n",
    "    X_train_avg_w2v_titles_vectors.append(vector)"
   ]
  },
  {
   "cell_type": "code",
   "execution_count": 49,
   "metadata": {},
   "outputs": [
    {
     "name": "stderr",
     "output_type": "stream",
     "text": [
      "100%|██████████| 35000/35000 [00:01<00:00, 29595.86it/s]\n"
     ]
    }
   ],
   "source": [
    "X_train_avg_w2v_essays_vectors = [];\n",
    "for sentence in tqdm(X_train['clean_essays']):\n",
    "    vector = np.zeros(1600)\n",
    "    cnt_words =0;\n",
    "    for word in sentence.split():\n",
    "        if word in glove_words:\n",
    "            vector += model[word]\n",
    "            cnt_words += 1\n",
    "    if cnt_words != 0:\n",
    "        vector /= cnt_words\n",
    "    X_train_avg_w2v_essays_vectors.append(vector)"
   ]
  },
  {
   "cell_type": "code",
   "execution_count": 50,
   "metadata": {},
   "outputs": [
    {
     "name": "stderr",
     "output_type": "stream",
     "text": [
      "100%|██████████| 15000/15000 [00:00<00:00, 80383.30it/s]\n"
     ]
    }
   ],
   "source": [
    "X_test_avg_w2v_titles_vectors = [];\n",
    "for sentence in tqdm(X_test['clean_project_title']):\n",
    "    vector = np.zeros(1600)\n",
    "    cnt_words =0;\n",
    "    for word in sentence.split():\n",
    "        if word in glove_words:\n",
    "            vector += model[word]\n",
    "            cnt_words += 1\n",
    "    if cnt_words != 0:\n",
    "        vector /= cnt_words\n",
    "    X_test_avg_w2v_titles_vectors.append(vector)"
   ]
  },
  {
   "cell_type": "code",
   "execution_count": 51,
   "metadata": {},
   "outputs": [
    {
     "name": "stderr",
     "output_type": "stream",
     "text": [
      "100%|██████████| 15000/15000 [00:00<00:00, 24031.27it/s]\n"
     ]
    }
   ],
   "source": [
    "X_test_avg_w2v_essays_vectors = [];\n",
    "for sentence in tqdm(X_test['clean_essays']):\n",
    "    vector = np.zeros(1600)\n",
    "    cnt_words =0;\n",
    "    for word in sentence.split():\n",
    "        if word in glove_words:\n",
    "            vector += model[word]\n",
    "            cnt_words += 1\n",
    "    if cnt_words != 0:\n",
    "        vector /= cnt_words\n",
    "    X_test_avg_w2v_essays_vectors.append(vector)"
   ]
  },
  {
   "cell_type": "markdown",
   "metadata": {},
   "source": [
    "# Calculating the Word Count of each Essay and Title in each train and test"
   ]
  },
  {
   "cell_type": "code",
   "execution_count": 53,
   "metadata": {},
   "outputs": [
    {
     "name": "stderr",
     "output_type": "stream",
     "text": [
      "100%|██████████| 35000/35000 [00:00<00:00, 894983.97it/s]\n",
      "100%|██████████| 15000/15000 [00:00<00:00, 855852.32it/s]"
     ]
    },
    {
     "name": "stdout",
     "output_type": "stream",
     "text": [
      "(35000,)\n",
      "(15000,)\n"
     ]
    },
    {
     "name": "stderr",
     "output_type": "stream",
     "text": [
      "\n"
     ]
    }
   ],
   "source": [
    "title_wordcount_train = []\n",
    "title_train = list(X_train['clean_project_title'])\n",
    "for i in tqdm(title_train):\n",
    "    b = len(str(i).split())\n",
    "    title_wordcount_train.append(b)\n",
    "title_wordcount_train = np.array(title_wordcount_train)\n",
    "\n",
    "title_wordcount_test = []\n",
    "title_test = list(X_test['clean_project_title'])\n",
    "for i in tqdm(title_test):\n",
    "    b = len(str(i).split())\n",
    "    title_wordcount_test.append(b)\n",
    "title_wordcount_test = np.array(title_wordcount_test)\n",
    "\n",
    "print(title_wordcount_train.shape)\n",
    "print(title_wordcount_test.shape)"
   ]
  },
  {
   "cell_type": "code",
   "execution_count": 54,
   "metadata": {},
   "outputs": [
    {
     "name": "stderr",
     "output_type": "stream",
     "text": [
      "100%|██████████| 35000/35000 [00:00<00:00, 98984.43it/s] \n",
      "100%|██████████| 15000/15000 [00:00<00:00, 97766.74it/s]"
     ]
    },
    {
     "name": "stdout",
     "output_type": "stream",
     "text": [
      "(35000,)\n",
      "(15000,)\n"
     ]
    },
    {
     "name": "stderr",
     "output_type": "stream",
     "text": [
      "\n"
     ]
    }
   ],
   "source": [
    "essay_wordcount_train = []\n",
    "essay_train = list(X_train['clean_essays'])\n",
    "for i in tqdm(essay_train):\n",
    "    b = len(str(i).split())\n",
    "    essay_wordcount_train.append(b)\n",
    "essay_wordcount_train = np.array(essay_wordcount_train)\n",
    "\n",
    "\n",
    "essay_wordcount_test = []\n",
    "essay_test = list(X_test['clean_essays'])\n",
    "for i in tqdm(essay_test):\n",
    "    b = len(str(i).split())\n",
    "    essay_wordcount_test.append(b)\n",
    "essay_wordcount_test = np.array(essay_wordcount_test)\n",
    "\n",
    "print(essay_wordcount_train.shape)\n",
    "print(essay_wordcount_test.shape)"
   ]
  },
  {
   "cell_type": "markdown",
   "metadata": {},
   "source": [
    "# Standardizing Title and Essay Word Count"
   ]
  },
  {
   "cell_type": "code",
   "execution_count": 55,
   "metadata": {},
   "outputs": [
    {
     "name": "stdout",
     "output_type": "stream",
     "text": [
      "(35000, 1)\n",
      "(15000, 1)\n"
     ]
    },
    {
     "name": "stderr",
     "output_type": "stream",
     "text": [
      "/usr/local/lib/python3.5/site-packages/sklearn/utils/validation.py:475: DataConversionWarning: Data with input dtype int64 was converted to float64 by StandardScaler.\n",
      "  warnings.warn(msg, DataConversionWarning)\n"
     ]
    }
   ],
   "source": [
    "from sklearn.preprocessing import StandardScaler\n",
    "\n",
    "title_wordcount_scalar = StandardScaler()\n",
    "title_wordcount_scalar.fit(title_wordcount_train.reshape(-1,1))\n",
    "\n",
    "X_train_title_wordcount_standardized = title_wordcount_scalar.transform(title_wordcount_train.reshape(-1,1))\n",
    "X_test_title_wordcount_standardized = title_wordcount_scalar.transform(title_wordcount_test.reshape(-1,1))\n",
    "\n",
    "print(title_wordcount_standardized_train.shape)\n",
    "print(title_wordcount_standardized_test.shape)"
   ]
  },
  {
   "cell_type": "code",
   "execution_count": 56,
   "metadata": {},
   "outputs": [
    {
     "name": "stdout",
     "output_type": "stream",
     "text": [
      "(35000, 1)\n",
      "(15000, 1)\n"
     ]
    }
   ],
   "source": [
    "essay_wordcount_scalar = StandardScaler()\n",
    "essay_wordcount_scalar.fit(essay_wordcount_train.reshape(-1,1))\n",
    "\n",
    "X_train_essay_wordcount_standardized = essay_wordcount_scalar.transform(essay_wordcount_train.reshape(-1,1))\n",
    "X_test_essay_wordcount_standardized = essay_wordcount_scalar.transform(essay_wordcount_test.reshape(-1,1))\n",
    "\n",
    "print(essay_wordcount_standardized_train.shape)\n",
    "print(essay_wordcount_standardized_test.shape)"
   ]
  },
  {
   "cell_type": "markdown",
   "metadata": {},
   "source": [
    "# Merging all together"
   ]
  },
  {
   "cell_type": "code",
   "execution_count": 74,
   "metadata": {},
   "outputs": [],
   "source": [
    "from scipy.sparse import hstack\n",
    "\n",
    "X_tr = hstack((X_train_state_ohe, \\\n",
    "               X_train_clean_categories_ohe, \\\n",
    "               X_train_clean_subcategories_ohe, \\\n",
    "               X_train_clean_project_grade_category_ohe, \\\n",
    "               X_train_clean_teacher_prefix_category_ohe, \\\n",
    "               X_train_price_norm, \\\n",
    "               X_train_teacher_number_of_previously_posted_projects_norm, \\\n",
    "               X_train_quantity_norm, \\\n",
    "               X_train_sentiment_score_neg_norm, \\\n",
    "               X_train_sentiment_score_neu_norm, \\\n",
    "               X_train_sentiment_score_pos_norm, \\\n",
    "               X_train_sentiment_score_compound_norm, \\\n",
    "               X_train_clean_title_length_norm, \\\n",
    "               X_train_clean_essay_length_norm, \\\n",
    "               X_train_title_wordcount_standardized, \\\n",
    "               X_train_essay_wordcount_standardized, \\\n",
    "               X_train_avg_w2v_titles_vectors, \\\n",
    "               X_train_avg_w2v_essays_vectors)).tocsr()\n",
    "\n",
    "X_te = hstack((X_test_state_ohe, \\\n",
    "               X_test_clean_categories_ohe, \\\n",
    "               X_test_clean_subcategories_ohe, \\\n",
    "               X_test_clean_project_grade_category_ohe, \\\n",
    "               X_test_clean_teacher_prefix_category_ohe, \\\n",
    "               X_test_price_norm, \\\n",
    "               X_test_teacher_number_of_previously_posted_projects_norm, \\\n",
    "               X_test_quantity_norm, \\\n",
    "               X_test_sentiment_score_neg_norm, \\\n",
    "               X_test_sentiment_score_neu_norm, \\\n",
    "               X_test_sentiment_score_pos_norm, \\\n",
    "               X_test_sentiment_score_compound_norm, \\\n",
    "               X_test_clean_title_length_norm, \\\n",
    "               X_test_clean_essay_length_norm, \\\n",
    "               X_test_title_wordcount_standardized, \\\n",
    "               X_test_essay_wordcount_standardized, \\\n",
    "               X_test_avg_w2v_titles_vectors, \\\n",
    "               X_test_avg_w2v_essays_vectors)).tocsr()"
   ]
  },
  {
   "cell_type": "code",
   "execution_count": 75,
   "metadata": {},
   "outputs": [
    {
     "name": "stdout",
     "output_type": "stream",
     "text": [
      "Final Data matrix\n",
      "(35000, 3678) (35000,)\n",
      "(15000, 3678) (15000,)\n",
      "====================================================================================================\n"
     ]
    }
   ],
   "source": [
    "print(\"Final Data matrix\")\n",
    "print(X_tr.shape, y_train.shape)\n",
    "print(X_te.shape, y_test.shape)\n",
    "print(\"=\"*100)"
   ]
  },
  {
   "cell_type": "markdown",
   "metadata": {},
   "source": [
    "# Applying XGBoost"
   ]
  },
  {
   "cell_type": "code",
   "execution_count": 2,
   "metadata": {},
   "outputs": [],
   "source": [
    "from xgboost import XGBClassifier as xgbc\n",
    "from sklearn.metrics import roc_curve, auc\n",
    "from sklearn.model_selection import GridSearchCV\n",
    "from sklearn.metrics import confusion_matrix"
   ]
  },
  {
   "cell_type": "code",
   "execution_count": 3,
   "metadata": {},
   "outputs": [
    {
     "name": "stdout",
     "output_type": "stream",
     "text": [
      "{'max_depth': [2, 3, 4, 5, 6, 7, 8, 9, 10], 'n_estimators': [5, 10, 50, 100, 200, 500, 1000]}\n"
     ]
    }
   ],
   "source": [
    "parlist_maxdepth_gbdt = [2, 3, 4, 5, 6, 7, 8, 9, 10]\n",
    "parlist_n_estimators_gbdt = [5, 10, 50, 100, 200, 500, 1000]\n",
    "parameters_gbdt = {'max_depth': parlist_maxdepth_gbdt, 'n_estimators': parlist_n_estimators_gbdt}\n",
    "print(parameters_gbdt)"
   ]
  },
  {
   "cell_type": "markdown",
   "metadata": {},
   "source": [
    "## Hyperparameter Tuning on XGBoost"
   ]
  },
  {
   "cell_type": "code",
   "execution_count": 4,
   "metadata": {},
   "outputs": [],
   "source": [
    "def hparameter_tuning_xgb(X_tr_data, y_train_data, filename):\n",
    "    \n",
    "    xgb = xgbc(n_jobs=-1)\n",
    "    \n",
    "    clf = GridSearchCV(estimator=xgb, param_grid=parameters_gbdt, cv=3, scoring='roc_auc', n_jobs=-1)\n",
    "    clf.fit(X_tr_data, y_train_data)\n",
    "    results = clf.cv_results_\n",
    "    best_hyperparameter = clf.best_params_\n",
    "    best_score = clf.best_score_\n",
    "    best_estimator = clf.best_estimator_\n",
    "    \n",
    "    with open(filename, 'wb') as f:\n",
    "        pickle.dump([results, best_hyperparameter, best_score, best_estimator] , f)"
   ]
  },
  {
   "cell_type": "markdown",
   "metadata": {},
   "source": [
    "## AUC Results Function"
   ]
  },
  {
   "cell_type": "code",
   "execution_count": 14,
   "metadata": {},
   "outputs": [],
   "source": [
    "def auc_score_plot(results):\n",
    "    train_auc_mean_notreshaped = results['mean_train_score']\n",
    "    cv_auc_mean_notreshaped = results['mean_test_score']\n",
    "    train_auc_mean = np.reshape(train_auc_mean_notreshaped, (9, 7))\n",
    "    cv_auc_mean = np.reshape(cv_auc_mean_notreshaped, (9, 7))\n",
    "    fig, ax = plt.subplots(1,2,figsize=(20,12))\n",
    "    ax[0].title.set_text('Mean Train Score')\n",
    "    ax[1].title.set_text('Mean CV Score')\n",
    "    sns.heatmap(train_auc_mean, cmap='YlGnBu', annot=True, fmt='g', linewidths=.5, xticklabels=[5, 10, 50, 100, 200, 500, 1000], \\\n",
    "                yticklabels=[2, 3, 4, 5, 6, 7, 8, 9, 10], ax=ax[0])\n",
    "    sns.heatmap(cv_auc_mean, cmap='YlGnBu', annot=True, fmt='g', linewidths=.5, xticklabels=[5, 10, 50, 100, 200, 500, 1000], \\\n",
    "                yticklabels=[2, 3, 4, 5, 6, 7, 8, 9, 10], ax=ax[1])\n",
    "    ax[0].set_ylabel('max_depth')\n",
    "    ax[0].set_xlabel('n_estimators')\n",
    "    ax[1].set_ylabel('max_depth')\n",
    "    ax[1].set_xlabel('n_estimators')\n",
    "    plt.show()"
   ]
  },
  {
   "cell_type": "markdown",
   "metadata": {},
   "source": [
    "# XGBoost Classifier"
   ]
  },
  {
   "cell_type": "code",
   "execution_count": 6,
   "metadata": {},
   "outputs": [],
   "source": [
    "# https://docs.scipy.org/doc/numpy-1.9.3/reference/generated/numpy.greater_equal.html\n",
    "# https://stackoverflow.com/questions/15868512/list-to-array-conversion-to-use-ravel-function\n",
    "\n",
    "def xgb_classifier(best_estimator, X_tr_data, y_train_data, X_test_data, y_test_data, filename):\n",
    "    \n",
    "    xgb = best_estimator\n",
    "    fitted_tree = xgb.fit(X_tr_data, y_train_data)\n",
    "    \n",
    "    y_train_predict_proba = xgb.predict_proba(X_tr_data)\n",
    "    y_test_predict_proba = xgb.predict_proba(X_test_data)\n",
    "    \n",
    "    train_fpr, train_tpr, tr_thresholds = roc_curve(y_train_data, y_train_predict_proba[:,1])\n",
    "    test_fpr, test_tpr, te_thresholds = roc_curve(y_test_data, y_test_predict_proba[:,1])\n",
    "    \n",
    "    y_tr = tr_thresholds[np.argmax(train_fpr*(1-train_tpr))]\n",
    "    y_train_predict = []\n",
    "    for i in y_train_predict_proba[:,1]:\n",
    "        if np.greater_equal(i, y_tr):\n",
    "            y_train_predict.append(1)\n",
    "        else:\n",
    "            y_train_predict.append(0)\n",
    "            \n",
    "    y_te = tr_thresholds[np.argmax(test_fpr*(1-test_tpr))]\n",
    "    y_test_predict = []\n",
    "    for i in y_test_predict_proba[:,1]:\n",
    "        if np.greater_equal(i, y_te):\n",
    "            y_test_predict.append(1)\n",
    "        else:\n",
    "            y_test_predict.append(0)\n",
    "    \n",
    "    train_auc = auc(train_fpr, train_tpr)\n",
    "    test_auc = auc(test_fpr, test_tpr)\n",
    "    \n",
    "    y_train_predict = np.asarray(y_train_predict)\n",
    "    y_test_predict = np.asarray(y_test_predict)\n",
    "    \n",
    "    with open(filename, 'wb') as f:\n",
    "        pickle.dump([train_fpr, train_tpr, train_auc, y_train_predict, test_fpr, test_tpr, test_auc, y_test_predict] , f)"
   ]
  },
  {
   "cell_type": "markdown",
   "metadata": {},
   "source": [
    "## Plotting ROC Curve"
   ]
  },
  {
   "cell_type": "code",
   "execution_count": 7,
   "metadata": {},
   "outputs": [],
   "source": [
    "def roc_plot(train_fpr, train_tpr, train_auc, test_fpr, test_tpr, test_auc):\n",
    "    plt.plot(train_fpr, train_tpr, label=\"Train AUC =\"+str(train_auc))\n",
    "    plt.plot(test_fpr, test_tpr, label=\"Test AUC =\"+str(test_auc))\n",
    "    plt.legend()\n",
    "    plt.xlabel(\"FPR\")\n",
    "    plt.ylabel(\"TPR\")\n",
    "    plt.title(\"ROC PLOTS\")\n",
    "    plt.grid()\n",
    "    plt.show()"
   ]
  },
  {
   "cell_type": "markdown",
   "metadata": {},
   "source": [
    "## Predictions"
   ]
  },
  {
   "cell_type": "markdown",
   "metadata": {},
   "source": [
    "## Train Confusion Matrix"
   ]
  },
  {
   "cell_type": "code",
   "execution_count": 8,
   "metadata": {},
   "outputs": [],
   "source": [
    "# https://stackoverflow.com/questions/29647749/seaborn-showing-scientific-notation-in-heatmap-for-3-digit-numbers\n",
    "def train_conf(y_train, y_train_predict):\n",
    "    cm_train = confusion_matrix(y_train, y_train_predict.round())\n",
    "    plt.title('Train actual & Train predicted Confusion matrix')\n",
    "    xlabels= ['Actual Negative', 'Actual Positive']\n",
    "    ylabels=['Predicted Negative', 'Predicted Positive']\n",
    "    sns.heatmap(cm_train, cmap='YlGnBu', annot=True, fmt='g', linewidths=.5, xticklabels=xlabels, yticklabels=ylabels)\n",
    "    plt.show()"
   ]
  },
  {
   "cell_type": "markdown",
   "metadata": {},
   "source": [
    "## Test Confusion Matrix"
   ]
  },
  {
   "cell_type": "code",
   "execution_count": 9,
   "metadata": {},
   "outputs": [],
   "source": [
    "# https://stackoverflow.com/questions/29647749/seaborn-showing-scientific-notation-in-heatmap-for-3-digit-numbers\n",
    "def test_conf(y_test, y_test_predict):\n",
    "    cm_test = confusion_matrix(y_test, y_test_predict.round())\n",
    "    plt.title('Test actual & Test predicted Confusion matrix')\n",
    "    xlabels= ['Actual Negative', 'Actual Positive']\n",
    "    ylabels=['Predicted Negative', 'Predicted Positive']\n",
    "    sns.heatmap(cm_test, cmap='YlGnBu', annot=True, fmt='g', linewidths=.5, xticklabels=xlabels, yticklabels=ylabels)\n",
    "    plt.show()"
   ]
  },
  {
   "cell_type": "markdown",
   "metadata": {},
   "source": [
    "# XGBoost Results"
   ]
  },
  {
   "cell_type": "markdown",
   "metadata": {},
   "source": [
    "#### Hyperparameter tuning"
   ]
  },
  {
   "cell_type": "code",
   "execution_count": 10,
   "metadata": {},
   "outputs": [],
   "source": [
    "hparameter_tuning_xgb(X_tr, y_train, 'grid_s_results.pickle')"
   ]
  },
  {
   "cell_type": "markdown",
   "metadata": {},
   "source": [
    "#### Opening Grid Search result variables after Hyperparameter tuning"
   ]
  },
  {
   "cell_type": "code",
   "execution_count": 3,
   "metadata": {},
   "outputs": [],
   "source": [
    "with open('grid_s_results.pickle', 'rb') as f:\n",
    "    results, best_hyperparameter, best_score, best_estimator = pickle.load(f)"
   ]
  },
  {
   "cell_type": "markdown",
   "metadata": {},
   "source": [
    "#### Results of Hyperparameter Tuning (Best Hyper parameters, Score)"
   ]
  },
  {
   "cell_type": "code",
   "execution_count": 13,
   "metadata": {},
   "outputs": [],
   "source": [
    "import pickle\n",
    "with open('grid_s_results.pickle', 'rb') as f:\n",
    "    results, best_hyperparameter, best_score, best_estimator = pickle.load(f)"
   ]
  },
  {
   "cell_type": "code",
   "execution_count": 16,
   "metadata": {},
   "outputs": [
    {
     "name": "stdout",
     "output_type": "stream",
     "text": [
      "Best Hyperparameter: {'n_estimators': 200, 'max_depth': 2}\n",
      "Best Score: 0.5863233191855802\n"
     ]
    },
    {
     "data": {
      "image/png": "[encoded data removed]",
      "text/plain": [
       "<Figure size 1440x864 with 4 Axes>"
      ]
     },
     "metadata": {
      "needs_background": "light"
     },
     "output_type": "display_data"
    }
   ],
   "source": [
    "print(\"Best Hyperparameter: \"+ str(best_hyperparameter))\n",
    "print(\"Best Score: \"+ str(best_score))\n",
    "auc_score_plot(results)"
   ]
  },
  {
   "cell_type": "markdown",
   "metadata": {},
   "source": [
    "#### Running Random Forest Classifier on best hyperparameters"
   ]
  },
  {
   "cell_type": "code",
   "execution_count": 16,
   "metadata": {},
   "outputs": [],
   "source": [
    "xgb_classifier(best_estimator, X_tr, y_train, X_te, y_test, 'auc_score.pickle')"
   ]
  },
  {
   "cell_type": "markdown",
   "metadata": {},
   "source": [
    "#### Opening Random Forest classifier results"
   ]
  },
  {
   "cell_type": "code",
   "execution_count": 17,
   "metadata": {},
   "outputs": [],
   "source": [
    "# https://www.jessicayung.com/how-to-use-pickle-to-save-and-load-variables-in-python/\n",
    "\n",
    "with open('auc_score.pickle', 'rb') as f:\n",
    "    tr_fpr, tr_tpr, tr_auc, y_tr_predict, te_fpr, te_tpr, te_auc, y_te_predict = pickle.load(f)"
   ]
  },
  {
   "cell_type": "markdown",
   "metadata": {},
   "source": [
    "#### Plotting ROC curve"
   ]
  },
  {
   "cell_type": "code",
   "execution_count": 19,
   "metadata": {},
   "outputs": [
    {
     "data": {
      "image/png": "[encoded data removed]",
      "text/plain": [
       "<Figure size 432x288 with 1 Axes>"
      ]
     },
     "metadata": {
      "needs_background": "light"
     },
     "output_type": "display_data"
    }
   ],
   "source": [
    "roc_plot(tr_fpr, tr_tpr, tr_auc, te_fpr, te_tpr, te_auc)"
   ]
  },
  {
   "cell_type": "markdown",
   "metadata": {},
   "source": [
    "#### Train confusion matrix"
   ]
  },
  {
   "cell_type": "code",
   "execution_count": 22,
   "metadata": {},
   "outputs": [
    {
     "data": {
      "image/png": "[encoded data removed]",
      "text/plain": [
       "<Figure size 432x288 with 2 Axes>"
      ]
     },
     "metadata": {
      "needs_background": "light"
     },
     "output_type": "display_data"
    }
   ],
   "source": [
    "train_conf(y_train, y_tr_predict)"
   ]
  },
  {
   "cell_type": "markdown",
   "metadata": {},
   "source": [
    "#### Test confusion matrix"
   ]
  },
  {
   "cell_type": "code",
   "execution_count": 24,
   "metadata": {},
   "outputs": [
    {
     "data": {
      "image/png": "[encoded data removed]",
      "text/plain": [
       "<Figure size 432x288 with 2 Axes>"
      ]
     },
     "metadata": {
      "needs_background": "light"
     },
     "output_type": "display_data"
    }
   ],
   "source": [
    "test_conf(y_test, y_te_predict)"
   ]
  },
  {
   "cell_type": "markdown",
   "metadata": {},
   "source": [
    "# Summary"
   ]
  },
  {
   "cell_type": "markdown",
   "metadata": {},
   "source": [
    "XGBoost results are as follows:\n",
    "1. n_estimators = 200\n",
    "2. max_depth = 2\n",
    "3. Best Score = 0.586\n",
    "4. Train AUC = 0.636\n",
    "5. Test AUC = 0.588\n",
    "\n",
    "These were the results of performing XGBoost Hyperparameter Tuning and Classification."
   ]
  },
  {
   "cell_type": "markdown",
   "metadata": {},
   "source": [
    "## Conclusion:"
   ]
  },
  {
   "cell_type": "markdown",
   "metadata": {},
   "source": [
    "Although the Train AUC and Test AUC are not as good as the ones performed in previous assignments, these results could be improved significantly."
   ]
  },
  {
   "cell_type": "code",
   "execution_count": null,
   "metadata": {},
   "outputs": [],
   "source": []
  }
 ],
 "metadata": {
  "kernelspec": {
   "display_name": "Python 3",
   "language": "python",
   "name": "python3"
  },
  "language_info": {
   "codemirror_mode": {
    "name": "ipython",
    "version": 3
   },
   "file_extension": ".py",
   "mimetype": "text/x-python",
   "name": "python",
   "nbconvert_exporter": "python",
   "pygments_lexer": "ipython3",
   "version": "3.6.5"
  }
 },
 "nbformat": 4,
 "nbformat_minor": 4
}
