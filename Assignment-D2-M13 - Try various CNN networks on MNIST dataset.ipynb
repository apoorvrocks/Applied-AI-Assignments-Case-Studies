{
 "cells": [
  {
   "cell_type": "code",
   "execution_count": 1,
   "metadata": {
    "colab": {
     "base_uri": "https://localhost:8080/",
     "height": 77
    },
    "colab_type": "code",
    "id": "yO7BT03Hlkpq",
    "outputId": "33dc270a-54a0-4b64-e15a-e999069c1b99"
   },
   "outputs": [
    {
     "name": "stderr",
     "output_type": "stream",
     "text": [
      "Using TensorFlow backend.\n"
     ]
    },
    {
     "data": {
      "text/html": [
       "<p style=\"color: red;\">\n",
       "The default version of TensorFlow in Colab will soon switch to TensorFlow 2.x.<br>\n",
       "We recommend you <a href=\"https://www.tensorflow.org/guide/migrate\" target=\"_blank\">upgrade</a> now \n",
       "or ensure your notebook will continue to use TensorFlow 1.x via the <code>%tensorflow_version 1.x</code> magic:\n",
       "<a href=\"https://colab.research.google.com/notebooks/tensorflow_version.ipynb\" target=\"_blank\">more info</a>.</p>\n"
      ],
      "text/plain": [
       "<IPython.core.display.HTML object>"
      ]
     },
     "metadata": {
      "tags": []
     },
     "output_type": "display_data"
    }
   ],
   "source": [
    "# Credits: https://github.com/keras-team/keras/blob/master/examples/mnist_cnn.py\n",
    "\n",
    "\n",
    "from __future__ import print_function\n",
    "import keras\n",
    "from keras.datasets import mnist\n",
    "from keras.models import Sequential\n",
    "from keras.layers import Dense, Dropout, Flatten\n",
    "from keras.layers import Conv2D, MaxPooling2D\n",
    "from keras import backend as K\n",
    "from keras.layers.normalization import BatchNormalization\n",
    "import matplotlib.pyplot as plt"
   ]
  },
  {
   "cell_type": "code",
   "execution_count": 0,
   "metadata": {
    "colab": {},
    "colab_type": "code",
    "id": "rnZztER0l3KS"
   },
   "outputs": [],
   "source": [
    "batch_size = 128\n",
    "num_classes = 10\n",
    "epochs = 15"
   ]
  },
  {
   "cell_type": "code",
   "execution_count": 3,
   "metadata": {
    "colab": {
     "base_uri": "https://localhost:8080/",
     "height": 98
    },
    "colab_type": "code",
    "id": "aaORruPWmB91",
    "outputId": "e732c304-ae6d-4482-d38e-80b50ce49c42"
   },
   "outputs": [
    {
     "name": "stdout",
     "output_type": "stream",
     "text": [
      "Downloading data from https://s3.amazonaws.com/img-datasets/mnist.npz\n",
      "11493376/11490434 [==============================] - 0s 0us/step\n",
      "x_train shape: (60000, 28, 28, 1)\n",
      "60000 train samples\n",
      "10000 test samples\n"
     ]
    }
   ],
   "source": [
    "# input image dimensions\n",
    "img_rows, img_cols = 28, 28\n",
    "\n",
    "# the data, split between train and test sets\n",
    "(x_train, y_train), (x_test, y_test) = mnist.load_data()\n",
    "\n",
    "if K.image_data_format() == 'channels_first':\n",
    "    x_train = x_train.reshape(x_train.shape[0], 1, img_rows, img_cols)\n",
    "    x_test = x_test.reshape(x_test.shape[0], 1, img_rows, img_cols)\n",
    "    input_shape = (1, img_rows, img_cols)\n",
    "else:\n",
    "    x_train = x_train.reshape(x_train.shape[0], img_rows, img_cols, 1)\n",
    "    x_test = x_test.reshape(x_test.shape[0], img_rows, img_cols, 1)\n",
    "    input_shape = (img_rows, img_cols, 1)\n",
    "\n",
    "x_train = x_train.astype('float32')\n",
    "x_test = x_test.astype('float32')\n",
    "x_train /= 255\n",
    "x_test /= 255\n",
    "print('x_train shape:', x_train.shape)\n",
    "print(x_train.shape[0], 'train samples')\n",
    "print(x_test.shape[0], 'test samples')\n",
    "\n",
    "# convert class vectors to binary class matrices\n",
    "y_train = keras.utils.to_categorical(y_train, num_classes)\n",
    "y_test = keras.utils.to_categorical(y_test, num_classes)"
   ]
  },
  {
   "cell_type": "code",
   "execution_count": 0,
   "metadata": {
    "colab": {},
    "colab_type": "code",
    "id": "aR5hPtIBZfUP"
   },
   "outputs": [],
   "source": [
    "def plt_dynamic(x, vy, ty, ax, colors=['b']):\n",
    "    ax.plot(x, vy, 'b', label=\"Validation Loss\")\n",
    "    ax.plot(x, ty, 'r', label=\"Train Loss\")\n",
    "    plt.legend()\n",
    "    plt.grid()\n",
    "    fig.canvas.draw()"
   ]
  },
  {
   "cell_type": "markdown",
   "metadata": {
    "colab_type": "text",
    "id": "OotI4PY8mMBn"
   },
   "source": [
    "# Model 1: 3 conv layers"
   ]
  },
  {
   "cell_type": "code",
   "execution_count": 5,
   "metadata": {
    "colab": {
     "base_uri": "https://localhost:8080/",
     "height": 996
    },
    "colab_type": "code",
    "id": "i9tq6egPmWLd",
    "outputId": "796605d1-23af-4994-b173-d8e06926d55d"
   },
   "outputs": [
    {
     "name": "stdout",
     "output_type": "stream",
     "text": [
      "WARNING:tensorflow:From /usr/local/lib/python3.6/dist-packages/keras/backend/tensorflow_backend.py:66: The name tf.get_default_graph is deprecated. Please use tf.compat.v1.get_default_graph instead.\n",
      "\n",
      "WARNING:tensorflow:From /usr/local/lib/python3.6/dist-packages/keras/backend/tensorflow_backend.py:541: The name tf.placeholder is deprecated. Please use tf.compat.v1.placeholder instead.\n",
      "\n",
      "WARNING:tensorflow:From /usr/local/lib/python3.6/dist-packages/keras/backend/tensorflow_backend.py:4432: The name tf.random_uniform is deprecated. Please use tf.random.uniform instead.\n",
      "\n",
      "WARNING:tensorflow:From /usr/local/lib/python3.6/dist-packages/keras/backend/tensorflow_backend.py:190: The name tf.get_default_session is deprecated. Please use tf.compat.v1.get_default_session instead.\n",
      "\n",
      "WARNING:tensorflow:From /usr/local/lib/python3.6/dist-packages/keras/backend/tensorflow_backend.py:197: The name tf.ConfigProto is deprecated. Please use tf.compat.v1.ConfigProto instead.\n",
      "\n",
      "WARNING:tensorflow:From /usr/local/lib/python3.6/dist-packages/keras/backend/tensorflow_backend.py:203: The name tf.Session is deprecated. Please use tf.compat.v1.Session instead.\n",
      "\n",
      "WARNING:tensorflow:From /usr/local/lib/python3.6/dist-packages/keras/backend/tensorflow_backend.py:207: The name tf.global_variables is deprecated. Please use tf.compat.v1.global_variables instead.\n",
      "\n",
      "WARNING:tensorflow:From /usr/local/lib/python3.6/dist-packages/keras/backend/tensorflow_backend.py:216: The name tf.is_variable_initialized is deprecated. Please use tf.compat.v1.is_variable_initialized instead.\n",
      "\n",
      "WARNING:tensorflow:From /usr/local/lib/python3.6/dist-packages/keras/backend/tensorflow_backend.py:223: The name tf.variables_initializer is deprecated. Please use tf.compat.v1.variables_initializer instead.\n",
      "\n",
      "WARNING:tensorflow:From /usr/local/lib/python3.6/dist-packages/keras/backend/tensorflow_backend.py:2041: The name tf.nn.fused_batch_norm is deprecated. Please use tf.compat.v1.nn.fused_batch_norm instead.\n",
      "\n",
      "WARNING:tensorflow:From /usr/local/lib/python3.6/dist-packages/keras/backend/tensorflow_backend.py:148: The name tf.placeholder_with_default is deprecated. Please use tf.compat.v1.placeholder_with_default instead.\n",
      "\n",
      "WARNING:tensorflow:From /usr/local/lib/python3.6/dist-packages/keras/backend/tensorflow_backend.py:3733: calling dropout (from tensorflow.python.ops.nn_ops) with keep_prob is deprecated and will be removed in a future version.\n",
      "Instructions for updating:\n",
      "Please use `rate` instead of `keep_prob`. Rate should be set to `rate = 1 - keep_prob`.\n",
      "Model: \"sequential_1\"\n",
      "_________________________________________________________________\n",
      "Layer (type)                 Output Shape              Param #   \n",
      "=================================================================\n",
      "conv2d_1 (Conv2D)            (None, 27, 27, 32)        160       \n",
      "_________________________________________________________________\n",
      "batch_normalization_1 (Batch (None, 27, 27, 32)        128       \n",
      "_________________________________________________________________\n",
      "dropout_1 (Dropout)          (None, 27, 27, 32)        0         \n",
      "_________________________________________________________________\n",
      "conv2d_2 (Conv2D)            (None, 26, 26, 64)        8256      \n",
      "_________________________________________________________________\n",
      "batch_normalization_2 (Batch (None, 26, 26, 64)        256       \n",
      "_________________________________________________________________\n",
      "dropout_2 (Dropout)          (None, 26, 26, 64)        0         \n",
      "_________________________________________________________________\n",
      "conv2d_3 (Conv2D)            (None, 25, 25, 128)       32896     \n",
      "_________________________________________________________________\n",
      "batch_normalization_3 (Batch (None, 25, 25, 128)       512       \n",
      "_________________________________________________________________\n",
      "dropout_3 (Dropout)          (None, 25, 25, 128)       0         \n",
      "_________________________________________________________________\n",
      "flatten_1 (Flatten)          (None, 80000)             0         \n",
      "_________________________________________________________________\n",
      "dense_1 (Dense)              (None, 128)               10240128  \n",
      "_________________________________________________________________\n",
      "dropout_4 (Dropout)          (None, 128)               0         \n",
      "_________________________________________________________________\n",
      "dense_2 (Dense)              (None, 10)                1290      \n",
      "=================================================================\n",
      "Total params: 10,283,626\n",
      "Trainable params: 10,283,178\n",
      "Non-trainable params: 448\n",
      "_________________________________________________________________\n"
     ]
    }
   ],
   "source": [
    "# https://www.pyimagesearch.com/2018/12/31/keras-conv2d-and-convolutional-layers/\n",
    "\n",
    "model1 = Sequential()\n",
    "\n",
    "model1.add(Conv2D(32, kernel_size=(2, 2),\n",
    "                 activation='relu',\n",
    "                 input_shape=input_shape))\n",
    "#model1.add(Conv2D(32, (2, 2), activation='relu'))\n",
    "#model1.add(MaxPooling2D(pool_size=(2, 2)))\n",
    "model1.add(BatchNormalization())\n",
    "model1.add(Dropout(0.25))\n",
    "\n",
    "model1.add(Conv2D(64, kernel_size=(2, 2),\n",
    "                 activation='relu'))\n",
    "#model1.add(Conv2D(64, (2, 2), activation='relu'))\n",
    "#model1.add(MaxPooling2D(pool_size=(2, 2)))\n",
    "model1.add(BatchNormalization())\n",
    "model1.add(Dropout(0.25))\n",
    "\n",
    "model1.add(Conv2D(128, kernel_size=(2, 2),\n",
    "                 activation='relu'))\n",
    "#model1.add(Conv2D(128, (2, 2), activation='relu'))\n",
    "#model1.add(MaxPooling2D(pool_size=(2, 2)))\n",
    "model1.add(BatchNormalization())\n",
    "model1.add(Dropout(0.25))\n",
    "\n",
    "model1.add(Flatten())\n",
    "model1.add(Dense(128, activation='relu'))\n",
    "model1.add(Dropout(0.5))\n",
    "model1.add(Dense(num_classes, activation='softmax'))\n",
    "\n",
    "model1.summary()"
   ]
  },
  {
   "cell_type": "code",
   "execution_count": 6,
   "metadata": {
    "colab": {
     "base_uri": "https://localhost:8080/",
     "height": 720
    },
    "colab_type": "code",
    "id": "xELlanpImzsX",
    "outputId": "fd582949-ba0a-4b5a-e13e-fe232e79e45c"
   },
   "outputs": [
    {
     "name": "stdout",
     "output_type": "stream",
     "text": [
      "WARNING:tensorflow:From /usr/local/lib/python3.6/dist-packages/keras/optimizers.py:793: The name tf.train.Optimizer is deprecated. Please use tf.compat.v1.train.Optimizer instead.\n",
      "\n",
      "WARNING:tensorflow:From /usr/local/lib/python3.6/dist-packages/keras/backend/tensorflow_backend.py:3576: The name tf.log is deprecated. Please use tf.math.log instead.\n",
      "\n",
      "WARNING:tensorflow:From /usr/local/lib/python3.6/dist-packages/tensorflow_core/python/ops/math_grad.py:1424: where (from tensorflow.python.ops.array_ops) is deprecated and will be removed in a future version.\n",
      "Instructions for updating:\n",
      "Use tf.where in 2.0, which has the same broadcast rule as np.where\n",
      "WARNING:tensorflow:From /usr/local/lib/python3.6/dist-packages/keras/backend/tensorflow_backend.py:1033: The name tf.assign_add is deprecated. Please use tf.compat.v1.assign_add instead.\n",
      "\n",
      "WARNING:tensorflow:From /usr/local/lib/python3.6/dist-packages/keras/backend/tensorflow_backend.py:1020: The name tf.assign is deprecated. Please use tf.compat.v1.assign instead.\n",
      "\n",
      "Train on 60000 samples, validate on 10000 samples\n",
      "Epoch 1/15\n",
      "60000/60000 [==============================] - 762s 13ms/step - loss: 0.4130 - acc: 0.8945 - val_loss: 0.3919 - val_acc: 0.9544\n",
      "Epoch 2/15\n",
      "60000/60000 [==============================] - 782s 13ms/step - loss: 0.2209 - acc: 0.9475 - val_loss: 0.3067 - val_acc: 0.9631\n",
      "Epoch 3/15\n",
      "60000/60000 [==============================] - 721s 12ms/step - loss: 0.1760 - acc: 0.9595 - val_loss: 0.0936 - val_acc: 0.9812\n",
      "Epoch 4/15\n",
      "60000/60000 [==============================] - 696s 12ms/step - loss: 0.1483 - acc: 0.9659 - val_loss: 0.1221 - val_acc: 0.9843\n",
      "Epoch 5/15\n",
      "60000/60000 [==============================] - 709s 12ms/step - loss: 0.1361 - acc: 0.9680 - val_loss: 0.0883 - val_acc: 0.9849\n",
      "Epoch 6/15\n",
      "60000/60000 [==============================] - 698s 12ms/step - loss: 0.1156 - acc: 0.9726 - val_loss: 0.0898 - val_acc: 0.9841\n",
      "Epoch 7/15\n",
      "60000/60000 [==============================] - 709s 12ms/step - loss: 0.1034 - acc: 0.9748 - val_loss: 0.0713 - val_acc: 0.9856\n",
      "Epoch 8/15\n",
      "60000/60000 [==============================] - 710s 12ms/step - loss: 0.0968 - acc: 0.9764 - val_loss: 0.0648 - val_acc: 0.9853\n",
      "Epoch 9/15\n",
      "60000/60000 [==============================] - 702s 12ms/step - loss: 0.0869 - acc: 0.9795 - val_loss: 0.0857 - val_acc: 0.9828\n",
      "Epoch 10/15\n",
      "60000/60000 [==============================] - 708s 12ms/step - loss: 0.0848 - acc: 0.9785 - val_loss: 0.0635 - val_acc: 0.9838\n",
      "Epoch 11/15\n",
      "60000/60000 [==============================] - 700s 12ms/step - loss: 0.0801 - acc: 0.9793 - val_loss: 0.0632 - val_acc: 0.9863\n",
      "Epoch 12/15\n",
      "60000/60000 [==============================] - 700s 12ms/step - loss: 0.0705 - acc: 0.9821 - val_loss: 0.0828 - val_acc: 0.9879\n",
      "Epoch 13/15\n",
      "60000/60000 [==============================] - 707s 12ms/step - loss: 0.0737 - acc: 0.9819 - val_loss: 0.0727 - val_acc: 0.9869\n",
      "Epoch 14/15\n",
      "60000/60000 [==============================] - 697s 12ms/step - loss: 0.0658 - acc: 0.9830 - val_loss: 0.0928 - val_acc: 0.9860\n",
      "Epoch 15/15\n",
      "60000/60000 [==============================] - 707s 12ms/step - loss: 0.0625 - acc: 0.9840 - val_loss: 0.0683 - val_acc: 0.9875\n"
     ]
    }
   ],
   "source": [
    "model1.compile(loss=keras.losses.categorical_crossentropy,\n",
    "              optimizer=keras.optimizers.Adadelta(),\n",
    "              metrics=['accuracy'])\n",
    "\n",
    "history1 = model1.fit(x_train, y_train,\n",
    "          batch_size=batch_size,\n",
    "          epochs=epochs,\n",
    "          verbose=1,\n",
    "          validation_data=(x_test, y_test))\n",
    "score1 = model1.evaluate(x_test, y_test, verbose=0)\n"
   ]
  },
  {
   "cell_type": "code",
   "execution_count": 7,
   "metadata": {
    "colab": {
     "base_uri": "https://localhost:8080/",
     "height": 311
    },
    "colab_type": "code",
    "id": "3PGTtI9JZzPd",
    "outputId": "b8abbafe-9629-41ce-a656-c64592e36939"
   },
   "outputs": [
    {
     "name": "stdout",
     "output_type": "stream",
     "text": [
      "Test Loss: 0.06833062314643157\n",
      "Test Accuracy: 0.9875\n"
     ]
    },
    {
     "data": {
      "image/png": "[encoded data removed]",
      "text/plain": [
       "<Figure size 432x288 with 1 Axes>"
      ]
     },
     "metadata": {
      "tags": []
     },
     "output_type": "display_data"
    }
   ],
   "source": [
    "import matplotlib.pyplot as plt\n",
    "%matplotlib inline\n",
    "print('Test Loss:', score1[0]) \n",
    "print('Test Accuracy:', score1[1])\n",
    "\n",
    "fig,ax = plt.subplots(1,1)\n",
    "ax.set_xlabel('epoch') ; ax.set_ylabel('Categorical Crossentropy Loss')\n",
    "\n",
    "# list of epoch numbers\n",
    "x = list(range(1,epochs+1))\n",
    "\n",
    "vy = history1.history['val_loss']\n",
    "ty = history1.history['loss']\n",
    "plt_dynamic(x, vy, ty, ax)"
   ]
  },
  {
   "cell_type": "markdown",
   "metadata": {
    "colab_type": "text",
    "id": "OotI4PY8mMBn"
   },
   "source": [
    "# Model 2: 5 conv layers"
   ]
  },
  {
   "cell_type": "code",
   "execution_count": 5,
   "metadata": {
    "colab": {
     "base_uri": "https://localhost:8080/",
     "height": 1000
    },
    "colab_type": "code",
    "id": "i9tq6egPmWLd",
    "outputId": "cee7b9c5-f26e-47cb-937c-3d38e86f00b1"
   },
   "outputs": [
    {
     "name": "stdout",
     "output_type": "stream",
     "text": [
      "WARNING:tensorflow:From /usr/local/lib/python3.6/dist-packages/keras/backend/tensorflow_backend.py:66: The name tf.get_default_graph is deprecated. Please use tf.compat.v1.get_default_graph instead.\n",
      "\n",
      "WARNING:tensorflow:From /usr/local/lib/python3.6/dist-packages/keras/backend/tensorflow_backend.py:541: The name tf.placeholder is deprecated. Please use tf.compat.v1.placeholder instead.\n",
      "\n",
      "WARNING:tensorflow:From /usr/local/lib/python3.6/dist-packages/keras/backend/tensorflow_backend.py:4432: The name tf.random_uniform is deprecated. Please use tf.random.uniform instead.\n",
      "\n",
      "WARNING:tensorflow:From /usr/local/lib/python3.6/dist-packages/keras/backend/tensorflow_backend.py:190: The name tf.get_default_session is deprecated. Please use tf.compat.v1.get_default_session instead.\n",
      "\n",
      "WARNING:tensorflow:From /usr/local/lib/python3.6/dist-packages/keras/backend/tensorflow_backend.py:197: The name tf.ConfigProto is deprecated. Please use tf.compat.v1.ConfigProto instead.\n",
      "\n",
      "WARNING:tensorflow:From /usr/local/lib/python3.6/dist-packages/keras/backend/tensorflow_backend.py:203: The name tf.Session is deprecated. Please use tf.compat.v1.Session instead.\n",
      "\n",
      "WARNING:tensorflow:From /usr/local/lib/python3.6/dist-packages/keras/backend/tensorflow_backend.py:207: The name tf.global_variables is deprecated. Please use tf.compat.v1.global_variables instead.\n",
      "\n",
      "WARNING:tensorflow:From /usr/local/lib/python3.6/dist-packages/keras/backend/tensorflow_backend.py:216: The name tf.is_variable_initialized is deprecated. Please use tf.compat.v1.is_variable_initialized instead.\n",
      "\n",
      "WARNING:tensorflow:From /usr/local/lib/python3.6/dist-packages/keras/backend/tensorflow_backend.py:223: The name tf.variables_initializer is deprecated. Please use tf.compat.v1.variables_initializer instead.\n",
      "\n",
      "WARNING:tensorflow:From /usr/local/lib/python3.6/dist-packages/keras/backend/tensorflow_backend.py:2041: The name tf.nn.fused_batch_norm is deprecated. Please use tf.compat.v1.nn.fused_batch_norm instead.\n",
      "\n",
      "WARNING:tensorflow:From /usr/local/lib/python3.6/dist-packages/keras/backend/tensorflow_backend.py:148: The name tf.placeholder_with_default is deprecated. Please use tf.compat.v1.placeholder_with_default instead.\n",
      "\n",
      "WARNING:tensorflow:From /usr/local/lib/python3.6/dist-packages/keras/backend/tensorflow_backend.py:3733: calling dropout (from tensorflow.python.ops.nn_ops) with keep_prob is deprecated and will be removed in a future version.\n",
      "Instructions for updating:\n",
      "Please use `rate` instead of `keep_prob`. Rate should be set to `rate = 1 - keep_prob`.\n",
      "WARNING:tensorflow:From /usr/local/lib/python3.6/dist-packages/keras/backend/tensorflow_backend.py:4409: The name tf.random_normal is deprecated. Please use tf.random.normal instead.\n",
      "\n",
      "WARNING:tensorflow:From /usr/local/lib/python3.6/dist-packages/keras/backend/tensorflow_backend.py:4267: The name tf.nn.max_pool is deprecated. Please use tf.nn.max_pool2d instead.\n",
      "\n",
      "Model: \"sequential_1\"\n",
      "_________________________________________________________________\n",
      "Layer (type)                 Output Shape              Param #   \n",
      "=================================================================\n",
      "conv2d_1 (Conv2D)            (None, 26, 26, 8)         80        \n",
      "_________________________________________________________________\n",
      "batch_normalization_1 (Batch (None, 26, 26, 8)         32        \n",
      "_________________________________________________________________\n",
      "dropout_1 (Dropout)          (None, 26, 26, 8)         0         \n",
      "_________________________________________________________________\n",
      "dense_1 (Dense)              (None, 26, 26, 32)        288       \n",
      "_________________________________________________________________\n",
      "conv2d_2 (Conv2D)            (None, 24, 24, 16)        4624      \n",
      "_________________________________________________________________\n",
      "batch_normalization_2 (Batch (None, 24, 24, 16)        64        \n",
      "_________________________________________________________________\n",
      "dropout_2 (Dropout)          (None, 24, 24, 16)        0         \n",
      "_________________________________________________________________\n",
      "dense_2 (Dense)              (None, 24, 24, 32)        544       \n",
      "_________________________________________________________________\n",
      "conv2d_3 (Conv2D)            (None, 22, 22, 32)        9248      \n",
      "_________________________________________________________________\n",
      "batch_normalization_3 (Batch (None, 22, 22, 32)        128       \n",
      "_________________________________________________________________\n",
      "dropout_3 (Dropout)          (None, 22, 22, 32)        0         \n",
      "_________________________________________________________________\n",
      "dense_3 (Dense)              (None, 22, 22, 64)        2112      \n",
      "_________________________________________________________________\n",
      "conv2d_4 (Conv2D)            (None, 20, 20, 64)        36928     \n",
      "_________________________________________________________________\n",
      "batch_normalization_4 (Batch (None, 20, 20, 64)        256       \n",
      "_________________________________________________________________\n",
      "dropout_4 (Dropout)          (None, 20, 20, 64)        0         \n",
      "_________________________________________________________________\n",
      "dense_4 (Dense)              (None, 20, 20, 64)        4160      \n",
      "_________________________________________________________________\n",
      "conv2d_5 (Conv2D)            (None, 18, 18, 64)        36928     \n",
      "_________________________________________________________________\n",
      "max_pooling2d_1 (MaxPooling2 (None, 9, 9, 64)          0         \n",
      "_________________________________________________________________\n",
      "batch_normalization_5 (Batch (None, 9, 9, 64)          256       \n",
      "_________________________________________________________________\n",
      "dropout_5 (Dropout)          (None, 9, 9, 64)          0         \n",
      "_________________________________________________________________\n",
      "flatten_1 (Flatten)          (None, 5184)              0         \n",
      "_________________________________________________________________\n",
      "dense_5 (Dense)              (None, 128)               663680    \n",
      "_________________________________________________________________\n",
      "dropout_6 (Dropout)          (None, 128)               0         \n",
      "_________________________________________________________________\n",
      "dense_6 (Dense)              (None, 10)                1290      \n",
      "=================================================================\n",
      "Total params: 760,618\n",
      "Trainable params: 760,250\n",
      "Non-trainable params: 368\n",
      "_________________________________________________________________\n"
     ]
    }
   ],
   "source": [
    "# https://www.pyimagesearch.com/2018/12/31/keras-conv2d-and-convolutional-layers/\n",
    "\n",
    "model2 = Sequential()\n",
    "\n",
    "model2.add(Conv2D(8, kernel_size=(3, 3),\n",
    "                 activation='relu',\n",
    "                 input_shape=input_shape))\n",
    "#model2.add(Conv2D(8, (3, 3), activation='relu'))\n",
    "model2.add(BatchNormalization())\n",
    "model2.add(Dropout(0.25))\n",
    "\n",
    "model2.add(Dense(32, activation='relu', kernel_initializer=RandomNormal(mean=0.0, stddev=0.039, seed=None)))\n",
    "\n",
    "model2.add(Conv2D(16, kernel_size=(3, 3),\n",
    "                 activation='relu'))\n",
    "#model2.add(Conv2D(16, (3, 3), activation='relu'))\n",
    "model2.add(BatchNormalization())\n",
    "model2.add(Dropout(0.25))\n",
    "\n",
    "model2.add(Dense(32, activation='relu', kernel_initializer=RandomNormal(mean=0.0, stddev=0.039, seed=None)))\n",
    "\n",
    "model2.add(Conv2D(32, kernel_size=(3, 3),\n",
    "                 activation='relu'))\n",
    "#model2.add(Conv2D(32, (3, 3), activation='relu'))\n",
    "model2.add(BatchNormalization())\n",
    "model2.add(Dropout(0.25))\n",
    "\n",
    "model2.add(Dense(64, activation='relu', kernel_initializer=RandomNormal(mean=0.0, stddev=0.039, seed=None)))\n",
    "\n",
    "model2.add(Conv2D(64, kernel_size=(3, 3),\n",
    "                 activation='relu'))\n",
    "#model2.add(Conv2D(64, (3, 3), activation='relu'))\n",
    "model2.add(BatchNormalization())\n",
    "model2.add(Dropout(0.25))\n",
    "\n",
    "model2.add(Dense(64, activation='relu', kernel_initializer=RandomNormal(mean=0.0, stddev=0.039, seed=None)))\n",
    "\n",
    "model2.add(Conv2D(64, kernel_size=(3, 3),\n",
    "                 activation='relu'))\n",
    "#model2.add(Conv2D(64, (3, 3), activation='relu'))\n",
    "model2.add(MaxPooling2D(pool_size=(2, 2)))\n",
    "model2.add(BatchNormalization())\n",
    "model2.add(Dropout(0.25))\n",
    "\n",
    "model2.add(Flatten())\n",
    "model2.add(Dense(128, activation='relu'))\n",
    "model2.add(Dropout(0.5))\n",
    "model2.add(Dense(num_classes, activation='softmax'))\n",
    "\n",
    "model2.summary()"
   ]
  },
  {
   "cell_type": "code",
   "execution_count": 6,
   "metadata": {
    "colab": {
     "base_uri": "https://localhost:8080/",
     "height": 720
    },
    "colab_type": "code",
    "id": "xELlanpImzsX",
    "outputId": "16676ae6-e549-4762-b90f-23fee58dd01e"
   },
   "outputs": [
    {
     "name": "stdout",
     "output_type": "stream",
     "text": [
      "WARNING:tensorflow:From /usr/local/lib/python3.6/dist-packages/keras/optimizers.py:793: The name tf.train.Optimizer is deprecated. Please use tf.compat.v1.train.Optimizer instead.\n",
      "\n",
      "WARNING:tensorflow:From /usr/local/lib/python3.6/dist-packages/keras/backend/tensorflow_backend.py:3576: The name tf.log is deprecated. Please use tf.math.log instead.\n",
      "\n",
      "WARNING:tensorflow:From /usr/local/lib/python3.6/dist-packages/tensorflow_core/python/ops/math_grad.py:1424: where (from tensorflow.python.ops.array_ops) is deprecated and will be removed in a future version.\n",
      "Instructions for updating:\n",
      "Use tf.where in 2.0, which has the same broadcast rule as np.where\n",
      "WARNING:tensorflow:From /usr/local/lib/python3.6/dist-packages/keras/backend/tensorflow_backend.py:1033: The name tf.assign_add is deprecated. Please use tf.compat.v1.assign_add instead.\n",
      "\n",
      "WARNING:tensorflow:From /usr/local/lib/python3.6/dist-packages/keras/backend/tensorflow_backend.py:1020: The name tf.assign is deprecated. Please use tf.compat.v1.assign instead.\n",
      "\n",
      "Train on 60000 samples, validate on 10000 samples\n",
      "Epoch 1/15\n",
      "60000/60000 [==============================] - 565s 9ms/step - loss: 0.3019 - acc: 0.9126 - val_loss: 0.0859 - val_acc: 0.9801\n",
      "Epoch 2/15\n",
      "60000/60000 [==============================] - 569s 9ms/step - loss: 0.1150 - acc: 0.9692 - val_loss: 0.0500 - val_acc: 0.9857\n",
      "Epoch 3/15\n",
      "60000/60000 [==============================] - 568s 9ms/step - loss: 0.0797 - acc: 0.9776 - val_loss: 0.0823 - val_acc: 0.9855\n",
      "Epoch 4/15\n",
      "60000/60000 [==============================] - 564s 9ms/step - loss: 0.0680 - acc: 0.9811 - val_loss: 0.0491 - val_acc: 0.9888\n",
      "Epoch 5/15\n",
      "60000/60000 [==============================] - 568s 9ms/step - loss: 0.0552 - acc: 0.9844 - val_loss: 0.0319 - val_acc: 0.9911\n",
      "Epoch 6/15\n",
      "60000/60000 [==============================] - 565s 9ms/step - loss: 0.0497 - acc: 0.9859 - val_loss: 0.0461 - val_acc: 0.9912\n",
      "Epoch 7/15\n",
      "60000/60000 [==============================] - 560s 9ms/step - loss: 0.0467 - acc: 0.9867 - val_loss: 0.0274 - val_acc: 0.9919\n",
      "Epoch 8/15\n",
      "60000/60000 [==============================] - 563s 9ms/step - loss: 0.0431 - acc: 0.9874 - val_loss: 0.0272 - val_acc: 0.9926\n",
      "Epoch 9/15\n",
      "60000/60000 [==============================] - 566s 9ms/step - loss: 0.0408 - acc: 0.9886 - val_loss: 0.0418 - val_acc: 0.9925\n",
      "Epoch 10/15\n",
      "60000/60000 [==============================] - 563s 9ms/step - loss: 0.0387 - acc: 0.9895 - val_loss: 0.0315 - val_acc: 0.9918\n",
      "Epoch 11/15\n",
      "60000/60000 [==============================] - 564s 9ms/step - loss: 0.0345 - acc: 0.9903 - val_loss: 0.0242 - val_acc: 0.9932\n",
      "Epoch 12/15\n",
      "60000/60000 [==============================] - 566s 9ms/step - loss: 0.0317 - acc: 0.9915 - val_loss: 0.0481 - val_acc: 0.9929\n",
      "Epoch 13/15\n",
      "60000/60000 [==============================] - 565s 9ms/step - loss: 0.0323 - acc: 0.9913 - val_loss: 0.0403 - val_acc: 0.9924\n",
      "Epoch 14/15\n",
      "60000/60000 [==============================] - 564s 9ms/step - loss: 0.0284 - acc: 0.9916 - val_loss: 0.0286 - val_acc: 0.9926\n",
      "Epoch 15/15\n",
      "60000/60000 [==============================] - 567s 9ms/step - loss: 0.0285 - acc: 0.9919 - val_loss: 0.0432 - val_acc: 0.9926\n"
     ]
    }
   ],
   "source": [
    "model2.compile(loss=keras.losses.categorical_crossentropy,\n",
    "              optimizer=keras.optimizers.Adadelta(),\n",
    "              metrics=['accuracy'])\n",
    "\n",
    "history2 = model2.fit(x_train, y_train,\n",
    "          batch_size=batch_size,\n",
    "          epochs=epochs,\n",
    "          verbose=1,\n",
    "          validation_data=(x_test, y_test))\n",
    "score2 = model2.evaluate(x_test, y_test, verbose=0)"
   ]
  },
  {
   "cell_type": "code",
   "execution_count": 10,
   "metadata": {
    "colab": {
     "base_uri": "https://localhost:8080/",
     "height": 311
    },
    "colab_type": "code",
    "id": "DYSkWqSeab85",
    "outputId": "06c1c7b1-9fc7-4ce4-9077-808851aa8427"
   },
   "outputs": [
    {
     "name": "stdout",
     "output_type": "stream",
     "text": [
      "Test Loss: 0.04322146709871818\n",
      "Test Accuracy: 0.9926\n"
     ]
    },
    {
     "data": {
      "image/png": "[encoded data removed]",
      "text/plain": [
       "<Figure size 432x288 with 1 Axes>"
      ]
     },
     "metadata": {
      "tags": []
     },
     "output_type": "display_data"
    }
   ],
   "source": [
    "import matplotlib.pyplot as plt\n",
    "%matplotlib inline\n",
    "print('Test Loss:', score2[0]) \n",
    "print('Test Accuracy:', score2[1])\n",
    "\n",
    "fig,ax = plt.subplots(1,1)\n",
    "ax.set_xlabel('epoch') ; ax.set_ylabel('Categorical Crossentropy Loss')\n",
    "\n",
    "# list of epoch numbers\n",
    "x = list(range(1,epochs+1))\n",
    "\n",
    "vy = history2.history['val_loss']\n",
    "ty = history2.history['loss']\n",
    "plt_dynamic(x, vy, ty, ax)"
   ]
  },
  {
   "cell_type": "markdown",
   "metadata": {
    "colab_type": "text",
    "id": "OotI4PY8mMBn"
   },
   "source": [
    "# Model 3: 7 conv layers"
   ]
  },
  {
   "cell_type": "code",
   "execution_count": 5,
   "metadata": {
    "colab": {
     "base_uri": "https://localhost:8080/",
     "height": 1000
    },
    "colab_type": "code",
    "id": "i9tq6egPmWLd",
    "outputId": "52d3c938-040a-471d-bcd3-945fd1b0f574"
   },
   "outputs": [
    {
     "name": "stdout",
     "output_type": "stream",
     "text": [
      "WARNING:tensorflow:From /usr/local/lib/python3.6/dist-packages/keras/backend/tensorflow_backend.py:66: The name tf.get_default_graph is deprecated. Please use tf.compat.v1.get_default_graph instead.\n",
      "\n",
      "WARNING:tensorflow:From /usr/local/lib/python3.6/dist-packages/keras/backend/tensorflow_backend.py:541: The name tf.placeholder is deprecated. Please use tf.compat.v1.placeholder instead.\n",
      "\n",
      "WARNING:tensorflow:From /usr/local/lib/python3.6/dist-packages/keras/backend/tensorflow_backend.py:4432: The name tf.random_uniform is deprecated. Please use tf.random.uniform instead.\n",
      "\n",
      "WARNING:tensorflow:From /usr/local/lib/python3.6/dist-packages/keras/backend/tensorflow_backend.py:190: The name tf.get_default_session is deprecated. Please use tf.compat.v1.get_default_session instead.\n",
      "\n",
      "WARNING:tensorflow:From /usr/local/lib/python3.6/dist-packages/keras/backend/tensorflow_backend.py:197: The name tf.ConfigProto is deprecated. Please use tf.compat.v1.ConfigProto instead.\n",
      "\n",
      "WARNING:tensorflow:From /usr/local/lib/python3.6/dist-packages/keras/backend/tensorflow_backend.py:203: The name tf.Session is deprecated. Please use tf.compat.v1.Session instead.\n",
      "\n",
      "WARNING:tensorflow:From /usr/local/lib/python3.6/dist-packages/keras/backend/tensorflow_backend.py:207: The name tf.global_variables is deprecated. Please use tf.compat.v1.global_variables instead.\n",
      "\n",
      "WARNING:tensorflow:From /usr/local/lib/python3.6/dist-packages/keras/backend/tensorflow_backend.py:216: The name tf.is_variable_initialized is deprecated. Please use tf.compat.v1.is_variable_initialized instead.\n",
      "\n",
      "WARNING:tensorflow:From /usr/local/lib/python3.6/dist-packages/keras/backend/tensorflow_backend.py:223: The name tf.variables_initializer is deprecated. Please use tf.compat.v1.variables_initializer instead.\n",
      "\n",
      "WARNING:tensorflow:From /usr/local/lib/python3.6/dist-packages/keras/backend/tensorflow_backend.py:2041: The name tf.nn.fused_batch_norm is deprecated. Please use tf.compat.v1.nn.fused_batch_norm instead.\n",
      "\n",
      "WARNING:tensorflow:From /usr/local/lib/python3.6/dist-packages/keras/backend/tensorflow_backend.py:148: The name tf.placeholder_with_default is deprecated. Please use tf.compat.v1.placeholder_with_default instead.\n",
      "\n",
      "WARNING:tensorflow:From /usr/local/lib/python3.6/dist-packages/keras/backend/tensorflow_backend.py:3733: calling dropout (from tensorflow.python.ops.nn_ops) with keep_prob is deprecated and will be removed in a future version.\n",
      "Instructions for updating:\n",
      "Please use `rate` instead of `keep_prob`. Rate should be set to `rate = 1 - keep_prob`.\n",
      "WARNING:tensorflow:From /usr/local/lib/python3.6/dist-packages/keras/backend/tensorflow_backend.py:4409: The name tf.random_normal is deprecated. Please use tf.random.normal instead.\n",
      "\n",
      "WARNING:tensorflow:From /usr/local/lib/python3.6/dist-packages/keras/backend/tensorflow_backend.py:4267: The name tf.nn.max_pool is deprecated. Please use tf.nn.max_pool2d instead.\n",
      "\n",
      "Model: \"sequential_1\"\n",
      "_________________________________________________________________\n",
      "Layer (type)                 Output Shape              Param #   \n",
      "=================================================================\n",
      "conv2d_1 (Conv2D)            (None, 27, 27, 8)         40        \n",
      "_________________________________________________________________\n",
      "batch_normalization_1 (Batch (None, 27, 27, 8)         32        \n",
      "_________________________________________________________________\n",
      "dropout_1 (Dropout)          (None, 27, 27, 8)         0         \n",
      "_________________________________________________________________\n",
      "dense_1 (Dense)              (None, 27, 27, 8)         72        \n",
      "_________________________________________________________________\n",
      "conv2d_2 (Conv2D)            (None, 23, 23, 16)        3216      \n",
      "_________________________________________________________________\n",
      "batch_normalization_2 (Batch (None, 23, 23, 16)        64        \n",
      "_________________________________________________________________\n",
      "dropout_2 (Dropout)          (None, 23, 23, 16)        0         \n",
      "_________________________________________________________________\n",
      "dense_2 (Dense)              (None, 23, 23, 16)        272       \n",
      "_________________________________________________________________\n",
      "conv2d_3 (Conv2D)            (None, 19, 19, 32)        12832     \n",
      "_________________________________________________________________\n",
      "batch_normalization_3 (Batch (None, 19, 19, 32)        128       \n",
      "_________________________________________________________________\n",
      "dropout_3 (Dropout)          (None, 19, 19, 32)        0         \n",
      "_________________________________________________________________\n",
      "dense_3 (Dense)              (None, 19, 19, 32)        1056      \n",
      "_________________________________________________________________\n",
      "conv2d_4 (Conv2D)            (None, 15, 15, 64)        51264     \n",
      "_________________________________________________________________\n",
      "batch_normalization_4 (Batch (None, 15, 15, 64)        256       \n",
      "_________________________________________________________________\n",
      "dropout_4 (Dropout)          (None, 15, 15, 64)        0         \n",
      "_________________________________________________________________\n",
      "dense_4 (Dense)              (None, 15, 15, 64)        4160      \n",
      "_________________________________________________________________\n",
      "conv2d_5 (Conv2D)            (None, 11, 11, 128)       204928    \n",
      "_________________________________________________________________\n",
      "batch_normalization_5 (Batch (None, 11, 11, 128)       512       \n",
      "_________________________________________________________________\n",
      "dropout_5 (Dropout)          (None, 11, 11, 128)       0         \n",
      "_________________________________________________________________\n",
      "dense_5 (Dense)              (None, 11, 11, 128)       16512     \n",
      "_________________________________________________________________\n",
      "conv2d_6 (Conv2D)            (None, 7, 7, 256)         819456    \n",
      "_________________________________________________________________\n",
      "batch_normalization_6 (Batch (None, 7, 7, 256)         1024      \n",
      "_________________________________________________________________\n",
      "dropout_6 (Dropout)          (None, 7, 7, 256)         0         \n",
      "_________________________________________________________________\n",
      "dense_6 (Dense)              (None, 7, 7, 256)         65792     \n",
      "_________________________________________________________________\n",
      "conv2d_7 (Conv2D)            (None, 3, 3, 512)         3277312   \n",
      "_________________________________________________________________\n",
      "max_pooling2d_1 (MaxPooling2 (None, 1, 1, 512)         0         \n",
      "_________________________________________________________________\n",
      "batch_normalization_7 (Batch (None, 1, 1, 512)         2048      \n",
      "_________________________________________________________________\n",
      "dropout_7 (Dropout)          (None, 1, 1, 512)         0         \n",
      "_________________________________________________________________\n",
      "flatten_1 (Flatten)          (None, 512)               0         \n",
      "_________________________________________________________________\n",
      "dense_7 (Dense)              (None, 512)               262656    \n",
      "_________________________________________________________________\n",
      "dropout_8 (Dropout)          (None, 512)               0         \n",
      "_________________________________________________________________\n",
      "dense_8 (Dense)              (None, 10)                5130      \n",
      "=================================================================\n",
      "Total params: 4,728,762\n",
      "Trainable params: 4,726,730\n",
      "Non-trainable params: 2,032\n",
      "_________________________________________________________________\n"
     ]
    }
   ],
   "source": [
    "# https://www.pyimagesearch.com/2018/12/31/keras-conv2d-and-convolutional-layers/\n",
    "\n",
    "model3 = Sequential()\n",
    "\n",
    "model3.add(Conv2D(8, kernel_size=(2, 2),\n",
    "                 activation='relu',\n",
    "                 input_shape=input_shape))\n",
    "#model3.add(Conv2D(8, (5, 5), activation='relu'))\n",
    "model3.add(BatchNormalization())\n",
    "model3.add(Dropout(0.25))\n",
    "\n",
    "model3.add(Dense(8, activation='relu', kernel_initializer=RandomNormal(mean=0.0, stddev=0.039, seed=None)))\n",
    "\n",
    "model3.add(Conv2D(16, kernel_size=(5, 5),\n",
    "                 activation='relu'))\n",
    "#model3.add(Conv2D(16, (5, 5), activation='relu'))\n",
    "model3.add(BatchNormalization())\n",
    "model3.add(Dropout(0.25))\n",
    "\n",
    "model3.add(Dense(16, activation='relu', kernel_initializer=RandomNormal(mean=0.0, stddev=0.039, seed=None)))\n",
    "\n",
    "model3.add(Conv2D(32, kernel_size=(5, 5),\n",
    "                 activation='relu'))\n",
    "#model3.add(Conv2D(32, (5, 5), activation='relu'))\n",
    "model3.add(BatchNormalization())\n",
    "model3.add(Dropout(0.25))\n",
    "\n",
    "model3.add(Dense(32, activation='relu', kernel_initializer=RandomNormal(mean=0.0, stddev=0.039, seed=None)))\n",
    "\n",
    "model3.add(Conv2D(64, kernel_size=(5, 5),\n",
    "                 activation='relu'))\n",
    "#model3.add(Conv2D(64, (5, 5), activation='relu'))\n",
    "model3.add(BatchNormalization())\n",
    "model3.add(Dropout(0.25))\n",
    "\n",
    "model3.add(Dense(64, activation='relu', kernel_initializer=RandomNormal(mean=0.0, stddev=0.039, seed=None)))\n",
    "\n",
    "model3.add(Conv2D(128, kernel_size=(5, 5),\n",
    "                 activation='relu'))\n",
    "#model3.add(Conv2D(128, (5, 5), activation='relu'))\n",
    "model3.add(BatchNormalization())\n",
    "model3.add(Dropout(0.25))\n",
    "\n",
    "model3.add(Dense(128, activation='relu', kernel_initializer=RandomNormal(mean=0.0, stddev=0.039, seed=None)))\n",
    "\n",
    "model3.add(Conv2D(256, kernel_size=(5, 5),\n",
    "                 activation='relu'))\n",
    "#model3.add(Conv2D(256, (5, 5), activation='relu'))\n",
    "model3.add(BatchNormalization())\n",
    "model3.add(Dropout(0.25))\n",
    "\n",
    "model3.add(Dense(256, activation='relu', kernel_initializer=RandomNormal(mean=0.0, stddev=0.039, seed=None)))\n",
    "\n",
    "model3.add(Conv2D(512, kernel_size=(5, 5),\n",
    "                 activation='relu'))\n",
    "#model3.add(Conv2D(512, (5, 5), activation='relu'))\n",
    "model3.add(MaxPooling2D(pool_size=(2, 2)))\n",
    "model3.add(BatchNormalization())\n",
    "model3.add(Dropout(0.25))\n",
    "\n",
    "model3.add(Flatten())\n",
    "model3.add(Dense(512, activation='relu'))\n",
    "model3.add(Dropout(0.5))\n",
    "model3.add(Dense(num_classes, activation='softmax'))\n",
    "\n",
    "model3.summary()"
   ]
  },
  {
   "cell_type": "code",
   "execution_count": 6,
   "metadata": {
    "colab": {
     "base_uri": "https://localhost:8080/",
     "height": 720
    },
    "colab_type": "code",
    "id": "xELlanpImzsX",
    "outputId": "977ca85b-fc8a-49b7-ae5c-4c35f6b0d853"
   },
   "outputs": [
    {
     "name": "stdout",
     "output_type": "stream",
     "text": [
      "WARNING:tensorflow:From /usr/local/lib/python3.6/dist-packages/keras/optimizers.py:793: The name tf.train.Optimizer is deprecated. Please use tf.compat.v1.train.Optimizer instead.\n",
      "\n",
      "WARNING:tensorflow:From /usr/local/lib/python3.6/dist-packages/keras/backend/tensorflow_backend.py:3576: The name tf.log is deprecated. Please use tf.math.log instead.\n",
      "\n",
      "WARNING:tensorflow:From /usr/local/lib/python3.6/dist-packages/tensorflow_core/python/ops/math_grad.py:1424: where (from tensorflow.python.ops.array_ops) is deprecated and will be removed in a future version.\n",
      "Instructions for updating:\n",
      "Use tf.where in 2.0, which has the same broadcast rule as np.where\n",
      "WARNING:tensorflow:From /usr/local/lib/python3.6/dist-packages/keras/backend/tensorflow_backend.py:1033: The name tf.assign_add is deprecated. Please use tf.compat.v1.assign_add instead.\n",
      "\n",
      "WARNING:tensorflow:From /usr/local/lib/python3.6/dist-packages/keras/backend/tensorflow_backend.py:1020: The name tf.assign is deprecated. Please use tf.compat.v1.assign instead.\n",
      "\n",
      "Train on 60000 samples, validate on 10000 samples\n",
      "Epoch 1/15\n",
      "60000/60000 [==============================] - 1722s 29ms/step - loss: 0.4641 - acc: 0.8587 - val_loss: 0.1586 - val_acc: 0.9645\n",
      "Epoch 2/15\n",
      "60000/60000 [==============================] - 1719s 29ms/step - loss: 0.1045 - acc: 0.9691 - val_loss: 0.0992 - val_acc: 0.9759\n",
      "Epoch 3/15\n",
      "60000/60000 [==============================] - 1727s 29ms/step - loss: 0.0741 - acc: 0.9780 - val_loss: 0.0832 - val_acc: 0.9776\n",
      "Epoch 4/15\n",
      "60000/60000 [==============================] - 1740s 29ms/step - loss: 0.0604 - acc: 0.9821 - val_loss: 0.0677 - val_acc: 0.9826\n",
      "Epoch 5/15\n",
      "60000/60000 [==============================] - 1732s 29ms/step - loss: 0.0539 - acc: 0.9848 - val_loss: 0.0474 - val_acc: 0.9870\n",
      "Epoch 6/15\n",
      "60000/60000 [==============================] - 1722s 29ms/step - loss: 0.0475 - acc: 0.9858 - val_loss: 0.0376 - val_acc: 0.9906\n",
      "Epoch 7/15\n",
      "60000/60000 [==============================] - 1681s 28ms/step - loss: 0.0425 - acc: 0.9879 - val_loss: 0.0495 - val_acc: 0.9875\n",
      "Epoch 8/15\n",
      "60000/60000 [==============================] - 1669s 28ms/step - loss: 0.0387 - acc: 0.9886 - val_loss: 0.0350 - val_acc: 0.9920\n",
      "Epoch 9/15\n",
      "60000/60000 [==============================] - 1697s 28ms/step - loss: 0.0373 - acc: 0.9892 - val_loss: 0.0395 - val_acc: 0.9906\n",
      "Epoch 10/15\n",
      "60000/60000 [==============================] - 1693s 28ms/step - loss: 0.0357 - acc: 0.9891 - val_loss: 0.0378 - val_acc: 0.9905\n",
      "Epoch 11/15\n",
      "60000/60000 [==============================] - 1681s 28ms/step - loss: 0.0329 - acc: 0.9906 - val_loss: 0.0308 - val_acc: 0.9928\n",
      "Epoch 12/15\n",
      "60000/60000 [==============================] - 1695s 28ms/step - loss: 0.0310 - acc: 0.9907 - val_loss: 0.0358 - val_acc: 0.9917\n",
      "Epoch 13/15\n",
      "60000/60000 [==============================] - 1716s 29ms/step - loss: 0.0317 - acc: 0.9911 - val_loss: 0.0370 - val_acc: 0.9900\n",
      "Epoch 14/15\n",
      "60000/60000 [==============================] - 1785s 30ms/step - loss: 0.0290 - acc: 0.9914 - val_loss: 0.0339 - val_acc: 0.9918\n",
      "Epoch 15/15\n",
      "60000/60000 [==============================] - 1776s 30ms/step - loss: 0.0260 - acc: 0.9923 - val_loss: 0.0276 - val_acc: 0.9939\n"
     ]
    }
   ],
   "source": [
    "model3.compile(loss=keras.losses.categorical_crossentropy,\n",
    "              optimizer=keras.optimizers.Adadelta(),\n",
    "              metrics=['accuracy'])\n",
    "\n",
    "history3 = model3.fit(x_train, y_train,\n",
    "          batch_size=batch_size,\n",
    "          epochs=epochs,\n",
    "          verbose=1,\n",
    "          validation_data=(x_test, y_test))\n",
    "score3 = model3.evaluate(x_test, y_test, verbose=0)"
   ]
  },
  {
   "cell_type": "code",
   "execution_count": 7,
   "metadata": {
    "colab": {
     "base_uri": "https://localhost:8080/",
     "height": 311
    },
    "colab_type": "code",
    "id": "FxL2B5gvbEqx",
    "outputId": "0076db62-5297-4dfe-c5a6-4fd3bad03d86"
   },
   "outputs": [
    {
     "name": "stdout",
     "output_type": "stream",
     "text": [
      "Test Loss: 0.027568514890003098\n",
      "Test Accuracy: 0.9939\n"
     ]
    },
    {
     "data": {
      "image/png": "[encoded data removed]",
      "text/plain": [
       "<Figure size 432x288 with 1 Axes>"
      ]
     },
     "metadata": {
      "tags": []
     },
     "output_type": "display_data"
    }
   ],
   "source": [
    "import matplotlib.pyplot as plt\n",
    "%matplotlib inline\n",
    "print('Test Loss:', score3[0]) \n",
    "print('Test Accuracy:', score3[1])\n",
    "\n",
    "fig,ax = plt.subplots(1,1)\n",
    "ax.set_xlabel('epoch') ; ax.set_ylabel('Categorical Crossentropy Loss')\n",
    "\n",
    "# list of epoch numbers\n",
    "x = list(range(1,epochs+1))\n",
    "\n",
    "vy = history3.history['val_loss']\n",
    "ty = history3.history['loss']\n",
    "plt_dynamic(x, vy, ty, ax)"
   ]
  },
  {
   "cell_type": "markdown",
   "metadata": {},
   "source": [
    "# Conclusion"
   ]
  },
  {
   "cell_type": "code",
   "execution_count": 2,
   "metadata": {},
   "outputs": [],
   "source": [
    "from prettytable import PrettyTable\n",
    "\n",
    "x = PrettyTable()"
   ]
  },
  {
   "cell_type": "code",
   "execution_count": 4,
   "metadata": {},
   "outputs": [],
   "source": [
    "x.field_names = ['Model #', '# of Conv', 'Test Loss', 'Test Accuracy']\n",
    "x.add_row(['1', '3', '0.06833062314643157', '0.9875'])\n",
    "x.add_row(['2', '5', '0.04322146709871818', '0.9926'])\n",
    "x.add_row(['3', '7', '0.027568514890003098', '0.9939'])"
   ]
  },
  {
   "cell_type": "code",
   "execution_count": 5,
   "metadata": {},
   "outputs": [
    {
     "name": "stdout",
     "output_type": "stream",
     "text": [
      "+---------+-----------+----------------------+---------------+\n",
      "| Model # | # of Conv |      Test Loss       | Test Accuracy |\n",
      "+---------+-----------+----------------------+---------------+\n",
      "|    1    |     3     | 0.06833062314643157  |     0.9875    |\n",
      "|    2    |     5     | 0.04322146709871818  |     0.9926    |\n",
      "|    3    |     7     | 0.027568514890003098 |     0.9939    |\n",
      "+---------+-----------+----------------------+---------------+\n"
     ]
    }
   ],
   "source": [
    "print(x)"
   ]
  },
  {
   "cell_type": "markdown",
   "metadata": {},
   "source": [
    "# Summary"
   ]
  },
  {
   "cell_type": "markdown",
   "metadata": {},
   "source": [
    "There are three models, model 1 has 3 convolution layers, model 2 has 5 convolution layers, model 3 has 7 convolution layers.\n",
    "\n",
    "1. For model 1, Test Loss is 0.0683 and Test Accuracy is the lowest 0.9875.\n",
    "2. For model 2, Test Loss is 0.0432 and Test Accuracy is 0.9926.\n",
    "3. For model 3, Test Loss is 0.0275 and Test Accuracy is the highest 0.9939."
   ]
  }
 ],
 "metadata": {
  "colab": {
   "collapsed_sections": [],
   "name": "Assignment-M13 - Try various CNN networks on MNIST dataset.ipynb",
   "provenance": []
  },
  "kernelspec": {
   "display_name": "Python 3",
   "language": "python",
   "name": "python3"
  },
  "language_info": {
   "codemirror_mode": {
    "name": "ipython",
    "version": 3
   },
   "file_extension": ".py",
   "mimetype": "text/x-python",
   "name": "python",
   "nbconvert_exporter": "python",
   "pygments_lexer": "ipython3",
   "version": "3.6.5"
  }
 },
 "nbformat": 4,
 "nbformat_minor": 1
}
