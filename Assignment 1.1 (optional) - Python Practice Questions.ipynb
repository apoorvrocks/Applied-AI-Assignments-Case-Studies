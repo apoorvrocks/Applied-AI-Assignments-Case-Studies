{
 "cells": [
  {
   "cell_type": "markdown",
   "metadata": {},
   "source": [
    "# Q1. Write a function that inputs a number and prints the multiplication table of that number"
   ]
  },
  {
   "cell_type": "code",
   "execution_count": 28,
   "metadata": {},
   "outputs": [
    {
     "name": "stdout",
     "output_type": "stream",
     "text": [
      "Enter number to get multiplication table\n",
      "None11\n",
      "11*1=11\n",
      "11*2=22\n",
      "11*3=33\n",
      "11*4=44\n",
      "11*5=55\n",
      "11*6=66\n",
      "11*7=77\n",
      "11*8=88\n",
      "11*9=99\n",
      "11*10=110\n",
      "None\n"
     ]
    }
   ],
   "source": [
    "num = int(input(print(\"Enter number to get multiplication table\")))\n",
    "\n",
    "def multiply(num1):\n",
    "    i = product = 1\n",
    "    while i < 11:\n",
    "        product = num1 * i\n",
    "        print(str(num1) +\"*\" +str(i) + \"=\" + str(product))\n",
    "        i += 1\n",
    "        \n",
    "print(multiply(num))"
   ]
  },
  {
   "cell_type": "markdown",
   "metadata": {},
   "source": [
    "# Q2. Write a program to print twin primes less than 1000. If two consecutive odd numbers are\n",
    "both prime then they are known as twin primes"
   ]
  },
  {
   "cell_type": "code",
   "execution_count": 2,
   "metadata": {},
   "outputs": [
    {
     "name": "stdout",
     "output_type": "stream",
     "text": [
      "3 & 5\n",
      "5 & 7\n",
      "11 & 13\n",
      "17 & 19\n",
      "29 & 31\n",
      "41 & 43\n",
      "59 & 61\n",
      "71 & 73\n",
      "101 & 103\n",
      "107 & 109\n",
      "137 & 139\n",
      "149 & 151\n",
      "179 & 181\n",
      "191 & 193\n",
      "197 & 199\n",
      "227 & 229\n",
      "239 & 241\n",
      "269 & 271\n",
      "281 & 283\n",
      "311 & 313\n",
      "347 & 349\n",
      "419 & 421\n",
      "431 & 433\n",
      "461 & 463\n",
      "521 & 523\n",
      "569 & 571\n",
      "599 & 601\n",
      "617 & 619\n",
      "641 & 643\n",
      "659 & 661\n",
      "809 & 811\n",
      "821 & 823\n",
      "827 & 829\n",
      "857 & 859\n",
      "881 & 883\n"
     ]
    }
   ],
   "source": [
    "def isPrime(n):\n",
    "    for i in range(2, n):\n",
    "        if n%i == 0:\n",
    "            return False\n",
    "    return True\n",
    "\n",
    "def generateTwins():\n",
    "    for i in range(3, 1000, 2):\n",
    "        j = i+2\n",
    "        if(isPrime(i) and isPrime(j)):\n",
    "            print(\"{0} & {1}\".format(i,j))\n",
    "\n",
    "        \n",
    "generateTwins()                      "
   ]
  },
  {
   "cell_type": "markdown",
   "metadata": {},
   "source": [
    "# Q3. Write a program to find out the prime factors of a number. Example: prime factors of 56 - 2, 2, 2, 7"
   ]
  },
  {
   "cell_type": "code",
   "execution_count": 5,
   "metadata": {},
   "outputs": [
    {
     "name": "stdout",
     "output_type": "stream",
     "text": [
      "Enter number to find prime factors\n",
      "None990\n"
     ]
    },
    {
     "data": {
      "text/plain": [
       "[2, 3, 3, 5, 11]"
      ]
     },
     "execution_count": 5,
     "metadata": {},
     "output_type": "execute_result"
    }
   ],
   "source": [
    "import math\n",
    "\n",
    "def primeFactors():\n",
    "    \n",
    "    n = int(input(print(\"Enter number to find prime factors\")))\n",
    "    \n",
    "    lstfactors = []\n",
    "    \n",
    "    #for even numbers \n",
    "    while n%2 == 0:\n",
    "        lstfactors.append(2)\n",
    "        n = n/2\n",
    "        \n",
    "    #Every composite number has at least one prime factor less than or equal to square root of itself, so calculating odd\n",
    "    for i in range(3,int(math.sqrt(n))+1,2): \n",
    "        while n % i== 0: \n",
    "            lstfactors.append(i) \n",
    "            n = n / i \n",
    "    #Condition if n is a prime number greater than 2\n",
    "    if n > 2: \n",
    "        lstfactors.append(n) \n",
    "        \n",
    "    return lstfactors\n",
    "\n",
    "primeFactors()"
   ]
  },
  {
   "cell_type": "markdown",
   "metadata": {},
   "source": [
    "# Q4. Write a program to implement these formulae of permutations and combinations. Number of permutations of n objects taken r at a time: p(n, r) = n! / (n-r)!. Number of combinations of n objects taken r at a time is: c(n, r) = n! / (r!*(n-r)!) = p(n,r) / r!"
   ]
  },
  {
   "cell_type": "code",
   "execution_count": 6,
   "metadata": {},
   "outputs": [
    {
     "name": "stdout",
     "output_type": "stream",
     "text": [
      "Enter greater number n to find permutation and combination\n",
      "None4\n",
      "Enter smaller number r to find permutation and combination\n",
      "None3\n",
      "Permutation of (4, 3) is:24.0\n",
      "Combination of (4, 3) is:4.0\n"
     ]
    }
   ],
   "source": [
    "def factorial(num):\n",
    "    return 1 if num == 1 else (num * factorial(num-1))\n",
    "\n",
    "def perm(n,r):\n",
    "    result = factorial(n)/factorial(n-r)\n",
    "    return result\n",
    "    \n",
    "def comb(n,r):\n",
    "    result = perm(n,r)/factorial(r)\n",
    "    return result\n",
    "\n",
    "num_n = int(input(print(\"Enter greater number n to find permutation and combination\")))\n",
    "num_r = int(input(print(\"Enter smaller number r to find permutation and combination\")))    \n",
    "print(\"Permutation of (\"+ str(num_n) + \", \"+ str(num_r) + \") is:\" + str(perm(num_n, num_r)))\n",
    "print(\"Combination of (\"+ str(num_n) + \", \"+ str(num_r) + \") is:\" + str(comb(num_n, num_r)))"
   ]
  },
  {
   "cell_type": "markdown",
   "metadata": {},
   "source": [
    "# Q5. Write a function that converts a decimal number to binary number"
   ]
  },
  {
   "cell_type": "code",
   "execution_count": 8,
   "metadata": {},
   "outputs": [
    {
     "name": "stdout",
     "output_type": "stream",
     "text": [
      "Enter number:\n",
      "None9\n",
      "1001"
     ]
    }
   ],
   "source": [
    "num = int(input(print(\"Enter number:\")))\n",
    "\n",
    "def dec2bin(num1):\n",
    "    \"\"\"Function to convert decimal number to binary number.\"\"\"\n",
    "    \n",
    "    #Array of size num1 \n",
    "    binNum = [0] * num1\n",
    "    \n",
    "    #initialize index to 0\n",
    "    i = 0\n",
    "    \n",
    "    \"\"\"storing binNum array with remainder of num1 \n",
    "    after dividing by 2 & storing quotient in num1 again \n",
    "    then incrementing\"\"\"\n",
    "    while(num1 >0):\n",
    "        binNum[i] = num1 % 2\n",
    "        num1 = int(num1/2)\n",
    "        i+=1\n",
    "        \n",
    "        \n",
    "    #printing binNum array in reverse order\n",
    "    for j in range(i-1, -1, -1):\n",
    "        print(binNum[j], end = '')\n",
    "    \n",
    "    \n",
    "    \n",
    "dec2bin(num)"
   ]
  },
  {
   "cell_type": "markdown",
   "metadata": {},
   "source": [
    "# Q6. Write a function cubesum() that accepts an integer and returns the sum of the cubes of individual digits of that number. Use this function to make functions PrintArmstrong() and isArmstrong() to print Armstrong numbers and to find whether is an Armstrong number."
   ]
  },
  {
   "cell_type": "code",
   "execution_count": 19,
   "metadata": {},
   "outputs": [
    {
     "name": "stdout",
     "output_type": "stream",
     "text": [
      "Enter integer:\n",
      "None371\n",
      "371 is an Armstrong number.\n",
      "Sum is:371\n"
     ]
    }
   ],
   "source": [
    "def cubesum(num1):\n",
    "    dig = list(d for d in str(num1))\n",
    "    sum1 = 0\n",
    "    for i in dig:\n",
    "        sum1 += int(i)**3\n",
    "        \n",
    "    return sum1\n",
    "\n",
    "def PrintArmstrong(num1):\n",
    "    print(\"Sum is:\" + str(cubesum(num1)))\n",
    "\n",
    "def isArmstrong(num1, num2):\n",
    "    if num1 == num2:\n",
    "        print(str(num1) + \" is an Armstrong number.\")\n",
    "    else:\n",
    "        print(str(num1) + \" is not an Armstrong number.\")\n",
    "\n",
    "def acceptNumber():\n",
    "    num = int(input(print(\"Enter integer:\")))\n",
    "    isArmstrong(num, cubesum(num))\n",
    "    PrintArmstrong(num)\n",
    "    \n",
    "    \n",
    "acceptNumber()"
   ]
  },
  {
   "cell_type": "markdown",
   "metadata": {},
   "source": [
    "# Q7. Write a function prodDigits() that inputs a number and returns the product of digits of that number."
   ]
  },
  {
   "cell_type": "code",
   "execution_count": 1,
   "metadata": {},
   "outputs": [
    {
     "name": "stdout",
     "output_type": "stream",
     "text": [
      "Enter integer:\n",
      "None345\n",
      "Product of digits of the integer is: 60\n"
     ]
    }
   ],
   "source": [
    "def prodDigits(num1):\n",
    "    dig = list(d for d in str(num1))\n",
    "    prod = 1\n",
    "    for i in dig:\n",
    "        prod *= int(i)\n",
    "    \n",
    "    return prod\n",
    "\n",
    "def acceptNumber():\n",
    "    num = int(input(print(\"Enter integer:\")))\n",
    "    print(\"Product of digits of the integer is: \" + str(prodDigits(num)))\n",
    "    \n",
    "acceptNumber()"
   ]
  },
  {
   "cell_type": "markdown",
   "metadata": {},
   "source": [
    "# Q8. If all digits of a number n are multiplied by each other repeating with the product, the one digit number obtained at last is called the multiplicative digital root of n. The number of times digits need to be multiplied to reach one digit is called the multiplicative persistance of n. Example: 86 -> 48 -> 32 -> 6 (MDR 6, MPersistence 3), 341 -> 12->2 (MDR 2, MPersistence 2). Using the function prodDigits() of previous exercise write functions MDR() and MPersistence() that input a number and return its multiplicative digital root and multiplicative persistence respectively"
   ]
  },
  {
   "cell_type": "code",
   "execution_count": 1,
   "metadata": {},
   "outputs": [
    {
     "name": "stdout",
     "output_type": "stream",
     "text": [
      "Enter integer:\n",
      "None86\n",
      "(MDR 6, MPersistence 3)\n"
     ]
    }
   ],
   "source": [
    "def prodDigits(num):\n",
    "    dig = list(d for d in str(num))\n",
    "    prod = 1\n",
    "    for i in dig:\n",
    "        prod *= int(i)\n",
    "    return prod\n",
    "\n",
    "def MPersistence(num, counter):\n",
    "    counter += 1\n",
    "    return counter-1 if num<10 else MPersistence(prodDigits(num), counter)\n",
    "\n",
    "def MDR(num):\n",
    "    return num if num<10 else MDR(prodDigits(num))\n",
    "        \n",
    "def acceptNumber():\n",
    "    num = int(input(print(\"Enter integer:\")))\n",
    "    counter = 0\n",
    "    print(\"(MDR \" + str(MDR(num)) + \", MPersistence \" + str(MPersistence(num, counter)) + \")\")\n",
    "    \n",
    "    \n",
    "acceptNumber()"
   ]
  },
  {
   "cell_type": "markdown",
   "metadata": {},
   "source": [
    "# Q9. Write a function sumPdivisors() that finds the sum of proper divisors of a number. Proper divisors of a number are those numbers by which the number is divisible, except the number itself. For example proper divisors of 36 are 1, 2, 3, 4, 6, 9, 18"
   ]
  },
  {
   "cell_type": "code",
   "execution_count": 1,
   "metadata": {},
   "outputs": [
    {
     "name": "stdout",
     "output_type": "stream",
     "text": [
      "Enter the number:\n",
      "None36\n",
      "Proper divisors of 36 are: [1, 2, 3, 4, 6, 9, 12, 18]\n",
      "Sum of proper divisors of 36 is: 55\n"
     ]
    }
   ],
   "source": [
    "def sumPdivisors():\n",
    "    num = int(input(print(\"Enter the number:\")))\n",
    "    divs = list(i for i in range(1, num) if num%i == 0)\n",
    "    print(\"Proper divisors of \" + str(num) + \" are: \" + str(divs))\n",
    "    sum1 = 0\n",
    "    \n",
    "    for i in divs:\n",
    "        sum1 += i\n",
    "    print(\"Sum of proper divisors of \" + str(num) + \" is: \" + str(sum1))\n",
    "\n",
    "sumPdivisors()"
   ]
  },
  {
   "cell_type": "markdown",
   "metadata": {},
   "source": [
    "# 10. A number is called perfect if the sum of proper divisors of that number is equal to the number. For example 28 is perfect number, since 1+2+4+7+14=28. Write a program to print all the perfect numbers in a given range"
   ]
  },
  {
   "cell_type": "code",
   "execution_count": 14,
   "metadata": {},
   "outputs": [
    {
     "name": "stdout",
     "output_type": "stream",
     "text": [
      "Enter max range:\n",
      "None1000\n",
      "List of Perfect numbers in range 1000: [6, 28, 496]\n"
     ]
    }
   ],
   "source": [
    "def sumDivisor(num):\n",
    "    divs = list(i for i in range(1, num) if num%i == 0)\n",
    "    sum1 = 0\n",
    "    \n",
    "    for i in divs:\n",
    "        sum1 += i\n",
    "    return sum1\n",
    "\n",
    "def sumEqualsNum(range1):\n",
    "    x = list(i for i in range(1,range1) if(i == sumDivisor(i)))\n",
    "    print(\"List of Perfect numbers in range \" + str(range1) + \": \" + str(x))\n",
    "    \n",
    "def checkPerfectNum():\n",
    "    num = int(input(print(\"Enter max range:\")))\n",
    "    sumEqualsNum(num)\n",
    "    \n",
    "checkPerfectNum()"
   ]
  },
  {
   "cell_type": "markdown",
   "metadata": {},
   "source": [
    "# Q11. Two different numbers are called amicable numbers if the sum of the proper divisors of each is equal to the other number. \n",
    "\n",
    "# For example 220 and 284 are amicable numbers. \n",
    "# Sum of proper divisors of 220 = 1+2+4+5+10+11+20+22+44+55+110 = 284. \n",
    "# Sum of proper divisors of 284 = 1+2+4+71+142 = 220. \n",
    "\n",
    "# Write a function to print pairs of amicable numbers in a range."
   ]
  },
  {
   "cell_type": "code",
   "execution_count": 30,
   "metadata": {},
   "outputs": [
    {
     "name": "stdout",
     "output_type": "stream",
     "text": [
      "Enter max range:\n",
      "None10000\n",
      "Pair of amicable numbers in range 10000 is:\n",
      "(220, 284)\n",
      "(1184, 1210)\n",
      "(2620, 2924)\n",
      "(5020, 5564)\n",
      "(6232, 6368)\n"
     ]
    }
   ],
   "source": [
    "def sumDivisor(num):\n",
    "    divs = list(i for i in range(1, num) if num%i == 0)\n",
    "    sum1 = 0\n",
    "    \n",
    "    for i in divs:\n",
    "        sum1 += i\n",
    "    return sum1\n",
    "    \n",
    "def findPairs():\n",
    "    range1 = int(input(print(\"Enter max range:\")))\n",
    "    num1 = num2 = 0\n",
    "    print(\"Pair of amicable numbers in range \" + str(range1) + \" is:\")\n",
    "    for i in range(1, range1):\n",
    "        num1 = i\n",
    "        num2 = sumDivisor(num1)\n",
    "        if ((num1 < num2) and (sumDivisor(num2) == num1)):\n",
    "            print(\"(\" + str(num1) + \", \" + str(num2) +\")\") \n",
    "    return\n",
    "\n",
    "findPairs()"
   ]
  },
  {
   "cell_type": "markdown",
   "metadata": {},
   "source": [
    "# Q12. Write a program which can filter odd numbers in a list by using filter function"
   ]
  },
  {
   "cell_type": "code",
   "execution_count": 6,
   "metadata": {},
   "outputs": [
    {
     "name": "stdout",
     "output_type": "stream",
     "text": [
      "[-9, -7, -5, -3, -1, 1, 3, 5, 7, 9]\n"
     ]
    }
   ],
   "source": [
    "def oddNum(n):\n",
    "    if n%2 == 1:\n",
    "        return n\n",
    "\n",
    "    \n",
    "number_list = range(-10, 10)\n",
    "odd_num_lst = list(filter(oddNum, number_list))\n",
    "print(odd_num_lst)\n",
    "    "
   ]
  },
  {
   "cell_type": "markdown",
   "metadata": {},
   "source": [
    "# Q13. Write a program which can map() to make a list whose elements are cube of elements in a given list"
   ]
  },
  {
   "cell_type": "code",
   "execution_count": 10,
   "metadata": {},
   "outputs": [
    {
     "name": "stdout",
     "output_type": "stream",
     "text": [
      "[-125, -64, -27, -8, -1, 0, 1, 8, 27, 64, 125]\n"
     ]
    }
   ],
   "source": [
    "def cube(num):\n",
    "    return num ** 3\n",
    "\n",
    "number_list = range(-5, 6)\n",
    "cubed = list(map(cube, number_list))\n",
    "print(cubed)"
   ]
  },
  {
   "cell_type": "markdown",
   "metadata": {},
   "source": [
    "# Q14. Write a program which can map() and filter() to make a list whose elements are cube of even number in a given list"
   ]
  },
  {
   "cell_type": "code",
   "execution_count": 13,
   "metadata": {},
   "outputs": [
    {
     "name": "stdout",
     "output_type": "stream",
     "text": [
      "[-1000, -512, -216, -64, -8, 8, 64, 216, 512]\n"
     ]
    }
   ],
   "source": [
    "def evenNum(n):\n",
    "    if n%2 == 0:\n",
    "        return n\n",
    "    \n",
    "def cube(num):\n",
    "    return num ** 3\n",
    "    \n",
    "number_list = range(-10, 10)\n",
    "even = list(filter(evenNum, number_list))\n",
    "cubed_even = list(map(cube, even))\n",
    "print(cubed_even)"
   ]
  },
  {
   "cell_type": "code",
   "execution_count": null,
   "metadata": {},
   "outputs": [],
   "source": []
  }
 ],
 "metadata": {
  "kernelspec": {
   "display_name": "Python 3",
   "language": "python",
   "name": "python3"
  },
  "language_info": {
   "codemirror_mode": {
    "name": "ipython",
    "version": 3
   },
   "file_extension": ".py",
   "mimetype": "text/x-python",
   "name": "python",
   "nbconvert_exporter": "python",
   "pygments_lexer": "ipython3",
   "version": "3.6.5"
  }
 },
 "nbformat": 4,
 "nbformat_minor": 2
}
