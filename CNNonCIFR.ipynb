{
  "nbformat": 4,
  "nbformat_minor": 0,
  "metadata": {
    "colab": {
      "name": "CNNonCIFR.ipynb",
      "provenance": [],
      "collapsed_sections": []
    },
    "kernelspec": {
      "name": "python3",
      "display_name": "Python 3"
    },
    "language_info": {
      "name": "python"
    },
    "accelerator": "GPU"
  },
  "cells": [
    {
      "cell_type": "code",
      "metadata": {
        "id": "wVIx_KIigxPV"
      },
      "source": [
        "# import keras\n",
        "# from keras.datasets import cifar10\n",
        "# from keras.models import Model, Sequential\n",
        "# from keras.layers import Dense, Dropout, Flatten, Input, AveragePooling2D, merge, Activation\n",
        "# from keras.layers import Conv2D, MaxPooling2D, BatchNormalization\n",
        "# from keras.layers import Concatenate\n",
        "# from keras.optimizers import Adam\n",
        "from tensorflow.keras import models, layers\n",
        "from tensorflow.keras.models import Model\n",
        "from tensorflow.keras.layers import BatchNormalization, Activation, Flatten\n",
        "from tensorflow.keras.optimizers import Adam\n",
        "\n",
        "from numpy import expand_dims\n",
        "from keras.preprocessing.image import load_img\n",
        "from keras.preprocessing.image import img_to_array\n",
        "from keras.preprocessing.image import ImageDataGenerator\n",
        "from keras import regularizers\n",
        "from matplotlib import pyplot as plt"
      ],
      "execution_count": null,
      "outputs": []
    },
    {
      "cell_type": "code",
      "metadata": {
        "colab": {
          "base_uri": "https://localhost:8080/"
        },
        "id": "YSagk5-vJMTd",
        "outputId": "d9a07bdc-f1eb-40df-f779-3eb8df2b820b"
      },
      "source": [
        "from google.colab import drive\n",
        "drive.mount('/content/drive', force_remount = True)"
      ],
      "execution_count": null,
      "outputs": [
        {
          "output_type": "stream",
          "name": "stdout",
          "text": [
            "Drive already mounted at /content/drive; to attempt to forcibly remount, call drive.mount(\"/content/drive\", force_remount=True).\n"
          ]
        }
      ]
    },
    {
      "cell_type": "code",
      "metadata": {
        "id": "UNHw6luQg3gc"
      },
      "source": [
        "# this part will prevent tensorflow to allocate all the avaliable GPU Memory\n",
        "# backend\n",
        "import tensorflow as tf\n",
        "# from tensorflow import keras\n",
        "\n",
        "# from keras import backend as k\n",
        "\n",
        "# Don't pre-allocate memory; allocate as-needed\n",
        "# import tensorflow as tf\n",
        "#tf.config.gpu.set_per_process_memory_fraction(0.75)\n",
        "#tf.config.gpu.set_per_process_memory_growth(True)\n",
        "# config = tf.ConfigProto()\n",
        "# config.gpu_options.allow_growth = True\n",
        "\n",
        "# Create a session with the above options specified.\n",
        "# k.tensorflow_backend.set_session(tf.Session(config=config))"
      ],
      "execution_count": null,
      "outputs": []
    },
    {
      "cell_type": "code",
      "metadata": {
        "id": "dsO_yGxcg5D8"
      },
      "source": [
        "# Hyperparameters\n",
        "batch_size = 32\n",
        "num_classes = 10\n",
        "epochs = 10\n",
        "l = 12\n",
        "num_filter = 18\n",
        "compression = 1\n",
        "dropout_rate = 0.2"
      ],
      "execution_count": null,
      "outputs": []
    },
    {
      "cell_type": "code",
      "metadata": {
        "id": "mB7o3zu1g6eT"
      },
      "source": [
        "# Load CIFAR10 Data\n",
        "(X_train, y_train), (X_test, y_test) = tf.keras.datasets.cifar10.load_data()\n",
        "img_height, img_width, channel = X_train.shape[1],X_train.shape[2],X_train.shape[3]\n",
        "\n",
        "# convert to one hot encoing \n",
        "y_train = tf.keras.utils.to_categorical(y_train, num_classes)\n",
        "y_test = tf.keras.utils.to_categorical(y_test, num_classes) "
      ],
      "execution_count": null,
      "outputs": []
    },
    {
      "cell_type": "code",
      "metadata": {
        "id": "Z-_Z9Zjnp4OJ",
        "colab": {
          "base_uri": "https://localhost:8080/"
        },
        "outputId": "f41408b5-05ba-49db-c801-b316b528a625"
      },
      "source": [
        "X_train.shape"
      ],
      "execution_count": null,
      "outputs": [
        {
          "output_type": "execute_result",
          "data": {
            "text/plain": [
              "(50000, 32, 32, 3)"
            ]
          },
          "metadata": {},
          "execution_count": 38
        }
      ]
    },
    {
      "cell_type": "code",
      "metadata": {
        "id": "suvOscH6p4OS",
        "colab": {
          "base_uri": "https://localhost:8080/"
        },
        "outputId": "7c7295d8-c07b-4a5c-c497-acc1f03fc740"
      },
      "source": [
        "X_test.shape"
      ],
      "execution_count": null,
      "outputs": [
        {
          "output_type": "execute_result",
          "data": {
            "text/plain": [
              "(10000, 32, 32, 3)"
            ]
          },
          "metadata": {},
          "execution_count": 39
        }
      ]
    },
    {
      "cell_type": "code",
      "metadata": {
        "id": "ee-sge5Kg7vr"
      },
      "source": [
        "# Dense Block\n",
        "def denseblock(input, num_filter = 12, dropout_rate = 0.2):\n",
        "    global compression\n",
        "    temp = input\n",
        "    for _ in range(l): \n",
        "        BatchNorm = layers.BatchNormalization()(temp)\n",
        "        relu = layers.Activation('relu')(BatchNorm)\n",
        "        Conv2D_3_3 = layers.Conv2D(int(num_filter*compression), (3,3), use_bias=False ,padding='same')(relu)\n",
        "        if dropout_rate>0:\n",
        "            Conv2D_3_3 = layers.Dropout(dropout_rate)(Conv2D_3_3)\n",
        "        concat = layers.Concatenate(axis=-1)([temp,Conv2D_3_3])\n",
        "        \n",
        "        temp = concat\n",
        "        \n",
        "    return temp\n",
        "\n",
        "## transition Blosck\n",
        "def transition(input, num_filter = 12, dropout_rate = 0.2):\n",
        "    global compression\n",
        "    BatchNorm = layers.BatchNormalization()(input)\n",
        "    relu = layers.Activation('relu')(BatchNorm)\n",
        "    Conv2D_BottleNeck = layers.Conv2D(int(num_filter*compression), (1,1), use_bias=False ,padding='same')(relu)\n",
        "    if dropout_rate>0:\n",
        "         Conv2D_BottleNeck = layers.Dropout(dropout_rate)(Conv2D_BottleNeck)\n",
        "    avg = layers.AveragePooling2D(pool_size=(2,2))(Conv2D_BottleNeck)\n",
        "    return avg\n",
        "\n",
        "#output layer\n",
        "def output_layer(input):\n",
        "    global compression\n",
        "    BatchNorm = layers.BatchNormalization()(input)\n",
        "    relu = layers.Activation('relu')(BatchNorm)\n",
        "    AvgPooling = layers.AveragePooling2D(pool_size=(2,2))(relu)\n",
        "    flat = layers.Flatten()(AvgPooling)\n",
        "    output = layers.Dense(num_classes, activation='softmax')(flat)\n",
        "    return output"
      ],
      "execution_count": null,
      "outputs": []
    },
    {
      "cell_type": "code",
      "metadata": {
        "id": "anPCpQWhhGb7"
      },
      "source": [
        "num_filter = 12\n",
        "dropout_rate = 0.2\n",
        "l = 12\n",
        "input = layers.Input(shape=(img_height, img_width, channel,))\n",
        "First_Conv2D = layers.Conv2D(num_filter, (3,3), use_bias=False ,padding='same')(input)\n",
        "\n",
        "First_Block = denseblock(First_Conv2D, num_filter, dropout_rate)\n",
        "First_Transition = transition(First_Block, num_filter, dropout_rate)\n",
        "\n",
        "Second_Block = denseblock(First_Transition, num_filter, dropout_rate)\n",
        "Second_Transition = transition(Second_Block, num_filter, dropout_rate)\n",
        "\n",
        "Third_Block = denseblock(Second_Transition, num_filter, dropout_rate)\n",
        "Third_Transition = transition(Third_Block, num_filter, dropout_rate)\n",
        "\n",
        "Last_Block = denseblock(Third_Transition,  num_filter, dropout_rate)\n",
        "output = output_layer(Last_Block)"
      ],
      "execution_count": null,
      "outputs": []
    },
    {
      "cell_type": "code",
      "metadata": {
        "id": "u73cqTiDp4Of"
      },
      "source": [
        "#https://arxiv.org/pdf/1608.06993.pdf\n",
        "#from IPython.display import IFrame, YouTubeVideo\n",
        "#YouTubeVideo(id='-W6y8xnd--U', width=600)"
      ],
      "execution_count": null,
      "outputs": []
    },
    {
      "cell_type": "code",
      "metadata": {
        "id": "1kFh7pdxhNtT",
        "scrolled": true,
        "colab": {
          "base_uri": "https://localhost:8080/"
        },
        "outputId": "ed47dd63-7720-4e79-b153-54e133e96aa4"
      },
      "source": [
        "model = Model(inputs=[input], outputs=[output])\n",
        "model.summary()"
      ],
      "execution_count": null,
      "outputs": [
        {
          "output_type": "stream",
          "name": "stdout",
          "text": [
            "Model: \"model_2\"\n",
            "__________________________________________________________________________________________________\n",
            " Layer (type)                   Output Shape         Param #     Connected to                     \n",
            "==================================================================================================\n",
            " input_3 (InputLayer)           [(None, 32, 32, 3)]  0           []                               \n",
            "                                                                                                  \n",
            " conv2d_104 (Conv2D)            (None, 32, 32, 12)   324         ['input_3[0][0]']                \n",
            "                                                                                                  \n",
            " batch_normalization_104 (Batch  (None, 32, 32, 12)  48          ['conv2d_104[0][0]']             \n",
            " Normalization)                                                                                   \n",
            "                                                                                                  \n",
            " activation_104 (Activation)    (None, 32, 32, 12)   0           ['batch_normalization_104[0][0]']\n",
            "                                                                                                  \n",
            " conv2d_105 (Conv2D)            (None, 32, 32, 6)    648         ['activation_104[0][0]']         \n",
            "                                                                                                  \n",
            " dropout_102 (Dropout)          (None, 32, 32, 6)    0           ['conv2d_105[0][0]']             \n",
            "                                                                                                  \n",
            " concatenate_96 (Concatenate)   (None, 32, 32, 18)   0           ['conv2d_104[0][0]',             \n",
            "                                                                  'dropout_102[0][0]']            \n",
            "                                                                                                  \n",
            " batch_normalization_105 (Batch  (None, 32, 32, 18)  72          ['concatenate_96[0][0]']         \n",
            " Normalization)                                                                                   \n",
            "                                                                                                  \n",
            " activation_105 (Activation)    (None, 32, 32, 18)   0           ['batch_normalization_105[0][0]']\n",
            "                                                                                                  \n",
            " conv2d_106 (Conv2D)            (None, 32, 32, 6)    972         ['activation_105[0][0]']         \n",
            "                                                                                                  \n",
            " dropout_103 (Dropout)          (None, 32, 32, 6)    0           ['conv2d_106[0][0]']             \n",
            "                                                                                                  \n",
            " concatenate_97 (Concatenate)   (None, 32, 32, 24)   0           ['concatenate_96[0][0]',         \n",
            "                                                                  'dropout_103[0][0]']            \n",
            "                                                                                                  \n",
            " batch_normalization_106 (Batch  (None, 32, 32, 24)  96          ['concatenate_97[0][0]']         \n",
            " Normalization)                                                                                   \n",
            "                                                                                                  \n",
            " activation_106 (Activation)    (None, 32, 32, 24)   0           ['batch_normalization_106[0][0]']\n",
            "                                                                                                  \n",
            " conv2d_107 (Conv2D)            (None, 32, 32, 6)    1296        ['activation_106[0][0]']         \n",
            "                                                                                                  \n",
            " dropout_104 (Dropout)          (None, 32, 32, 6)    0           ['conv2d_107[0][0]']             \n",
            "                                                                                                  \n",
            " concatenate_98 (Concatenate)   (None, 32, 32, 30)   0           ['concatenate_97[0][0]',         \n",
            "                                                                  'dropout_104[0][0]']            \n",
            "                                                                                                  \n",
            " batch_normalization_107 (Batch  (None, 32, 32, 30)  120         ['concatenate_98[0][0]']         \n",
            " Normalization)                                                                                   \n",
            "                                                                                                  \n",
            " activation_107 (Activation)    (None, 32, 32, 30)   0           ['batch_normalization_107[0][0]']\n",
            "                                                                                                  \n",
            " conv2d_108 (Conv2D)            (None, 32, 32, 6)    1620        ['activation_107[0][0]']         \n",
            "                                                                                                  \n",
            " dropout_105 (Dropout)          (None, 32, 32, 6)    0           ['conv2d_108[0][0]']             \n",
            "                                                                                                  \n",
            " concatenate_99 (Concatenate)   (None, 32, 32, 36)   0           ['concatenate_98[0][0]',         \n",
            "                                                                  'dropout_105[0][0]']            \n",
            "                                                                                                  \n",
            " batch_normalization_108 (Batch  (None, 32, 32, 36)  144         ['concatenate_99[0][0]']         \n",
            " Normalization)                                                                                   \n",
            "                                                                                                  \n",
            " activation_108 (Activation)    (None, 32, 32, 36)   0           ['batch_normalization_108[0][0]']\n",
            "                                                                                                  \n",
            " conv2d_109 (Conv2D)            (None, 32, 32, 6)    1944        ['activation_108[0][0]']         \n",
            "                                                                                                  \n",
            " dropout_106 (Dropout)          (None, 32, 32, 6)    0           ['conv2d_109[0][0]']             \n",
            "                                                                                                  \n",
            " concatenate_100 (Concatenate)  (None, 32, 32, 42)   0           ['concatenate_99[0][0]',         \n",
            "                                                                  'dropout_106[0][0]']            \n",
            "                                                                                                  \n",
            " batch_normalization_109 (Batch  (None, 32, 32, 42)  168         ['concatenate_100[0][0]']        \n",
            " Normalization)                                                                                   \n",
            "                                                                                                  \n",
            " activation_109 (Activation)    (None, 32, 32, 42)   0           ['batch_normalization_109[0][0]']\n",
            "                                                                                                  \n",
            " conv2d_110 (Conv2D)            (None, 32, 32, 6)    2268        ['activation_109[0][0]']         \n",
            "                                                                                                  \n",
            " dropout_107 (Dropout)          (None, 32, 32, 6)    0           ['conv2d_110[0][0]']             \n",
            "                                                                                                  \n",
            " concatenate_101 (Concatenate)  (None, 32, 32, 48)   0           ['concatenate_100[0][0]',        \n",
            "                                                                  'dropout_107[0][0]']            \n",
            "                                                                                                  \n",
            " batch_normalization_110 (Batch  (None, 32, 32, 48)  192         ['concatenate_101[0][0]']        \n",
            " Normalization)                                                                                   \n",
            "                                                                                                  \n",
            " activation_110 (Activation)    (None, 32, 32, 48)   0           ['batch_normalization_110[0][0]']\n",
            "                                                                                                  \n",
            " conv2d_111 (Conv2D)            (None, 32, 32, 6)    2592        ['activation_110[0][0]']         \n",
            "                                                                                                  \n",
            " dropout_108 (Dropout)          (None, 32, 32, 6)    0           ['conv2d_111[0][0]']             \n",
            "                                                                                                  \n",
            " concatenate_102 (Concatenate)  (None, 32, 32, 54)   0           ['concatenate_101[0][0]',        \n",
            "                                                                  'dropout_108[0][0]']            \n",
            "                                                                                                  \n",
            " batch_normalization_111 (Batch  (None, 32, 32, 54)  216         ['concatenate_102[0][0]']        \n",
            " Normalization)                                                                                   \n",
            "                                                                                                  \n",
            " activation_111 (Activation)    (None, 32, 32, 54)   0           ['batch_normalization_111[0][0]']\n",
            "                                                                                                  \n",
            " conv2d_112 (Conv2D)            (None, 32, 32, 6)    2916        ['activation_111[0][0]']         \n",
            "                                                                                                  \n",
            " dropout_109 (Dropout)          (None, 32, 32, 6)    0           ['conv2d_112[0][0]']             \n",
            "                                                                                                  \n",
            " concatenate_103 (Concatenate)  (None, 32, 32, 60)   0           ['concatenate_102[0][0]',        \n",
            "                                                                  'dropout_109[0][0]']            \n",
            "                                                                                                  \n",
            " batch_normalization_112 (Batch  (None, 32, 32, 60)  240         ['concatenate_103[0][0]']        \n",
            " Normalization)                                                                                   \n",
            "                                                                                                  \n",
            " activation_112 (Activation)    (None, 32, 32, 60)   0           ['batch_normalization_112[0][0]']\n",
            "                                                                                                  \n",
            " conv2d_113 (Conv2D)            (None, 32, 32, 6)    3240        ['activation_112[0][0]']         \n",
            "                                                                                                  \n",
            " dropout_110 (Dropout)          (None, 32, 32, 6)    0           ['conv2d_113[0][0]']             \n",
            "                                                                                                  \n",
            " concatenate_104 (Concatenate)  (None, 32, 32, 66)   0           ['concatenate_103[0][0]',        \n",
            "                                                                  'dropout_110[0][0]']            \n",
            "                                                                                                  \n",
            " batch_normalization_113 (Batch  (None, 32, 32, 66)  264         ['concatenate_104[0][0]']        \n",
            " Normalization)                                                                                   \n",
            "                                                                                                  \n",
            " activation_113 (Activation)    (None, 32, 32, 66)   0           ['batch_normalization_113[0][0]']\n",
            "                                                                                                  \n",
            " conv2d_114 (Conv2D)            (None, 32, 32, 6)    3564        ['activation_113[0][0]']         \n",
            "                                                                                                  \n",
            " dropout_111 (Dropout)          (None, 32, 32, 6)    0           ['conv2d_114[0][0]']             \n",
            "                                                                                                  \n",
            " concatenate_105 (Concatenate)  (None, 32, 32, 72)   0           ['concatenate_104[0][0]',        \n",
            "                                                                  'dropout_111[0][0]']            \n",
            "                                                                                                  \n",
            " batch_normalization_114 (Batch  (None, 32, 32, 72)  288         ['concatenate_105[0][0]']        \n",
            " Normalization)                                                                                   \n",
            "                                                                                                  \n",
            " activation_114 (Activation)    (None, 32, 32, 72)   0           ['batch_normalization_114[0][0]']\n",
            "                                                                                                  \n",
            " conv2d_115 (Conv2D)            (None, 32, 32, 6)    3888        ['activation_114[0][0]']         \n",
            "                                                                                                  \n",
            " dropout_112 (Dropout)          (None, 32, 32, 6)    0           ['conv2d_115[0][0]']             \n",
            "                                                                                                  \n",
            " concatenate_106 (Concatenate)  (None, 32, 32, 78)   0           ['concatenate_105[0][0]',        \n",
            "                                                                  'dropout_112[0][0]']            \n",
            "                                                                                                  \n",
            " batch_normalization_115 (Batch  (None, 32, 32, 78)  312         ['concatenate_106[0][0]']        \n",
            " Normalization)                                                                                   \n",
            "                                                                                                  \n",
            " activation_115 (Activation)    (None, 32, 32, 78)   0           ['batch_normalization_115[0][0]']\n",
            "                                                                                                  \n",
            " conv2d_116 (Conv2D)            (None, 32, 32, 6)    4212        ['activation_115[0][0]']         \n",
            "                                                                                                  \n",
            " dropout_113 (Dropout)          (None, 32, 32, 6)    0           ['conv2d_116[0][0]']             \n",
            "                                                                                                  \n",
            " concatenate_107 (Concatenate)  (None, 32, 32, 84)   0           ['concatenate_106[0][0]',        \n",
            "                                                                  'dropout_113[0][0]']            \n",
            "                                                                                                  \n",
            " batch_normalization_116 (Batch  (None, 32, 32, 84)  336         ['concatenate_107[0][0]']        \n",
            " Normalization)                                                                                   \n",
            "                                                                                                  \n",
            " activation_116 (Activation)    (None, 32, 32, 84)   0           ['batch_normalization_116[0][0]']\n",
            "                                                                                                  \n",
            " conv2d_117 (Conv2D)            (None, 32, 32, 6)    504         ['activation_116[0][0]']         \n",
            "                                                                                                  \n",
            " dropout_114 (Dropout)          (None, 32, 32, 6)    0           ['conv2d_117[0][0]']             \n",
            "                                                                                                  \n",
            " average_pooling2d_8 (AveragePo  (None, 16, 16, 6)   0           ['dropout_114[0][0]']            \n",
            " oling2D)                                                                                         \n",
            "                                                                                                  \n",
            " batch_normalization_117 (Batch  (None, 16, 16, 6)   24          ['average_pooling2d_8[0][0]']    \n",
            " Normalization)                                                                                   \n",
            "                                                                                                  \n",
            " activation_117 (Activation)    (None, 16, 16, 6)    0           ['batch_normalization_117[0][0]']\n",
            "                                                                                                  \n",
            " conv2d_118 (Conv2D)            (None, 16, 16, 6)    324         ['activation_117[0][0]']         \n",
            "                                                                                                  \n",
            " dropout_115 (Dropout)          (None, 16, 16, 6)    0           ['conv2d_118[0][0]']             \n",
            "                                                                                                  \n",
            " concatenate_108 (Concatenate)  (None, 16, 16, 12)   0           ['average_pooling2d_8[0][0]',    \n",
            "                                                                  'dropout_115[0][0]']            \n",
            "                                                                                                  \n",
            " batch_normalization_118 (Batch  (None, 16, 16, 12)  48          ['concatenate_108[0][0]']        \n",
            " Normalization)                                                                                   \n",
            "                                                                                                  \n",
            " activation_118 (Activation)    (None, 16, 16, 12)   0           ['batch_normalization_118[0][0]']\n",
            "                                                                                                  \n",
            " conv2d_119 (Conv2D)            (None, 16, 16, 6)    648         ['activation_118[0][0]']         \n",
            "                                                                                                  \n",
            " dropout_116 (Dropout)          (None, 16, 16, 6)    0           ['conv2d_119[0][0]']             \n",
            "                                                                                                  \n",
            " concatenate_109 (Concatenate)  (None, 16, 16, 18)   0           ['concatenate_108[0][0]',        \n",
            "                                                                  'dropout_116[0][0]']            \n",
            "                                                                                                  \n",
            " batch_normalization_119 (Batch  (None, 16, 16, 18)  72          ['concatenate_109[0][0]']        \n",
            " Normalization)                                                                                   \n",
            "                                                                                                  \n",
            " activation_119 (Activation)    (None, 16, 16, 18)   0           ['batch_normalization_119[0][0]']\n",
            "                                                                                                  \n",
            " conv2d_120 (Conv2D)            (None, 16, 16, 6)    972         ['activation_119[0][0]']         \n",
            "                                                                                                  \n",
            " dropout_117 (Dropout)          (None, 16, 16, 6)    0           ['conv2d_120[0][0]']             \n",
            "                                                                                                  \n",
            " concatenate_110 (Concatenate)  (None, 16, 16, 24)   0           ['concatenate_109[0][0]',        \n",
            "                                                                  'dropout_117[0][0]']            \n",
            "                                                                                                  \n",
            " batch_normalization_120 (Batch  (None, 16, 16, 24)  96          ['concatenate_110[0][0]']        \n",
            " Normalization)                                                                                   \n",
            "                                                                                                  \n",
            " activation_120 (Activation)    (None, 16, 16, 24)   0           ['batch_normalization_120[0][0]']\n",
            "                                                                                                  \n",
            " conv2d_121 (Conv2D)            (None, 16, 16, 6)    1296        ['activation_120[0][0]']         \n",
            "                                                                                                  \n",
            " dropout_118 (Dropout)          (None, 16, 16, 6)    0           ['conv2d_121[0][0]']             \n",
            "                                                                                                  \n",
            " concatenate_111 (Concatenate)  (None, 16, 16, 30)   0           ['concatenate_110[0][0]',        \n",
            "                                                                  'dropout_118[0][0]']            \n",
            "                                                                                                  \n",
            " batch_normalization_121 (Batch  (None, 16, 16, 30)  120         ['concatenate_111[0][0]']        \n",
            " Normalization)                                                                                   \n",
            "                                                                                                  \n",
            " activation_121 (Activation)    (None, 16, 16, 30)   0           ['batch_normalization_121[0][0]']\n",
            "                                                                                                  \n",
            " conv2d_122 (Conv2D)            (None, 16, 16, 6)    1620        ['activation_121[0][0]']         \n",
            "                                                                                                  \n",
            " dropout_119 (Dropout)          (None, 16, 16, 6)    0           ['conv2d_122[0][0]']             \n",
            "                                                                                                  \n",
            " concatenate_112 (Concatenate)  (None, 16, 16, 36)   0           ['concatenate_111[0][0]',        \n",
            "                                                                  'dropout_119[0][0]']            \n",
            "                                                                                                  \n",
            " batch_normalization_122 (Batch  (None, 16, 16, 36)  144         ['concatenate_112[0][0]']        \n",
            " Normalization)                                                                                   \n",
            "                                                                                                  \n",
            " activation_122 (Activation)    (None, 16, 16, 36)   0           ['batch_normalization_122[0][0]']\n",
            "                                                                                                  \n",
            " conv2d_123 (Conv2D)            (None, 16, 16, 6)    1944        ['activation_122[0][0]']         \n",
            "                                                                                                  \n",
            " dropout_120 (Dropout)          (None, 16, 16, 6)    0           ['conv2d_123[0][0]']             \n",
            "                                                                                                  \n",
            " concatenate_113 (Concatenate)  (None, 16, 16, 42)   0           ['concatenate_112[0][0]',        \n",
            "                                                                  'dropout_120[0][0]']            \n",
            "                                                                                                  \n",
            " batch_normalization_123 (Batch  (None, 16, 16, 42)  168         ['concatenate_113[0][0]']        \n",
            " Normalization)                                                                                   \n",
            "                                                                                                  \n",
            " activation_123 (Activation)    (None, 16, 16, 42)   0           ['batch_normalization_123[0][0]']\n",
            "                                                                                                  \n",
            " conv2d_124 (Conv2D)            (None, 16, 16, 6)    2268        ['activation_123[0][0]']         \n",
            "                                                                                                  \n",
            " dropout_121 (Dropout)          (None, 16, 16, 6)    0           ['conv2d_124[0][0]']             \n",
            "                                                                                                  \n",
            " concatenate_114 (Concatenate)  (None, 16, 16, 48)   0           ['concatenate_113[0][0]',        \n",
            "                                                                  'dropout_121[0][0]']            \n",
            "                                                                                                  \n",
            " batch_normalization_124 (Batch  (None, 16, 16, 48)  192         ['concatenate_114[0][0]']        \n",
            " Normalization)                                                                                   \n",
            "                                                                                                  \n",
            " activation_124 (Activation)    (None, 16, 16, 48)   0           ['batch_normalization_124[0][0]']\n",
            "                                                                                                  \n",
            " conv2d_125 (Conv2D)            (None, 16, 16, 6)    2592        ['activation_124[0][0]']         \n",
            "                                                                                                  \n",
            " dropout_122 (Dropout)          (None, 16, 16, 6)    0           ['conv2d_125[0][0]']             \n",
            "                                                                                                  \n",
            " concatenate_115 (Concatenate)  (None, 16, 16, 54)   0           ['concatenate_114[0][0]',        \n",
            "                                                                  'dropout_122[0][0]']            \n",
            "                                                                                                  \n",
            " batch_normalization_125 (Batch  (None, 16, 16, 54)  216         ['concatenate_115[0][0]']        \n",
            " Normalization)                                                                                   \n",
            "                                                                                                  \n",
            " activation_125 (Activation)    (None, 16, 16, 54)   0           ['batch_normalization_125[0][0]']\n",
            "                                                                                                  \n",
            " conv2d_126 (Conv2D)            (None, 16, 16, 6)    2916        ['activation_125[0][0]']         \n",
            "                                                                                                  \n",
            " dropout_123 (Dropout)          (None, 16, 16, 6)    0           ['conv2d_126[0][0]']             \n",
            "                                                                                                  \n",
            " concatenate_116 (Concatenate)  (None, 16, 16, 60)   0           ['concatenate_115[0][0]',        \n",
            "                                                                  'dropout_123[0][0]']            \n",
            "                                                                                                  \n",
            " batch_normalization_126 (Batch  (None, 16, 16, 60)  240         ['concatenate_116[0][0]']        \n",
            " Normalization)                                                                                   \n",
            "                                                                                                  \n",
            " activation_126 (Activation)    (None, 16, 16, 60)   0           ['batch_normalization_126[0][0]']\n",
            "                                                                                                  \n",
            " conv2d_127 (Conv2D)            (None, 16, 16, 6)    3240        ['activation_126[0][0]']         \n",
            "                                                                                                  \n",
            " dropout_124 (Dropout)          (None, 16, 16, 6)    0           ['conv2d_127[0][0]']             \n",
            "                                                                                                  \n",
            " concatenate_117 (Concatenate)  (None, 16, 16, 66)   0           ['concatenate_116[0][0]',        \n",
            "                                                                  'dropout_124[0][0]']            \n",
            "                                                                                                  \n",
            " batch_normalization_127 (Batch  (None, 16, 16, 66)  264         ['concatenate_117[0][0]']        \n",
            " Normalization)                                                                                   \n",
            "                                                                                                  \n",
            " activation_127 (Activation)    (None, 16, 16, 66)   0           ['batch_normalization_127[0][0]']\n",
            "                                                                                                  \n",
            " conv2d_128 (Conv2D)            (None, 16, 16, 6)    3564        ['activation_127[0][0]']         \n",
            "                                                                                                  \n",
            " dropout_125 (Dropout)          (None, 16, 16, 6)    0           ['conv2d_128[0][0]']             \n",
            "                                                                                                  \n",
            " concatenate_118 (Concatenate)  (None, 16, 16, 72)   0           ['concatenate_117[0][0]',        \n",
            "                                                                  'dropout_125[0][0]']            \n",
            "                                                                                                  \n",
            " batch_normalization_128 (Batch  (None, 16, 16, 72)  288         ['concatenate_118[0][0]']        \n",
            " Normalization)                                                                                   \n",
            "                                                                                                  \n",
            " activation_128 (Activation)    (None, 16, 16, 72)   0           ['batch_normalization_128[0][0]']\n",
            "                                                                                                  \n",
            " conv2d_129 (Conv2D)            (None, 16, 16, 6)    3888        ['activation_128[0][0]']         \n",
            "                                                                                                  \n",
            " dropout_126 (Dropout)          (None, 16, 16, 6)    0           ['conv2d_129[0][0]']             \n",
            "                                                                                                  \n",
            " concatenate_119 (Concatenate)  (None, 16, 16, 78)   0           ['concatenate_118[0][0]',        \n",
            "                                                                  'dropout_126[0][0]']            \n",
            "                                                                                                  \n",
            " batch_normalization_129 (Batch  (None, 16, 16, 78)  312         ['concatenate_119[0][0]']        \n",
            " Normalization)                                                                                   \n",
            "                                                                                                  \n",
            " activation_129 (Activation)    (None, 16, 16, 78)   0           ['batch_normalization_129[0][0]']\n",
            "                                                                                                  \n",
            " conv2d_130 (Conv2D)            (None, 16, 16, 6)    468         ['activation_129[0][0]']         \n",
            "                                                                                                  \n",
            " dropout_127 (Dropout)          (None, 16, 16, 6)    0           ['conv2d_130[0][0]']             \n",
            "                                                                                                  \n",
            " average_pooling2d_9 (AveragePo  (None, 8, 8, 6)     0           ['dropout_127[0][0]']            \n",
            " oling2D)                                                                                         \n",
            "                                                                                                  \n",
            " batch_normalization_130 (Batch  (None, 8, 8, 6)     24          ['average_pooling2d_9[0][0]']    \n",
            " Normalization)                                                                                   \n",
            "                                                                                                  \n",
            " activation_130 (Activation)    (None, 8, 8, 6)      0           ['batch_normalization_130[0][0]']\n",
            "                                                                                                  \n",
            " conv2d_131 (Conv2D)            (None, 8, 8, 6)      324         ['activation_130[0][0]']         \n",
            "                                                                                                  \n",
            " dropout_128 (Dropout)          (None, 8, 8, 6)      0           ['conv2d_131[0][0]']             \n",
            "                                                                                                  \n",
            " concatenate_120 (Concatenate)  (None, 8, 8, 12)     0           ['average_pooling2d_9[0][0]',    \n",
            "                                                                  'dropout_128[0][0]']            \n",
            "                                                                                                  \n",
            " batch_normalization_131 (Batch  (None, 8, 8, 12)    48          ['concatenate_120[0][0]']        \n",
            " Normalization)                                                                                   \n",
            "                                                                                                  \n",
            " activation_131 (Activation)    (None, 8, 8, 12)     0           ['batch_normalization_131[0][0]']\n",
            "                                                                                                  \n",
            " conv2d_132 (Conv2D)            (None, 8, 8, 6)      648         ['activation_131[0][0]']         \n",
            "                                                                                                  \n",
            " dropout_129 (Dropout)          (None, 8, 8, 6)      0           ['conv2d_132[0][0]']             \n",
            "                                                                                                  \n",
            " concatenate_121 (Concatenate)  (None, 8, 8, 18)     0           ['concatenate_120[0][0]',        \n",
            "                                                                  'dropout_129[0][0]']            \n",
            "                                                                                                  \n",
            " batch_normalization_132 (Batch  (None, 8, 8, 18)    72          ['concatenate_121[0][0]']        \n",
            " Normalization)                                                                                   \n",
            "                                                                                                  \n",
            " activation_132 (Activation)    (None, 8, 8, 18)     0           ['batch_normalization_132[0][0]']\n",
            "                                                                                                  \n",
            " conv2d_133 (Conv2D)            (None, 8, 8, 6)      972         ['activation_132[0][0]']         \n",
            "                                                                                                  \n",
            " dropout_130 (Dropout)          (None, 8, 8, 6)      0           ['conv2d_133[0][0]']             \n",
            "                                                                                                  \n",
            " concatenate_122 (Concatenate)  (None, 8, 8, 24)     0           ['concatenate_121[0][0]',        \n",
            "                                                                  'dropout_130[0][0]']            \n",
            "                                                                                                  \n",
            " batch_normalization_133 (Batch  (None, 8, 8, 24)    96          ['concatenate_122[0][0]']        \n",
            " Normalization)                                                                                   \n",
            "                                                                                                  \n",
            " activation_133 (Activation)    (None, 8, 8, 24)     0           ['batch_normalization_133[0][0]']\n",
            "                                                                                                  \n",
            " conv2d_134 (Conv2D)            (None, 8, 8, 6)      1296        ['activation_133[0][0]']         \n",
            "                                                                                                  \n",
            " dropout_131 (Dropout)          (None, 8, 8, 6)      0           ['conv2d_134[0][0]']             \n",
            "                                                                                                  \n",
            " concatenate_123 (Concatenate)  (None, 8, 8, 30)     0           ['concatenate_122[0][0]',        \n",
            "                                                                  'dropout_131[0][0]']            \n",
            "                                                                                                  \n",
            " batch_normalization_134 (Batch  (None, 8, 8, 30)    120         ['concatenate_123[0][0]']        \n",
            " Normalization)                                                                                   \n",
            "                                                                                                  \n",
            " activation_134 (Activation)    (None, 8, 8, 30)     0           ['batch_normalization_134[0][0]']\n",
            "                                                                                                  \n",
            " conv2d_135 (Conv2D)            (None, 8, 8, 6)      1620        ['activation_134[0][0]']         \n",
            "                                                                                                  \n",
            " dropout_132 (Dropout)          (None, 8, 8, 6)      0           ['conv2d_135[0][0]']             \n",
            "                                                                                                  \n",
            " concatenate_124 (Concatenate)  (None, 8, 8, 36)     0           ['concatenate_123[0][0]',        \n",
            "                                                                  'dropout_132[0][0]']            \n",
            "                                                                                                  \n",
            " batch_normalization_135 (Batch  (None, 8, 8, 36)    144         ['concatenate_124[0][0]']        \n",
            " Normalization)                                                                                   \n",
            "                                                                                                  \n",
            " activation_135 (Activation)    (None, 8, 8, 36)     0           ['batch_normalization_135[0][0]']\n",
            "                                                                                                  \n",
            " conv2d_136 (Conv2D)            (None, 8, 8, 6)      1944        ['activation_135[0][0]']         \n",
            "                                                                                                  \n",
            " dropout_133 (Dropout)          (None, 8, 8, 6)      0           ['conv2d_136[0][0]']             \n",
            "                                                                                                  \n",
            " concatenate_125 (Concatenate)  (None, 8, 8, 42)     0           ['concatenate_124[0][0]',        \n",
            "                                                                  'dropout_133[0][0]']            \n",
            "                                                                                                  \n",
            " batch_normalization_136 (Batch  (None, 8, 8, 42)    168         ['concatenate_125[0][0]']        \n",
            " Normalization)                                                                                   \n",
            "                                                                                                  \n",
            " activation_136 (Activation)    (None, 8, 8, 42)     0           ['batch_normalization_136[0][0]']\n",
            "                                                                                                  \n",
            " conv2d_137 (Conv2D)            (None, 8, 8, 6)      2268        ['activation_136[0][0]']         \n",
            "                                                                                                  \n",
            " dropout_134 (Dropout)          (None, 8, 8, 6)      0           ['conv2d_137[0][0]']             \n",
            "                                                                                                  \n",
            " concatenate_126 (Concatenate)  (None, 8, 8, 48)     0           ['concatenate_125[0][0]',        \n",
            "                                                                  'dropout_134[0][0]']            \n",
            "                                                                                                  \n",
            " batch_normalization_137 (Batch  (None, 8, 8, 48)    192         ['concatenate_126[0][0]']        \n",
            " Normalization)                                                                                   \n",
            "                                                                                                  \n",
            " activation_137 (Activation)    (None, 8, 8, 48)     0           ['batch_normalization_137[0][0]']\n",
            "                                                                                                  \n",
            " conv2d_138 (Conv2D)            (None, 8, 8, 6)      2592        ['activation_137[0][0]']         \n",
            "                                                                                                  \n",
            " dropout_135 (Dropout)          (None, 8, 8, 6)      0           ['conv2d_138[0][0]']             \n",
            "                                                                                                  \n",
            " concatenate_127 (Concatenate)  (None, 8, 8, 54)     0           ['concatenate_126[0][0]',        \n",
            "                                                                  'dropout_135[0][0]']            \n",
            "                                                                                                  \n",
            " batch_normalization_138 (Batch  (None, 8, 8, 54)    216         ['concatenate_127[0][0]']        \n",
            " Normalization)                                                                                   \n",
            "                                                                                                  \n",
            " activation_138 (Activation)    (None, 8, 8, 54)     0           ['batch_normalization_138[0][0]']\n",
            "                                                                                                  \n",
            " conv2d_139 (Conv2D)            (None, 8, 8, 6)      2916        ['activation_138[0][0]']         \n",
            "                                                                                                  \n",
            " dropout_136 (Dropout)          (None, 8, 8, 6)      0           ['conv2d_139[0][0]']             \n",
            "                                                                                                  \n",
            " concatenate_128 (Concatenate)  (None, 8, 8, 60)     0           ['concatenate_127[0][0]',        \n",
            "                                                                  'dropout_136[0][0]']            \n",
            "                                                                                                  \n",
            " batch_normalization_139 (Batch  (None, 8, 8, 60)    240         ['concatenate_128[0][0]']        \n",
            " Normalization)                                                                                   \n",
            "                                                                                                  \n",
            " activation_139 (Activation)    (None, 8, 8, 60)     0           ['batch_normalization_139[0][0]']\n",
            "                                                                                                  \n",
            " conv2d_140 (Conv2D)            (None, 8, 8, 6)      3240        ['activation_139[0][0]']         \n",
            "                                                                                                  \n",
            " dropout_137 (Dropout)          (None, 8, 8, 6)      0           ['conv2d_140[0][0]']             \n",
            "                                                                                                  \n",
            " concatenate_129 (Concatenate)  (None, 8, 8, 66)     0           ['concatenate_128[0][0]',        \n",
            "                                                                  'dropout_137[0][0]']            \n",
            "                                                                                                  \n",
            " batch_normalization_140 (Batch  (None, 8, 8, 66)    264         ['concatenate_129[0][0]']        \n",
            " Normalization)                                                                                   \n",
            "                                                                                                  \n",
            " activation_140 (Activation)    (None, 8, 8, 66)     0           ['batch_normalization_140[0][0]']\n",
            "                                                                                                  \n",
            " conv2d_141 (Conv2D)            (None, 8, 8, 6)      3564        ['activation_140[0][0]']         \n",
            "                                                                                                  \n",
            " dropout_138 (Dropout)          (None, 8, 8, 6)      0           ['conv2d_141[0][0]']             \n",
            "                                                                                                  \n",
            " concatenate_130 (Concatenate)  (None, 8, 8, 72)     0           ['concatenate_129[0][0]',        \n",
            "                                                                  'dropout_138[0][0]']            \n",
            "                                                                                                  \n",
            " batch_normalization_141 (Batch  (None, 8, 8, 72)    288         ['concatenate_130[0][0]']        \n",
            " Normalization)                                                                                   \n",
            "                                                                                                  \n",
            " activation_141 (Activation)    (None, 8, 8, 72)     0           ['batch_normalization_141[0][0]']\n",
            "                                                                                                  \n",
            " conv2d_142 (Conv2D)            (None, 8, 8, 6)      3888        ['activation_141[0][0]']         \n",
            "                                                                                                  \n",
            " dropout_139 (Dropout)          (None, 8, 8, 6)      0           ['conv2d_142[0][0]']             \n",
            "                                                                                                  \n",
            " concatenate_131 (Concatenate)  (None, 8, 8, 78)     0           ['concatenate_130[0][0]',        \n",
            "                                                                  'dropout_139[0][0]']            \n",
            "                                                                                                  \n",
            " batch_normalization_142 (Batch  (None, 8, 8, 78)    312         ['concatenate_131[0][0]']        \n",
            " Normalization)                                                                                   \n",
            "                                                                                                  \n",
            " activation_142 (Activation)    (None, 8, 8, 78)     0           ['batch_normalization_142[0][0]']\n",
            "                                                                                                  \n",
            " conv2d_143 (Conv2D)            (None, 8, 8, 6)      468         ['activation_142[0][0]']         \n",
            "                                                                                                  \n",
            " dropout_140 (Dropout)          (None, 8, 8, 6)      0           ['conv2d_143[0][0]']             \n",
            "                                                                                                  \n",
            " average_pooling2d_10 (AverageP  (None, 4, 4, 6)     0           ['dropout_140[0][0]']            \n",
            " ooling2D)                                                                                        \n",
            "                                                                                                  \n",
            " batch_normalization_143 (Batch  (None, 4, 4, 6)     24          ['average_pooling2d_10[0][0]']   \n",
            " Normalization)                                                                                   \n",
            "                                                                                                  \n",
            " activation_143 (Activation)    (None, 4, 4, 6)      0           ['batch_normalization_143[0][0]']\n",
            "                                                                                                  \n",
            " conv2d_144 (Conv2D)            (None, 4, 4, 6)      324         ['activation_143[0][0]']         \n",
            "                                                                                                  \n",
            " dropout_141 (Dropout)          (None, 4, 4, 6)      0           ['conv2d_144[0][0]']             \n",
            "                                                                                                  \n",
            " concatenate_132 (Concatenate)  (None, 4, 4, 12)     0           ['average_pooling2d_10[0][0]',   \n",
            "                                                                  'dropout_141[0][0]']            \n",
            "                                                                                                  \n",
            " batch_normalization_144 (Batch  (None, 4, 4, 12)    48          ['concatenate_132[0][0]']        \n",
            " Normalization)                                                                                   \n",
            "                                                                                                  \n",
            " activation_144 (Activation)    (None, 4, 4, 12)     0           ['batch_normalization_144[0][0]']\n",
            "                                                                                                  \n",
            " conv2d_145 (Conv2D)            (None, 4, 4, 6)      648         ['activation_144[0][0]']         \n",
            "                                                                                                  \n",
            " dropout_142 (Dropout)          (None, 4, 4, 6)      0           ['conv2d_145[0][0]']             \n",
            "                                                                                                  \n",
            " concatenate_133 (Concatenate)  (None, 4, 4, 18)     0           ['concatenate_132[0][0]',        \n",
            "                                                                  'dropout_142[0][0]']            \n",
            "                                                                                                  \n",
            " batch_normalization_145 (Batch  (None, 4, 4, 18)    72          ['concatenate_133[0][0]']        \n",
            " Normalization)                                                                                   \n",
            "                                                                                                  \n",
            " activation_145 (Activation)    (None, 4, 4, 18)     0           ['batch_normalization_145[0][0]']\n",
            "                                                                                                  \n",
            " conv2d_146 (Conv2D)            (None, 4, 4, 6)      972         ['activation_145[0][0]']         \n",
            "                                                                                                  \n",
            " dropout_143 (Dropout)          (None, 4, 4, 6)      0           ['conv2d_146[0][0]']             \n",
            "                                                                                                  \n",
            " concatenate_134 (Concatenate)  (None, 4, 4, 24)     0           ['concatenate_133[0][0]',        \n",
            "                                                                  'dropout_143[0][0]']            \n",
            "                                                                                                  \n",
            " batch_normalization_146 (Batch  (None, 4, 4, 24)    96          ['concatenate_134[0][0]']        \n",
            " Normalization)                                                                                   \n",
            "                                                                                                  \n",
            " activation_146 (Activation)    (None, 4, 4, 24)     0           ['batch_normalization_146[0][0]']\n",
            "                                                                                                  \n",
            " conv2d_147 (Conv2D)            (None, 4, 4, 6)      1296        ['activation_146[0][0]']         \n",
            "                                                                                                  \n",
            " dropout_144 (Dropout)          (None, 4, 4, 6)      0           ['conv2d_147[0][0]']             \n",
            "                                                                                                  \n",
            " concatenate_135 (Concatenate)  (None, 4, 4, 30)     0           ['concatenate_134[0][0]',        \n",
            "                                                                  'dropout_144[0][0]']            \n",
            "                                                                                                  \n",
            " batch_normalization_147 (Batch  (None, 4, 4, 30)    120         ['concatenate_135[0][0]']        \n",
            " Normalization)                                                                                   \n",
            "                                                                                                  \n",
            " activation_147 (Activation)    (None, 4, 4, 30)     0           ['batch_normalization_147[0][0]']\n",
            "                                                                                                  \n",
            " conv2d_148 (Conv2D)            (None, 4, 4, 6)      1620        ['activation_147[0][0]']         \n",
            "                                                                                                  \n",
            " dropout_145 (Dropout)          (None, 4, 4, 6)      0           ['conv2d_148[0][0]']             \n",
            "                                                                                                  \n",
            " concatenate_136 (Concatenate)  (None, 4, 4, 36)     0           ['concatenate_135[0][0]',        \n",
            "                                                                  'dropout_145[0][0]']            \n",
            "                                                                                                  \n",
            " batch_normalization_148 (Batch  (None, 4, 4, 36)    144         ['concatenate_136[0][0]']        \n",
            " Normalization)                                                                                   \n",
            "                                                                                                  \n",
            " activation_148 (Activation)    (None, 4, 4, 36)     0           ['batch_normalization_148[0][0]']\n",
            "                                                                                                  \n",
            " conv2d_149 (Conv2D)            (None, 4, 4, 6)      1944        ['activation_148[0][0]']         \n",
            "                                                                                                  \n",
            " dropout_146 (Dropout)          (None, 4, 4, 6)      0           ['conv2d_149[0][0]']             \n",
            "                                                                                                  \n",
            " concatenate_137 (Concatenate)  (None, 4, 4, 42)     0           ['concatenate_136[0][0]',        \n",
            "                                                                  'dropout_146[0][0]']            \n",
            "                                                                                                  \n",
            " batch_normalization_149 (Batch  (None, 4, 4, 42)    168         ['concatenate_137[0][0]']        \n",
            " Normalization)                                                                                   \n",
            "                                                                                                  \n",
            " activation_149 (Activation)    (None, 4, 4, 42)     0           ['batch_normalization_149[0][0]']\n",
            "                                                                                                  \n",
            " conv2d_150 (Conv2D)            (None, 4, 4, 6)      2268        ['activation_149[0][0]']         \n",
            "                                                                                                  \n",
            " dropout_147 (Dropout)          (None, 4, 4, 6)      0           ['conv2d_150[0][0]']             \n",
            "                                                                                                  \n",
            " concatenate_138 (Concatenate)  (None, 4, 4, 48)     0           ['concatenate_137[0][0]',        \n",
            "                                                                  'dropout_147[0][0]']            \n",
            "                                                                                                  \n",
            " batch_normalization_150 (Batch  (None, 4, 4, 48)    192         ['concatenate_138[0][0]']        \n",
            " Normalization)                                                                                   \n",
            "                                                                                                  \n",
            " activation_150 (Activation)    (None, 4, 4, 48)     0           ['batch_normalization_150[0][0]']\n",
            "                                                                                                  \n",
            " conv2d_151 (Conv2D)            (None, 4, 4, 6)      2592        ['activation_150[0][0]']         \n",
            "                                                                                                  \n",
            " dropout_148 (Dropout)          (None, 4, 4, 6)      0           ['conv2d_151[0][0]']             \n",
            "                                                                                                  \n",
            " concatenate_139 (Concatenate)  (None, 4, 4, 54)     0           ['concatenate_138[0][0]',        \n",
            "                                                                  'dropout_148[0][0]']            \n",
            "                                                                                                  \n",
            " batch_normalization_151 (Batch  (None, 4, 4, 54)    216         ['concatenate_139[0][0]']        \n",
            " Normalization)                                                                                   \n",
            "                                                                                                  \n",
            " activation_151 (Activation)    (None, 4, 4, 54)     0           ['batch_normalization_151[0][0]']\n",
            "                                                                                                  \n",
            " conv2d_152 (Conv2D)            (None, 4, 4, 6)      2916        ['activation_151[0][0]']         \n",
            "                                                                                                  \n",
            " dropout_149 (Dropout)          (None, 4, 4, 6)      0           ['conv2d_152[0][0]']             \n",
            "                                                                                                  \n",
            " concatenate_140 (Concatenate)  (None, 4, 4, 60)     0           ['concatenate_139[0][0]',        \n",
            "                                                                  'dropout_149[0][0]']            \n",
            "                                                                                                  \n",
            " batch_normalization_152 (Batch  (None, 4, 4, 60)    240         ['concatenate_140[0][0]']        \n",
            " Normalization)                                                                                   \n",
            "                                                                                                  \n",
            " activation_152 (Activation)    (None, 4, 4, 60)     0           ['batch_normalization_152[0][0]']\n",
            "                                                                                                  \n",
            " conv2d_153 (Conv2D)            (None, 4, 4, 6)      3240        ['activation_152[0][0]']         \n",
            "                                                                                                  \n",
            " dropout_150 (Dropout)          (None, 4, 4, 6)      0           ['conv2d_153[0][0]']             \n",
            "                                                                                                  \n",
            " concatenate_141 (Concatenate)  (None, 4, 4, 66)     0           ['concatenate_140[0][0]',        \n",
            "                                                                  'dropout_150[0][0]']            \n",
            "                                                                                                  \n",
            " batch_normalization_153 (Batch  (None, 4, 4, 66)    264         ['concatenate_141[0][0]']        \n",
            " Normalization)                                                                                   \n",
            "                                                                                                  \n",
            " activation_153 (Activation)    (None, 4, 4, 66)     0           ['batch_normalization_153[0][0]']\n",
            "                                                                                                  \n",
            " conv2d_154 (Conv2D)            (None, 4, 4, 6)      3564        ['activation_153[0][0]']         \n",
            "                                                                                                  \n",
            " dropout_151 (Dropout)          (None, 4, 4, 6)      0           ['conv2d_154[0][0]']             \n",
            "                                                                                                  \n",
            " concatenate_142 (Concatenate)  (None, 4, 4, 72)     0           ['concatenate_141[0][0]',        \n",
            "                                                                  'dropout_151[0][0]']            \n",
            "                                                                                                  \n",
            " batch_normalization_154 (Batch  (None, 4, 4, 72)    288         ['concatenate_142[0][0]']        \n",
            " Normalization)                                                                                   \n",
            "                                                                                                  \n",
            " activation_154 (Activation)    (None, 4, 4, 72)     0           ['batch_normalization_154[0][0]']\n",
            "                                                                                                  \n",
            " conv2d_155 (Conv2D)            (None, 4, 4, 6)      3888        ['activation_154[0][0]']         \n",
            "                                                                                                  \n",
            " dropout_152 (Dropout)          (None, 4, 4, 6)      0           ['conv2d_155[0][0]']             \n",
            "                                                                                                  \n",
            " concatenate_143 (Concatenate)  (None, 4, 4, 78)     0           ['concatenate_142[0][0]',        \n",
            "                                                                  'dropout_152[0][0]']            \n",
            "                                                                                                  \n",
            " batch_normalization_155 (Batch  (None, 4, 4, 78)    312         ['concatenate_143[0][0]']        \n",
            " Normalization)                                                                                   \n",
            "                                                                                                  \n",
            " activation_155 (Activation)    (None, 4, 4, 78)     0           ['batch_normalization_155[0][0]']\n",
            "                                                                                                  \n",
            " average_pooling2d_11 (AverageP  (None, 2, 2, 78)    0           ['activation_155[0][0]']         \n",
            " ooling2D)                                                                                        \n",
            "                                                                                                  \n",
            " flatten_2 (Flatten)            (None, 312)          0           ['average_pooling2d_11[0][0]']   \n",
            "                                                                                                  \n",
            " dense_2 (Dense)                (None, 10)           3130        ['flatten_2[0][0]']              \n",
            "                                                                                                  \n",
            "==================================================================================================\n",
            "Total params: 118,918\n",
            "Trainable params: 114,394\n",
            "Non-trainable params: 4,524\n",
            "__________________________________________________________________________________________________\n"
          ]
        }
      ]
    },
    {
      "cell_type": "code",
      "metadata": {
        "id": "b4XOsW3ahSkL"
      },
      "source": [
        "# determine Loss function and Optimizer\n",
        "model.compile(loss='categorical_crossentropy',\n",
        "              optimizer=Adam(),\n",
        "              metrics=['accuracy'])"
      ],
      "execution_count": null,
      "outputs": []
    },
    {
      "cell_type": "code",
      "metadata": {
        "id": "crhGk7kEhXAz",
        "scrolled": true,
        "colab": {
          "base_uri": "https://localhost:8080/"
        },
        "outputId": "d9671334-eca2-4e3c-b376-51572e59b416"
      },
      "source": [
        "model.fit(X_train, y_train,\n",
        "                    batch_size=batch_size,\n",
        "                    epochs=epochs,\n",
        "                    verbose=1, \n",
        "                    validation_data=(X_test, y_test))"
      ],
      "execution_count": null,
      "outputs": [
        {
          "output_type": "stream",
          "name": "stdout",
          "text": [
            "Epoch 1/10\n",
            "391/391 [==============================] - 44s 98ms/step - loss: 1.7483 - accuracy: 0.3372 - val_loss: 1.7087 - val_accuracy: 0.3877\n",
            "Epoch 2/10\n",
            "391/391 [==============================] - 38s 96ms/step - loss: 1.4112 - accuracy: 0.4740 - val_loss: 1.3184 - val_accuracy: 0.5187\n",
            "Epoch 3/10\n",
            "391/391 [==============================] - 37s 96ms/step - loss: 1.2275 - accuracy: 0.5472 - val_loss: 1.4623 - val_accuracy: 0.5004\n",
            "Epoch 4/10\n",
            "391/391 [==============================] - 38s 97ms/step - loss: 1.1132 - accuracy: 0.5933 - val_loss: 1.2776 - val_accuracy: 0.5436\n",
            "Epoch 5/10\n",
            "391/391 [==============================] - 38s 97ms/step - loss: 1.0374 - accuracy: 0.6227 - val_loss: 1.0683 - val_accuracy: 0.6183\n",
            "Epoch 6/10\n",
            "391/391 [==============================] - 38s 96ms/step - loss: 0.9783 - accuracy: 0.6466 - val_loss: 1.4106 - val_accuracy: 0.5612\n",
            "Epoch 7/10\n",
            "391/391 [==============================] - 38s 97ms/step - loss: 0.9322 - accuracy: 0.6653 - val_loss: 1.5930 - val_accuracy: 0.5542\n",
            "Epoch 8/10\n",
            "391/391 [==============================] - 38s 97ms/step - loss: 0.8912 - accuracy: 0.6805 - val_loss: 0.9783 - val_accuracy: 0.6532\n",
            "Epoch 9/10\n",
            "391/391 [==============================] - 38s 96ms/step - loss: 0.8572 - accuracy: 0.6923 - val_loss: 0.9422 - val_accuracy: 0.6752\n",
            "Epoch 10/10\n",
            "391/391 [==============================] - 38s 96ms/step - loss: 0.8278 - accuracy: 0.7054 - val_loss: 1.1835 - val_accuracy: 0.6295\n"
          ]
        },
        {
          "output_type": "execute_result",
          "data": {
            "text/plain": [
              "<keras.callbacks.History at 0x7fa718ec6e90>"
            ]
          },
          "metadata": {},
          "execution_count": 45
        }
      ]
    },
    {
      "cell_type": "code",
      "metadata": {
        "id": "ZcWydmIVhZGr",
        "colab": {
          "base_uri": "https://localhost:8080/"
        },
        "outputId": "ea9a49b9-adbb-4507-febe-d2ba13f7e53f"
      },
      "source": [
        "# Test the model\n",
        "score = model.evaluate(X_test, y_test, verbose=1)\n",
        "print('Test loss:', score[0])\n",
        "print('Test accuracy:', score[1])"
      ],
      "execution_count": null,
      "outputs": [
        {
          "output_type": "stream",
          "name": "stdout",
          "text": [
            "313/313 [==============================] - 3s 10ms/step - loss: 1.1835 - accuracy: 0.6295\n",
            "Test loss: 1.1834781169891357\n",
            "Test accuracy: 0.6294999718666077\n"
          ]
        }
      ]
    },
    {
      "cell_type": "code",
      "metadata": {
        "id": "UE3lF6EH1r_L",
        "colab": {
          "base_uri": "https://localhost:8080/"
        },
        "outputId": "66e33f6d-1de3-4917-f6c9-96e571aeb7e9"
      },
      "source": [
        "# Save the trained weights in to .h5 format\n",
        "model.save_weights(\"DNST_model.h5\")\n",
        "print(\"Saved model to disk\")"
      ],
      "execution_count": null,
      "outputs": [
        {
          "output_type": "stream",
          "name": "stdout",
          "text": [
            "Saved model to disk\n"
          ]
        }
      ]
    },
    {
      "cell_type": "code",
      "metadata": {
        "id": "clmy9UMiBcuY"
      },
      "source": [
        "del model"
      ],
      "execution_count": null,
      "outputs": []
    },
    {
      "cell_type": "markdown",
      "metadata": {
        "id": "hOEQjlsCBiMi"
      },
      "source": [
        "1.  Please visit this link to access the state-of-art DenseNet code for reference - DenseNet - cifar10 notebook link\n",
        "2.  You need to create a copy of this and \"retrain\" this model to achieve 90+ test accuracy. \n",
        "3.  You cannot use DropOut layers.\n",
        "4.  You MUST use Image Augmentation Techniques.\n",
        "5.  You cannot use an already trained model as a beginning points, you have to initilize as your own\n",
        "6.  You cannot run the program for more than 300 Epochs, and it should be clear from your log, that you have only used 300 Epochs\n",
        "7.  You cannot use test images for training the model.\n",
        "8.  You cannot change the general architecture of DenseNet (which means you must use Dense Block, Transition and Output blocks as mentioned in the code)\n",
        "9.  You are free to change Convolution types (e.g. from 3x3 normal convolution to Depthwise Separable, etc)\n",
        "10. You cannot have more than 1 Million parameters in total\n",
        "11. You are free to move the code from Keras to Tensorflow, Pytorch, MXNET etc. \n",
        "12. You can use any optimization algorithm you need. \n",
        "13. You can checkpoint your model and retrain the model from that checkpoint so that no need of training the model from first if you lost at any epoch while training. You can directly load that model and Train from that epoch. "
      ]
    },
    {
      "cell_type": "code",
      "metadata": {
        "id": "xCISlyvsEIN4"
      },
      "source": [
        "# Hyperparameters\n",
        "batch_size = 128\n",
        "num_classes = 10\n",
        "epochs = 10\n",
        "l = 40\n",
        "num_filter = 12\n",
        "compression = 0.5\n",
        "dropout_rate = 0.2"
      ],
      "execution_count": null,
      "outputs": []
    },
    {
      "cell_type": "code",
      "metadata": {
        "id": "DqEAD5v3EIN5"
      },
      "source": [
        "# Load CIFAR10 Data\n",
        "(X_train, y_train), (X_test, y_test) = tf.keras.datasets.cifar10.load_data()\n",
        "img_height, img_width, channel = X_train.shape[1],X_train.shape[2],X_train.shape[3]\n",
        "\n",
        "# convert to one hot encoing \n",
        "y_train = tf.keras.utils.to_categorical(y_train, num_classes)\n",
        "y_test = tf.keras.utils.to_categorical(y_test, num_classes) "
      ],
      "execution_count": null,
      "outputs": []
    },
    {
      "cell_type": "code",
      "metadata": {
        "id": "d8GKpPp9EIN5",
        "colab": {
          "base_uri": "https://localhost:8080/"
        },
        "outputId": "20d65d09-e703-4431-b71e-e099fc8db44b"
      },
      "source": [
        "X_train.shape"
      ],
      "execution_count": null,
      "outputs": [
        {
          "output_type": "execute_result",
          "data": {
            "text/plain": [
              "(50000, 32, 32, 3)"
            ]
          },
          "metadata": {},
          "execution_count": 51
        }
      ]
    },
    {
      "cell_type": "code",
      "metadata": {
        "id": "2H92XNfYEIN6",
        "colab": {
          "base_uri": "https://localhost:8080/"
        },
        "outputId": "693d2fa1-cda2-49a4-b338-7945e91bf456"
      },
      "source": [
        "X_test.shape"
      ],
      "execution_count": null,
      "outputs": [
        {
          "output_type": "execute_result",
          "data": {
            "text/plain": [
              "(10000, 32, 32, 3)"
            ]
          },
          "metadata": {},
          "execution_count": 52
        }
      ]
    },
    {
      "cell_type": "code",
      "metadata": {
        "id": "T57lucs_EKkq"
      },
      "source": [
        "def normalization(train, test):\n",
        "  \n",
        "  train_norm = train.astype('float32')\n",
        "  test_norm = test.astype('float32')\n",
        "\n",
        "  train_norm = train_norm / 255\n",
        "  test_norm = test_norm / 255\n",
        "\n",
        "  return (train_norm, test_norm)"
      ],
      "execution_count": null,
      "outputs": []
    },
    {
      "cell_type": "code",
      "metadata": {
        "id": "BVxooiLOElvH"
      },
      "source": [
        "X_train, X_test = normalization(X_train, X_test)"
      ],
      "execution_count": null,
      "outputs": []
    },
    {
      "cell_type": "code",
      "metadata": {
        "id": "2KlKsveVFlth",
        "colab": {
          "base_uri": "https://localhost:8080/"
        },
        "outputId": "18e2f138-1470-4114-caa6-ff896ef5e907"
      },
      "source": [
        "image1 = X_train[4]\n",
        "image1.shape"
      ],
      "execution_count": null,
      "outputs": [
        {
          "output_type": "execute_result",
          "data": {
            "text/plain": [
              "(32, 32, 3)"
            ]
          },
          "metadata": {},
          "execution_count": 55
        }
      ]
    },
    {
      "cell_type": "code",
      "metadata": {
        "id": "tucTkZp-F02T",
        "colab": {
          "base_uri": "https://localhost:8080/",
          "height": 268
        },
        "outputId": "9ede6846-8966-4a3e-a46b-b1f3c3603fb7"
      },
      "source": [
        "images1 = expand_dims(image1, 0)\n",
        "\n",
        "datagen = ImageDataGenerator(rotation_range=90)\n",
        "iterator1 = datagen.flow(images1, batch_size=1)\n",
        "for i in range(9):\n",
        "  plt.subplot(330+1+i)\n",
        "  batch = iterator1.next()\n",
        "  image = batch[0]\n",
        "  plt.imshow(image)\n",
        "\n",
        "plt.show()"
      ],
      "execution_count": null,
      "outputs": [
        {
          "output_type": "display_data",
          "data": {
            "image/png": "[encoded data removed]",
            "text/plain": [
              "<Figure size 432x288 with 9 Axes>"
            ]
          },
          "metadata": {
            "needs_background": "light"
          }
        }
      ]
    },
    {
      "cell_type": "code",
      "metadata": {
        "id": "1rFlqcjB_mgV"
      },
      "source": [
        "# Dense Block\n",
        "def denseblock(input, num_filter = 12, dropout_rate = 0.2):\n",
        "    global compression\n",
        "    temp = input\n",
        "    for _ in range(l): \n",
        "        BatchNorm = layers.BatchNormalization()(temp)\n",
        "        relu = layers.Activation('relu')(BatchNorm)\n",
        "        Conv2D_5_5 = layers.Conv2D(int(num_filter*compression), (5,5), use_bias=False ,padding='same')(relu)\n",
        "        if dropout_rate>0:\n",
        "            Conv2D_5_5 = layers.Dropout(dropout_rate)(Conv2D_5_5)\n",
        "        concat = layers.Concatenate(axis=-1)([temp,Conv2D_5_5])\n",
        "        \n",
        "        temp = concat\n",
        "        \n",
        "    return temp\n",
        "\n",
        "## transition Blosck\n",
        "def transition(input, num_filter = 12, dropout_rate = 0.2):\n",
        "    global compression\n",
        "    BatchNorm = layers.BatchNormalization()(input)\n",
        "    relu = layers.Activation('relu')(BatchNorm)\n",
        "    Conv2D_BottleNeck = layers.Conv2D(int(num_filter*compression), (5,5), use_bias=False ,padding='same')(relu)\n",
        "    if dropout_rate>0:\n",
        "      Conv2D_BottleNeck = layers.Dropout(dropout_rate)(Conv2D_BottleNeck)\n",
        "    avg = layers.AveragePooling2D(pool_size=(2,2))(Conv2D_BottleNeck)\n",
        "    return avg\n",
        "\n",
        "#output layer\n",
        "def output_layer(input):\n",
        "    global compression\n",
        "    BatchNorm = layers.BatchNormalization()(input)\n",
        "    relu = layers.Activation('relu')(BatchNorm)\n",
        "    AvgPooling = layers.AveragePooling2D(pool_size=(2,2))(relu)\n",
        "    flat = layers.Flatten()(AvgPooling)\n",
        "    output = layers.Dense(num_classes, activation='softmax')(flat)\n",
        "    return output"
      ],
      "execution_count": null,
      "outputs": []
    },
    {
      "cell_type": "code",
      "metadata": {
        "id": "H0dT4qXPAfkK"
      },
      "source": [
        "batch_size = 32\n",
        "l = 12\n",
        "num_filter = 18\n",
        "compression = 1\n",
        "\n",
        "traindataGen=ImageDataGenerator(shear_range=0.2, zoom_range=0.2, height_shift_range=0.1, horizontal_flip=True) \n",
        "#---Try with different augmentation techniques.\n",
        "# Donot apply any augmentation on test data\n",
        "testdataGen=ImageDataGenerator()\n",
        "\n",
        "input = layers.Input(shape=(img_height, img_width, channel,))\n",
        "First_Conv2D = layers.Conv2D(num_filter, (3,3), use_bias=False ,padding='same')(input)\n",
        "\n",
        "First_Block = denseblock(First_Conv2D, num_filter, dropout_rate)\n",
        "First_Transition = transition(First_Block, num_filter, dropout_rate)\n",
        "\n",
        "Second_Block = denseblock(First_Transition, num_filter, dropout_rate)\n",
        "Second_Transition = transition(Second_Block, num_filter, dropout_rate)\n",
        "\n",
        "Third_Block = denseblock(Second_Transition, num_filter, dropout_rate)\n",
        "Third_Transition = transition(Third_Block, num_filter, dropout_rate)\n",
        "\n",
        "Last_Block = denseblock(Third_Transition,  num_filter, dropout_rate)\n",
        "output = output_layer(Last_Block)"
      ],
      "execution_count": null,
      "outputs": []
    },
    {
      "cell_type": "code",
      "metadata": {
        "id": "782nguz6A7B7",
        "colab": {
          "base_uri": "https://localhost:8080/"
        },
        "outputId": "60b9b57e-d69b-4cee-f511-b5786006a4c0"
      },
      "source": [
        "model = Model(inputs = [input], outputs = [output])\n",
        "model.summary()"
      ],
      "execution_count": null,
      "outputs": [
        {
          "output_type": "stream",
          "name": "stdout",
          "text": [
            "Model: \"model_3\"\n",
            "__________________________________________________________________________________________________\n",
            " Layer (type)                   Output Shape         Param #     Connected to                     \n",
            "==================================================================================================\n",
            " input_4 (InputLayer)           [(None, 32, 32, 3)]  0           []                               \n",
            "                                                                                                  \n",
            " conv2d_156 (Conv2D)            (None, 32, 32, 18)   486         ['input_4[0][0]']                \n",
            "                                                                                                  \n",
            " batch_normalization_156 (Batch  (None, 32, 32, 18)  72          ['conv2d_156[0][0]']             \n",
            " Normalization)                                                                                   \n",
            "                                                                                                  \n",
            " activation_156 (Activation)    (None, 32, 32, 18)   0           ['batch_normalization_156[0][0]']\n",
            "                                                                                                  \n",
            " conv2d_157 (Conv2D)            (None, 32, 32, 18)   8100        ['activation_156[0][0]']         \n",
            "                                                                                                  \n",
            " dropout_153 (Dropout)          (None, 32, 32, 18)   0           ['conv2d_157[0][0]']             \n",
            "                                                                                                  \n",
            " concatenate_144 (Concatenate)  (None, 32, 32, 36)   0           ['conv2d_156[0][0]',             \n",
            "                                                                  'dropout_153[0][0]']            \n",
            "                                                                                                  \n",
            " batch_normalization_157 (Batch  (None, 32, 32, 36)  144         ['concatenate_144[0][0]']        \n",
            " Normalization)                                                                                   \n",
            "                                                                                                  \n",
            " activation_157 (Activation)    (None, 32, 32, 36)   0           ['batch_normalization_157[0][0]']\n",
            "                                                                                                  \n",
            " conv2d_158 (Conv2D)            (None, 32, 32, 18)   16200       ['activation_157[0][0]']         \n",
            "                                                                                                  \n",
            " dropout_154 (Dropout)          (None, 32, 32, 18)   0           ['conv2d_158[0][0]']             \n",
            "                                                                                                  \n",
            " concatenate_145 (Concatenate)  (None, 32, 32, 54)   0           ['concatenate_144[0][0]',        \n",
            "                                                                  'dropout_154[0][0]']            \n",
            "                                                                                                  \n",
            " batch_normalization_158 (Batch  (None, 32, 32, 54)  216         ['concatenate_145[0][0]']        \n",
            " Normalization)                                                                                   \n",
            "                                                                                                  \n",
            " activation_158 (Activation)    (None, 32, 32, 54)   0           ['batch_normalization_158[0][0]']\n",
            "                                                                                                  \n",
            " conv2d_159 (Conv2D)            (None, 32, 32, 18)   24300       ['activation_158[0][0]']         \n",
            "                                                                                                  \n",
            " dropout_155 (Dropout)          (None, 32, 32, 18)   0           ['conv2d_159[0][0]']             \n",
            "                                                                                                  \n",
            " concatenate_146 (Concatenate)  (None, 32, 32, 72)   0           ['concatenate_145[0][0]',        \n",
            "                                                                  'dropout_155[0][0]']            \n",
            "                                                                                                  \n",
            " batch_normalization_159 (Batch  (None, 32, 32, 72)  288         ['concatenate_146[0][0]']        \n",
            " Normalization)                                                                                   \n",
            "                                                                                                  \n",
            " activation_159 (Activation)    (None, 32, 32, 72)   0           ['batch_normalization_159[0][0]']\n",
            "                                                                                                  \n",
            " conv2d_160 (Conv2D)            (None, 32, 32, 18)   32400       ['activation_159[0][0]']         \n",
            "                                                                                                  \n",
            " dropout_156 (Dropout)          (None, 32, 32, 18)   0           ['conv2d_160[0][0]']             \n",
            "                                                                                                  \n",
            " concatenate_147 (Concatenate)  (None, 32, 32, 90)   0           ['concatenate_146[0][0]',        \n",
            "                                                                  'dropout_156[0][0]']            \n",
            "                                                                                                  \n",
            " batch_normalization_160 (Batch  (None, 32, 32, 90)  360         ['concatenate_147[0][0]']        \n",
            " Normalization)                                                                                   \n",
            "                                                                                                  \n",
            " activation_160 (Activation)    (None, 32, 32, 90)   0           ['batch_normalization_160[0][0]']\n",
            "                                                                                                  \n",
            " conv2d_161 (Conv2D)            (None, 32, 32, 18)   40500       ['activation_160[0][0]']         \n",
            "                                                                                                  \n",
            " dropout_157 (Dropout)          (None, 32, 32, 18)   0           ['conv2d_161[0][0]']             \n",
            "                                                                                                  \n",
            " concatenate_148 (Concatenate)  (None, 32, 32, 108)  0           ['concatenate_147[0][0]',        \n",
            "                                                                  'dropout_157[0][0]']            \n",
            "                                                                                                  \n",
            " batch_normalization_161 (Batch  (None, 32, 32, 108)  432        ['concatenate_148[0][0]']        \n",
            " Normalization)                                                                                   \n",
            "                                                                                                  \n",
            " activation_161 (Activation)    (None, 32, 32, 108)  0           ['batch_normalization_161[0][0]']\n",
            "                                                                                                  \n",
            " conv2d_162 (Conv2D)            (None, 32, 32, 18)   48600       ['activation_161[0][0]']         \n",
            "                                                                                                  \n",
            " dropout_158 (Dropout)          (None, 32, 32, 18)   0           ['conv2d_162[0][0]']             \n",
            "                                                                                                  \n",
            " concatenate_149 (Concatenate)  (None, 32, 32, 126)  0           ['concatenate_148[0][0]',        \n",
            "                                                                  'dropout_158[0][0]']            \n",
            "                                                                                                  \n",
            " batch_normalization_162 (Batch  (None, 32, 32, 126)  504        ['concatenate_149[0][0]']        \n",
            " Normalization)                                                                                   \n",
            "                                                                                                  \n",
            " activation_162 (Activation)    (None, 32, 32, 126)  0           ['batch_normalization_162[0][0]']\n",
            "                                                                                                  \n",
            " conv2d_163 (Conv2D)            (None, 32, 32, 18)   56700       ['activation_162[0][0]']         \n",
            "                                                                                                  \n",
            " dropout_159 (Dropout)          (None, 32, 32, 18)   0           ['conv2d_163[0][0]']             \n",
            "                                                                                                  \n",
            " concatenate_150 (Concatenate)  (None, 32, 32, 144)  0           ['concatenate_149[0][0]',        \n",
            "                                                                  'dropout_159[0][0]']            \n",
            "                                                                                                  \n",
            " batch_normalization_163 (Batch  (None, 32, 32, 144)  576        ['concatenate_150[0][0]']        \n",
            " Normalization)                                                                                   \n",
            "                                                                                                  \n",
            " activation_163 (Activation)    (None, 32, 32, 144)  0           ['batch_normalization_163[0][0]']\n",
            "                                                                                                  \n",
            " conv2d_164 (Conv2D)            (None, 32, 32, 18)   64800       ['activation_163[0][0]']         \n",
            "                                                                                                  \n",
            " dropout_160 (Dropout)          (None, 32, 32, 18)   0           ['conv2d_164[0][0]']             \n",
            "                                                                                                  \n",
            " concatenate_151 (Concatenate)  (None, 32, 32, 162)  0           ['concatenate_150[0][0]',        \n",
            "                                                                  'dropout_160[0][0]']            \n",
            "                                                                                                  \n",
            " batch_normalization_164 (Batch  (None, 32, 32, 162)  648        ['concatenate_151[0][0]']        \n",
            " Normalization)                                                                                   \n",
            "                                                                                                  \n",
            " activation_164 (Activation)    (None, 32, 32, 162)  0           ['batch_normalization_164[0][0]']\n",
            "                                                                                                  \n",
            " conv2d_165 (Conv2D)            (None, 32, 32, 18)   72900       ['activation_164[0][0]']         \n",
            "                                                                                                  \n",
            " dropout_161 (Dropout)          (None, 32, 32, 18)   0           ['conv2d_165[0][0]']             \n",
            "                                                                                                  \n",
            " concatenate_152 (Concatenate)  (None, 32, 32, 180)  0           ['concatenate_151[0][0]',        \n",
            "                                                                  'dropout_161[0][0]']            \n",
            "                                                                                                  \n",
            " batch_normalization_165 (Batch  (None, 32, 32, 180)  720        ['concatenate_152[0][0]']        \n",
            " Normalization)                                                                                   \n",
            "                                                                                                  \n",
            " activation_165 (Activation)    (None, 32, 32, 180)  0           ['batch_normalization_165[0][0]']\n",
            "                                                                                                  \n",
            " conv2d_166 (Conv2D)            (None, 32, 32, 18)   81000       ['activation_165[0][0]']         \n",
            "                                                                                                  \n",
            " dropout_162 (Dropout)          (None, 32, 32, 18)   0           ['conv2d_166[0][0]']             \n",
            "                                                                                                  \n",
            " concatenate_153 (Concatenate)  (None, 32, 32, 198)  0           ['concatenate_152[0][0]',        \n",
            "                                                                  'dropout_162[0][0]']            \n",
            "                                                                                                  \n",
            " batch_normalization_166 (Batch  (None, 32, 32, 198)  792        ['concatenate_153[0][0]']        \n",
            " Normalization)                                                                                   \n",
            "                                                                                                  \n",
            " activation_166 (Activation)    (None, 32, 32, 198)  0           ['batch_normalization_166[0][0]']\n",
            "                                                                                                  \n",
            " conv2d_167 (Conv2D)            (None, 32, 32, 18)   89100       ['activation_166[0][0]']         \n",
            "                                                                                                  \n",
            " dropout_163 (Dropout)          (None, 32, 32, 18)   0           ['conv2d_167[0][0]']             \n",
            "                                                                                                  \n",
            " concatenate_154 (Concatenate)  (None, 32, 32, 216)  0           ['concatenate_153[0][0]',        \n",
            "                                                                  'dropout_163[0][0]']            \n",
            "                                                                                                  \n",
            " batch_normalization_167 (Batch  (None, 32, 32, 216)  864        ['concatenate_154[0][0]']        \n",
            " Normalization)                                                                                   \n",
            "                                                                                                  \n",
            " activation_167 (Activation)    (None, 32, 32, 216)  0           ['batch_normalization_167[0][0]']\n",
            "                                                                                                  \n",
            " conv2d_168 (Conv2D)            (None, 32, 32, 18)   97200       ['activation_167[0][0]']         \n",
            "                                                                                                  \n",
            " dropout_164 (Dropout)          (None, 32, 32, 18)   0           ['conv2d_168[0][0]']             \n",
            "                                                                                                  \n",
            " concatenate_155 (Concatenate)  (None, 32, 32, 234)  0           ['concatenate_154[0][0]',        \n",
            "                                                                  'dropout_164[0][0]']            \n",
            "                                                                                                  \n",
            " batch_normalization_168 (Batch  (None, 32, 32, 234)  936        ['concatenate_155[0][0]']        \n",
            " Normalization)                                                                                   \n",
            "                                                                                                  \n",
            " activation_168 (Activation)    (None, 32, 32, 234)  0           ['batch_normalization_168[0][0]']\n",
            "                                                                                                  \n",
            " conv2d_169 (Conv2D)            (None, 32, 32, 18)   105300      ['activation_168[0][0]']         \n",
            "                                                                                                  \n",
            " dropout_165 (Dropout)          (None, 32, 32, 18)   0           ['conv2d_169[0][0]']             \n",
            "                                                                                                  \n",
            " average_pooling2d_12 (AverageP  (None, 16, 16, 18)  0           ['dropout_165[0][0]']            \n",
            " ooling2D)                                                                                        \n",
            "                                                                                                  \n",
            " batch_normalization_169 (Batch  (None, 16, 16, 18)  72          ['average_pooling2d_12[0][0]']   \n",
            " Normalization)                                                                                   \n",
            "                                                                                                  \n",
            " activation_169 (Activation)    (None, 16, 16, 18)   0           ['batch_normalization_169[0][0]']\n",
            "                                                                                                  \n",
            " conv2d_170 (Conv2D)            (None, 16, 16, 18)   8100        ['activation_169[0][0]']         \n",
            "                                                                                                  \n",
            " dropout_166 (Dropout)          (None, 16, 16, 18)   0           ['conv2d_170[0][0]']             \n",
            "                                                                                                  \n",
            " concatenate_156 (Concatenate)  (None, 16, 16, 36)   0           ['average_pooling2d_12[0][0]',   \n",
            "                                                                  'dropout_166[0][0]']            \n",
            "                                                                                                  \n",
            " batch_normalization_170 (Batch  (None, 16, 16, 36)  144         ['concatenate_156[0][0]']        \n",
            " Normalization)                                                                                   \n",
            "                                                                                                  \n",
            " activation_170 (Activation)    (None, 16, 16, 36)   0           ['batch_normalization_170[0][0]']\n",
            "                                                                                                  \n",
            " conv2d_171 (Conv2D)            (None, 16, 16, 18)   16200       ['activation_170[0][0]']         \n",
            "                                                                                                  \n",
            " dropout_167 (Dropout)          (None, 16, 16, 18)   0           ['conv2d_171[0][0]']             \n",
            "                                                                                                  \n",
            " concatenate_157 (Concatenate)  (None, 16, 16, 54)   0           ['concatenate_156[0][0]',        \n",
            "                                                                  'dropout_167[0][0]']            \n",
            "                                                                                                  \n",
            " batch_normalization_171 (Batch  (None, 16, 16, 54)  216         ['concatenate_157[0][0]']        \n",
            " Normalization)                                                                                   \n",
            "                                                                                                  \n",
            " activation_171 (Activation)    (None, 16, 16, 54)   0           ['batch_normalization_171[0][0]']\n",
            "                                                                                                  \n",
            " conv2d_172 (Conv2D)            (None, 16, 16, 18)   24300       ['activation_171[0][0]']         \n",
            "                                                                                                  \n",
            " dropout_168 (Dropout)          (None, 16, 16, 18)   0           ['conv2d_172[0][0]']             \n",
            "                                                                                                  \n",
            " concatenate_158 (Concatenate)  (None, 16, 16, 72)   0           ['concatenate_157[0][0]',        \n",
            "                                                                  'dropout_168[0][0]']            \n",
            "                                                                                                  \n",
            " batch_normalization_172 (Batch  (None, 16, 16, 72)  288         ['concatenate_158[0][0]']        \n",
            " Normalization)                                                                                   \n",
            "                                                                                                  \n",
            " activation_172 (Activation)    (None, 16, 16, 72)   0           ['batch_normalization_172[0][0]']\n",
            "                                                                                                  \n",
            " conv2d_173 (Conv2D)            (None, 16, 16, 18)   32400       ['activation_172[0][0]']         \n",
            "                                                                                                  \n",
            " dropout_169 (Dropout)          (None, 16, 16, 18)   0           ['conv2d_173[0][0]']             \n",
            "                                                                                                  \n",
            " concatenate_159 (Concatenate)  (None, 16, 16, 90)   0           ['concatenate_158[0][0]',        \n",
            "                                                                  'dropout_169[0][0]']            \n",
            "                                                                                                  \n",
            " batch_normalization_173 (Batch  (None, 16, 16, 90)  360         ['concatenate_159[0][0]']        \n",
            " Normalization)                                                                                   \n",
            "                                                                                                  \n",
            " activation_173 (Activation)    (None, 16, 16, 90)   0           ['batch_normalization_173[0][0]']\n",
            "                                                                                                  \n",
            " conv2d_174 (Conv2D)            (None, 16, 16, 18)   40500       ['activation_173[0][0]']         \n",
            "                                                                                                  \n",
            " dropout_170 (Dropout)          (None, 16, 16, 18)   0           ['conv2d_174[0][0]']             \n",
            "                                                                                                  \n",
            " concatenate_160 (Concatenate)  (None, 16, 16, 108)  0           ['concatenate_159[0][0]',        \n",
            "                                                                  'dropout_170[0][0]']            \n",
            "                                                                                                  \n",
            " batch_normalization_174 (Batch  (None, 16, 16, 108)  432        ['concatenate_160[0][0]']        \n",
            " Normalization)                                                                                   \n",
            "                                                                                                  \n",
            " activation_174 (Activation)    (None, 16, 16, 108)  0           ['batch_normalization_174[0][0]']\n",
            "                                                                                                  \n",
            " conv2d_175 (Conv2D)            (None, 16, 16, 18)   48600       ['activation_174[0][0]']         \n",
            "                                                                                                  \n",
            " dropout_171 (Dropout)          (None, 16, 16, 18)   0           ['conv2d_175[0][0]']             \n",
            "                                                                                                  \n",
            " concatenate_161 (Concatenate)  (None, 16, 16, 126)  0           ['concatenate_160[0][0]',        \n",
            "                                                                  'dropout_171[0][0]']            \n",
            "                                                                                                  \n",
            " batch_normalization_175 (Batch  (None, 16, 16, 126)  504        ['concatenate_161[0][0]']        \n",
            " Normalization)                                                                                   \n",
            "                                                                                                  \n",
            " activation_175 (Activation)    (None, 16, 16, 126)  0           ['batch_normalization_175[0][0]']\n",
            "                                                                                                  \n",
            " conv2d_176 (Conv2D)            (None, 16, 16, 18)   56700       ['activation_175[0][0]']         \n",
            "                                                                                                  \n",
            " dropout_172 (Dropout)          (None, 16, 16, 18)   0           ['conv2d_176[0][0]']             \n",
            "                                                                                                  \n",
            " concatenate_162 (Concatenate)  (None, 16, 16, 144)  0           ['concatenate_161[0][0]',        \n",
            "                                                                  'dropout_172[0][0]']            \n",
            "                                                                                                  \n",
            " batch_normalization_176 (Batch  (None, 16, 16, 144)  576        ['concatenate_162[0][0]']        \n",
            " Normalization)                                                                                   \n",
            "                                                                                                  \n",
            " activation_176 (Activation)    (None, 16, 16, 144)  0           ['batch_normalization_176[0][0]']\n",
            "                                                                                                  \n",
            " conv2d_177 (Conv2D)            (None, 16, 16, 18)   64800       ['activation_176[0][0]']         \n",
            "                                                                                                  \n",
            " dropout_173 (Dropout)          (None, 16, 16, 18)   0           ['conv2d_177[0][0]']             \n",
            "                                                                                                  \n",
            " concatenate_163 (Concatenate)  (None, 16, 16, 162)  0           ['concatenate_162[0][0]',        \n",
            "                                                                  'dropout_173[0][0]']            \n",
            "                                                                                                  \n",
            " batch_normalization_177 (Batch  (None, 16, 16, 162)  648        ['concatenate_163[0][0]']        \n",
            " Normalization)                                                                                   \n",
            "                                                                                                  \n",
            " activation_177 (Activation)    (None, 16, 16, 162)  0           ['batch_normalization_177[0][0]']\n",
            "                                                                                                  \n",
            " conv2d_178 (Conv2D)            (None, 16, 16, 18)   72900       ['activation_177[0][0]']         \n",
            "                                                                                                  \n",
            " dropout_174 (Dropout)          (None, 16, 16, 18)   0           ['conv2d_178[0][0]']             \n",
            "                                                                                                  \n",
            " concatenate_164 (Concatenate)  (None, 16, 16, 180)  0           ['concatenate_163[0][0]',        \n",
            "                                                                  'dropout_174[0][0]']            \n",
            "                                                                                                  \n",
            " batch_normalization_178 (Batch  (None, 16, 16, 180)  720        ['concatenate_164[0][0]']        \n",
            " Normalization)                                                                                   \n",
            "                                                                                                  \n",
            " activation_178 (Activation)    (None, 16, 16, 180)  0           ['batch_normalization_178[0][0]']\n",
            "                                                                                                  \n",
            " conv2d_179 (Conv2D)            (None, 16, 16, 18)   81000       ['activation_178[0][0]']         \n",
            "                                                                                                  \n",
            " dropout_175 (Dropout)          (None, 16, 16, 18)   0           ['conv2d_179[0][0]']             \n",
            "                                                                                                  \n",
            " concatenate_165 (Concatenate)  (None, 16, 16, 198)  0           ['concatenate_164[0][0]',        \n",
            "                                                                  'dropout_175[0][0]']            \n",
            "                                                                                                  \n",
            " batch_normalization_179 (Batch  (None, 16, 16, 198)  792        ['concatenate_165[0][0]']        \n",
            " Normalization)                                                                                   \n",
            "                                                                                                  \n",
            " activation_179 (Activation)    (None, 16, 16, 198)  0           ['batch_normalization_179[0][0]']\n",
            "                                                                                                  \n",
            " conv2d_180 (Conv2D)            (None, 16, 16, 18)   89100       ['activation_179[0][0]']         \n",
            "                                                                                                  \n",
            " dropout_176 (Dropout)          (None, 16, 16, 18)   0           ['conv2d_180[0][0]']             \n",
            "                                                                                                  \n",
            " concatenate_166 (Concatenate)  (None, 16, 16, 216)  0           ['concatenate_165[0][0]',        \n",
            "                                                                  'dropout_176[0][0]']            \n",
            "                                                                                                  \n",
            " batch_normalization_180 (Batch  (None, 16, 16, 216)  864        ['concatenate_166[0][0]']        \n",
            " Normalization)                                                                                   \n",
            "                                                                                                  \n",
            " activation_180 (Activation)    (None, 16, 16, 216)  0           ['batch_normalization_180[0][0]']\n",
            "                                                                                                  \n",
            " conv2d_181 (Conv2D)            (None, 16, 16, 18)   97200       ['activation_180[0][0]']         \n",
            "                                                                                                  \n",
            " dropout_177 (Dropout)          (None, 16, 16, 18)   0           ['conv2d_181[0][0]']             \n",
            "                                                                                                  \n",
            " concatenate_167 (Concatenate)  (None, 16, 16, 234)  0           ['concatenate_166[0][0]',        \n",
            "                                                                  'dropout_177[0][0]']            \n",
            "                                                                                                  \n",
            " batch_normalization_181 (Batch  (None, 16, 16, 234)  936        ['concatenate_167[0][0]']        \n",
            " Normalization)                                                                                   \n",
            "                                                                                                  \n",
            " activation_181 (Activation)    (None, 16, 16, 234)  0           ['batch_normalization_181[0][0]']\n",
            "                                                                                                  \n",
            " conv2d_182 (Conv2D)            (None, 16, 16, 18)   105300      ['activation_181[0][0]']         \n",
            "                                                                                                  \n",
            " dropout_178 (Dropout)          (None, 16, 16, 18)   0           ['conv2d_182[0][0]']             \n",
            "                                                                                                  \n",
            " average_pooling2d_13 (AverageP  (None, 8, 8, 18)    0           ['dropout_178[0][0]']            \n",
            " ooling2D)                                                                                        \n",
            "                                                                                                  \n",
            " batch_normalization_182 (Batch  (None, 8, 8, 18)    72          ['average_pooling2d_13[0][0]']   \n",
            " Normalization)                                                                                   \n",
            "                                                                                                  \n",
            " activation_182 (Activation)    (None, 8, 8, 18)     0           ['batch_normalization_182[0][0]']\n",
            "                                                                                                  \n",
            " conv2d_183 (Conv2D)            (None, 8, 8, 18)     8100        ['activation_182[0][0]']         \n",
            "                                                                                                  \n",
            " dropout_179 (Dropout)          (None, 8, 8, 18)     0           ['conv2d_183[0][0]']             \n",
            "                                                                                                  \n",
            " concatenate_168 (Concatenate)  (None, 8, 8, 36)     0           ['average_pooling2d_13[0][0]',   \n",
            "                                                                  'dropout_179[0][0]']            \n",
            "                                                                                                  \n",
            " batch_normalization_183 (Batch  (None, 8, 8, 36)    144         ['concatenate_168[0][0]']        \n",
            " Normalization)                                                                                   \n",
            "                                                                                                  \n",
            " activation_183 (Activation)    (None, 8, 8, 36)     0           ['batch_normalization_183[0][0]']\n",
            "                                                                                                  \n",
            " conv2d_184 (Conv2D)            (None, 8, 8, 18)     16200       ['activation_183[0][0]']         \n",
            "                                                                                                  \n",
            " dropout_180 (Dropout)          (None, 8, 8, 18)     0           ['conv2d_184[0][0]']             \n",
            "                                                                                                  \n",
            " concatenate_169 (Concatenate)  (None, 8, 8, 54)     0           ['concatenate_168[0][0]',        \n",
            "                                                                  'dropout_180[0][0]']            \n",
            "                                                                                                  \n",
            " batch_normalization_184 (Batch  (None, 8, 8, 54)    216         ['concatenate_169[0][0]']        \n",
            " Normalization)                                                                                   \n",
            "                                                                                                  \n",
            " activation_184 (Activation)    (None, 8, 8, 54)     0           ['batch_normalization_184[0][0]']\n",
            "                                                                                                  \n",
            " conv2d_185 (Conv2D)            (None, 8, 8, 18)     24300       ['activation_184[0][0]']         \n",
            "                                                                                                  \n",
            " dropout_181 (Dropout)          (None, 8, 8, 18)     0           ['conv2d_185[0][0]']             \n",
            "                                                                                                  \n",
            " concatenate_170 (Concatenate)  (None, 8, 8, 72)     0           ['concatenate_169[0][0]',        \n",
            "                                                                  'dropout_181[0][0]']            \n",
            "                                                                                                  \n",
            " batch_normalization_185 (Batch  (None, 8, 8, 72)    288         ['concatenate_170[0][0]']        \n",
            " Normalization)                                                                                   \n",
            "                                                                                                  \n",
            " activation_185 (Activation)    (None, 8, 8, 72)     0           ['batch_normalization_185[0][0]']\n",
            "                                                                                                  \n",
            " conv2d_186 (Conv2D)            (None, 8, 8, 18)     32400       ['activation_185[0][0]']         \n",
            "                                                                                                  \n",
            " dropout_182 (Dropout)          (None, 8, 8, 18)     0           ['conv2d_186[0][0]']             \n",
            "                                                                                                  \n",
            " concatenate_171 (Concatenate)  (None, 8, 8, 90)     0           ['concatenate_170[0][0]',        \n",
            "                                                                  'dropout_182[0][0]']            \n",
            "                                                                                                  \n",
            " batch_normalization_186 (Batch  (None, 8, 8, 90)    360         ['concatenate_171[0][0]']        \n",
            " Normalization)                                                                                   \n",
            "                                                                                                  \n",
            " activation_186 (Activation)    (None, 8, 8, 90)     0           ['batch_normalization_186[0][0]']\n",
            "                                                                                                  \n",
            " conv2d_187 (Conv2D)            (None, 8, 8, 18)     40500       ['activation_186[0][0]']         \n",
            "                                                                                                  \n",
            " dropout_183 (Dropout)          (None, 8, 8, 18)     0           ['conv2d_187[0][0]']             \n",
            "                                                                                                  \n",
            " concatenate_172 (Concatenate)  (None, 8, 8, 108)    0           ['concatenate_171[0][0]',        \n",
            "                                                                  'dropout_183[0][0]']            \n",
            "                                                                                                  \n",
            " batch_normalization_187 (Batch  (None, 8, 8, 108)   432         ['concatenate_172[0][0]']        \n",
            " Normalization)                                                                                   \n",
            "                                                                                                  \n",
            " activation_187 (Activation)    (None, 8, 8, 108)    0           ['batch_normalization_187[0][0]']\n",
            "                                                                                                  \n",
            " conv2d_188 (Conv2D)            (None, 8, 8, 18)     48600       ['activation_187[0][0]']         \n",
            "                                                                                                  \n",
            " dropout_184 (Dropout)          (None, 8, 8, 18)     0           ['conv2d_188[0][0]']             \n",
            "                                                                                                  \n",
            " concatenate_173 (Concatenate)  (None, 8, 8, 126)    0           ['concatenate_172[0][0]',        \n",
            "                                                                  'dropout_184[0][0]']            \n",
            "                                                                                                  \n",
            " batch_normalization_188 (Batch  (None, 8, 8, 126)   504         ['concatenate_173[0][0]']        \n",
            " Normalization)                                                                                   \n",
            "                                                                                                  \n",
            " activation_188 (Activation)    (None, 8, 8, 126)    0           ['batch_normalization_188[0][0]']\n",
            "                                                                                                  \n",
            " conv2d_189 (Conv2D)            (None, 8, 8, 18)     56700       ['activation_188[0][0]']         \n",
            "                                                                                                  \n",
            " dropout_185 (Dropout)          (None, 8, 8, 18)     0           ['conv2d_189[0][0]']             \n",
            "                                                                                                  \n",
            " concatenate_174 (Concatenate)  (None, 8, 8, 144)    0           ['concatenate_173[0][0]',        \n",
            "                                                                  'dropout_185[0][0]']            \n",
            "                                                                                                  \n",
            " batch_normalization_189 (Batch  (None, 8, 8, 144)   576         ['concatenate_174[0][0]']        \n",
            " Normalization)                                                                                   \n",
            "                                                                                                  \n",
            " activation_189 (Activation)    (None, 8, 8, 144)    0           ['batch_normalization_189[0][0]']\n",
            "                                                                                                  \n",
            " conv2d_190 (Conv2D)            (None, 8, 8, 18)     64800       ['activation_189[0][0]']         \n",
            "                                                                                                  \n",
            " dropout_186 (Dropout)          (None, 8, 8, 18)     0           ['conv2d_190[0][0]']             \n",
            "                                                                                                  \n",
            " concatenate_175 (Concatenate)  (None, 8, 8, 162)    0           ['concatenate_174[0][0]',        \n",
            "                                                                  'dropout_186[0][0]']            \n",
            "                                                                                                  \n",
            " batch_normalization_190 (Batch  (None, 8, 8, 162)   648         ['concatenate_175[0][0]']        \n",
            " Normalization)                                                                                   \n",
            "                                                                                                  \n",
            " activation_190 (Activation)    (None, 8, 8, 162)    0           ['batch_normalization_190[0][0]']\n",
            "                                                                                                  \n",
            " conv2d_191 (Conv2D)            (None, 8, 8, 18)     72900       ['activation_190[0][0]']         \n",
            "                                                                                                  \n",
            " dropout_187 (Dropout)          (None, 8, 8, 18)     0           ['conv2d_191[0][0]']             \n",
            "                                                                                                  \n",
            " concatenate_176 (Concatenate)  (None, 8, 8, 180)    0           ['concatenate_175[0][0]',        \n",
            "                                                                  'dropout_187[0][0]']            \n",
            "                                                                                                  \n",
            " batch_normalization_191 (Batch  (None, 8, 8, 180)   720         ['concatenate_176[0][0]']        \n",
            " Normalization)                                                                                   \n",
            "                                                                                                  \n",
            " activation_191 (Activation)    (None, 8, 8, 180)    0           ['batch_normalization_191[0][0]']\n",
            "                                                                                                  \n",
            " conv2d_192 (Conv2D)            (None, 8, 8, 18)     81000       ['activation_191[0][0]']         \n",
            "                                                                                                  \n",
            " dropout_188 (Dropout)          (None, 8, 8, 18)     0           ['conv2d_192[0][0]']             \n",
            "                                                                                                  \n",
            " concatenate_177 (Concatenate)  (None, 8, 8, 198)    0           ['concatenate_176[0][0]',        \n",
            "                                                                  'dropout_188[0][0]']            \n",
            "                                                                                                  \n",
            " batch_normalization_192 (Batch  (None, 8, 8, 198)   792         ['concatenate_177[0][0]']        \n",
            " Normalization)                                                                                   \n",
            "                                                                                                  \n",
            " activation_192 (Activation)    (None, 8, 8, 198)    0           ['batch_normalization_192[0][0]']\n",
            "                                                                                                  \n",
            " conv2d_193 (Conv2D)            (None, 8, 8, 18)     89100       ['activation_192[0][0]']         \n",
            "                                                                                                  \n",
            " dropout_189 (Dropout)          (None, 8, 8, 18)     0           ['conv2d_193[0][0]']             \n",
            "                                                                                                  \n",
            " concatenate_178 (Concatenate)  (None, 8, 8, 216)    0           ['concatenate_177[0][0]',        \n",
            "                                                                  'dropout_189[0][0]']            \n",
            "                                                                                                  \n",
            " batch_normalization_193 (Batch  (None, 8, 8, 216)   864         ['concatenate_178[0][0]']        \n",
            " Normalization)                                                                                   \n",
            "                                                                                                  \n",
            " activation_193 (Activation)    (None, 8, 8, 216)    0           ['batch_normalization_193[0][0]']\n",
            "                                                                                                  \n",
            " conv2d_194 (Conv2D)            (None, 8, 8, 18)     97200       ['activation_193[0][0]']         \n",
            "                                                                                                  \n",
            " dropout_190 (Dropout)          (None, 8, 8, 18)     0           ['conv2d_194[0][0]']             \n",
            "                                                                                                  \n",
            " concatenate_179 (Concatenate)  (None, 8, 8, 234)    0           ['concatenate_178[0][0]',        \n",
            "                                                                  'dropout_190[0][0]']            \n",
            "                                                                                                  \n",
            " batch_normalization_194 (Batch  (None, 8, 8, 234)   936         ['concatenate_179[0][0]']        \n",
            " Normalization)                                                                                   \n",
            "                                                                                                  \n",
            " activation_194 (Activation)    (None, 8, 8, 234)    0           ['batch_normalization_194[0][0]']\n",
            "                                                                                                  \n",
            " conv2d_195 (Conv2D)            (None, 8, 8, 18)     105300      ['activation_194[0][0]']         \n",
            "                                                                                                  \n",
            " dropout_191 (Dropout)          (None, 8, 8, 18)     0           ['conv2d_195[0][0]']             \n",
            "                                                                                                  \n",
            " average_pooling2d_14 (AverageP  (None, 4, 4, 18)    0           ['dropout_191[0][0]']            \n",
            " ooling2D)                                                                                        \n",
            "                                                                                                  \n",
            " batch_normalization_195 (Batch  (None, 4, 4, 18)    72          ['average_pooling2d_14[0][0]']   \n",
            " Normalization)                                                                                   \n",
            "                                                                                                  \n",
            " activation_195 (Activation)    (None, 4, 4, 18)     0           ['batch_normalization_195[0][0]']\n",
            "                                                                                                  \n",
            " conv2d_196 (Conv2D)            (None, 4, 4, 18)     8100        ['activation_195[0][0]']         \n",
            "                                                                                                  \n",
            " dropout_192 (Dropout)          (None, 4, 4, 18)     0           ['conv2d_196[0][0]']             \n",
            "                                                                                                  \n",
            " concatenate_180 (Concatenate)  (None, 4, 4, 36)     0           ['average_pooling2d_14[0][0]',   \n",
            "                                                                  'dropout_192[0][0]']            \n",
            "                                                                                                  \n",
            " batch_normalization_196 (Batch  (None, 4, 4, 36)    144         ['concatenate_180[0][0]']        \n",
            " Normalization)                                                                                   \n",
            "                                                                                                  \n",
            " activation_196 (Activation)    (None, 4, 4, 36)     0           ['batch_normalization_196[0][0]']\n",
            "                                                                                                  \n",
            " conv2d_197 (Conv2D)            (None, 4, 4, 18)     16200       ['activation_196[0][0]']         \n",
            "                                                                                                  \n",
            " dropout_193 (Dropout)          (None, 4, 4, 18)     0           ['conv2d_197[0][0]']             \n",
            "                                                                                                  \n",
            " concatenate_181 (Concatenate)  (None, 4, 4, 54)     0           ['concatenate_180[0][0]',        \n",
            "                                                                  'dropout_193[0][0]']            \n",
            "                                                                                                  \n",
            " batch_normalization_197 (Batch  (None, 4, 4, 54)    216         ['concatenate_181[0][0]']        \n",
            " Normalization)                                                                                   \n",
            "                                                                                                  \n",
            " activation_197 (Activation)    (None, 4, 4, 54)     0           ['batch_normalization_197[0][0]']\n",
            "                                                                                                  \n",
            " conv2d_198 (Conv2D)            (None, 4, 4, 18)     24300       ['activation_197[0][0]']         \n",
            "                                                                                                  \n",
            " dropout_194 (Dropout)          (None, 4, 4, 18)     0           ['conv2d_198[0][0]']             \n",
            "                                                                                                  \n",
            " concatenate_182 (Concatenate)  (None, 4, 4, 72)     0           ['concatenate_181[0][0]',        \n",
            "                                                                  'dropout_194[0][0]']            \n",
            "                                                                                                  \n",
            " batch_normalization_198 (Batch  (None, 4, 4, 72)    288         ['concatenate_182[0][0]']        \n",
            " Normalization)                                                                                   \n",
            "                                                                                                  \n",
            " activation_198 (Activation)    (None, 4, 4, 72)     0           ['batch_normalization_198[0][0]']\n",
            "                                                                                                  \n",
            " conv2d_199 (Conv2D)            (None, 4, 4, 18)     32400       ['activation_198[0][0]']         \n",
            "                                                                                                  \n",
            " dropout_195 (Dropout)          (None, 4, 4, 18)     0           ['conv2d_199[0][0]']             \n",
            "                                                                                                  \n",
            " concatenate_183 (Concatenate)  (None, 4, 4, 90)     0           ['concatenate_182[0][0]',        \n",
            "                                                                  'dropout_195[0][0]']            \n",
            "                                                                                                  \n",
            " batch_normalization_199 (Batch  (None, 4, 4, 90)    360         ['concatenate_183[0][0]']        \n",
            " Normalization)                                                                                   \n",
            "                                                                                                  \n",
            " activation_199 (Activation)    (None, 4, 4, 90)     0           ['batch_normalization_199[0][0]']\n",
            "                                                                                                  \n",
            " conv2d_200 (Conv2D)            (None, 4, 4, 18)     40500       ['activation_199[0][0]']         \n",
            "                                                                                                  \n",
            " dropout_196 (Dropout)          (None, 4, 4, 18)     0           ['conv2d_200[0][0]']             \n",
            "                                                                                                  \n",
            " concatenate_184 (Concatenate)  (None, 4, 4, 108)    0           ['concatenate_183[0][0]',        \n",
            "                                                                  'dropout_196[0][0]']            \n",
            "                                                                                                  \n",
            " batch_normalization_200 (Batch  (None, 4, 4, 108)   432         ['concatenate_184[0][0]']        \n",
            " Normalization)                                                                                   \n",
            "                                                                                                  \n",
            " activation_200 (Activation)    (None, 4, 4, 108)    0           ['batch_normalization_200[0][0]']\n",
            "                                                                                                  \n",
            " conv2d_201 (Conv2D)            (None, 4, 4, 18)     48600       ['activation_200[0][0]']         \n",
            "                                                                                                  \n",
            " dropout_197 (Dropout)          (None, 4, 4, 18)     0           ['conv2d_201[0][0]']             \n",
            "                                                                                                  \n",
            " concatenate_185 (Concatenate)  (None, 4, 4, 126)    0           ['concatenate_184[0][0]',        \n",
            "                                                                  'dropout_197[0][0]']            \n",
            "                                                                                                  \n",
            " batch_normalization_201 (Batch  (None, 4, 4, 126)   504         ['concatenate_185[0][0]']        \n",
            " Normalization)                                                                                   \n",
            "                                                                                                  \n",
            " activation_201 (Activation)    (None, 4, 4, 126)    0           ['batch_normalization_201[0][0]']\n",
            "                                                                                                  \n",
            " conv2d_202 (Conv2D)            (None, 4, 4, 18)     56700       ['activation_201[0][0]']         \n",
            "                                                                                                  \n",
            " dropout_198 (Dropout)          (None, 4, 4, 18)     0           ['conv2d_202[0][0]']             \n",
            "                                                                                                  \n",
            " concatenate_186 (Concatenate)  (None, 4, 4, 144)    0           ['concatenate_185[0][0]',        \n",
            "                                                                  'dropout_198[0][0]']            \n",
            "                                                                                                  \n",
            " batch_normalization_202 (Batch  (None, 4, 4, 144)   576         ['concatenate_186[0][0]']        \n",
            " Normalization)                                                                                   \n",
            "                                                                                                  \n",
            " activation_202 (Activation)    (None, 4, 4, 144)    0           ['batch_normalization_202[0][0]']\n",
            "                                                                                                  \n",
            " conv2d_203 (Conv2D)            (None, 4, 4, 18)     64800       ['activation_202[0][0]']         \n",
            "                                                                                                  \n",
            " dropout_199 (Dropout)          (None, 4, 4, 18)     0           ['conv2d_203[0][0]']             \n",
            "                                                                                                  \n",
            " concatenate_187 (Concatenate)  (None, 4, 4, 162)    0           ['concatenate_186[0][0]',        \n",
            "                                                                  'dropout_199[0][0]']            \n",
            "                                                                                                  \n",
            " batch_normalization_203 (Batch  (None, 4, 4, 162)   648         ['concatenate_187[0][0]']        \n",
            " Normalization)                                                                                   \n",
            "                                                                                                  \n",
            " activation_203 (Activation)    (None, 4, 4, 162)    0           ['batch_normalization_203[0][0]']\n",
            "                                                                                                  \n",
            " conv2d_204 (Conv2D)            (None, 4, 4, 18)     72900       ['activation_203[0][0]']         \n",
            "                                                                                                  \n",
            " dropout_200 (Dropout)          (None, 4, 4, 18)     0           ['conv2d_204[0][0]']             \n",
            "                                                                                                  \n",
            " concatenate_188 (Concatenate)  (None, 4, 4, 180)    0           ['concatenate_187[0][0]',        \n",
            "                                                                  'dropout_200[0][0]']            \n",
            "                                                                                                  \n",
            " batch_normalization_204 (Batch  (None, 4, 4, 180)   720         ['concatenate_188[0][0]']        \n",
            " Normalization)                                                                                   \n",
            "                                                                                                  \n",
            " activation_204 (Activation)    (None, 4, 4, 180)    0           ['batch_normalization_204[0][0]']\n",
            "                                                                                                  \n",
            " conv2d_205 (Conv2D)            (None, 4, 4, 18)     81000       ['activation_204[0][0]']         \n",
            "                                                                                                  \n",
            " dropout_201 (Dropout)          (None, 4, 4, 18)     0           ['conv2d_205[0][0]']             \n",
            "                                                                                                  \n",
            " concatenate_189 (Concatenate)  (None, 4, 4, 198)    0           ['concatenate_188[0][0]',        \n",
            "                                                                  'dropout_201[0][0]']            \n",
            "                                                                                                  \n",
            " batch_normalization_205 (Batch  (None, 4, 4, 198)   792         ['concatenate_189[0][0]']        \n",
            " Normalization)                                                                                   \n",
            "                                                                                                  \n",
            " activation_205 (Activation)    (None, 4, 4, 198)    0           ['batch_normalization_205[0][0]']\n",
            "                                                                                                  \n",
            " conv2d_206 (Conv2D)            (None, 4, 4, 18)     89100       ['activation_205[0][0]']         \n",
            "                                                                                                  \n",
            " dropout_202 (Dropout)          (None, 4, 4, 18)     0           ['conv2d_206[0][0]']             \n",
            "                                                                                                  \n",
            " concatenate_190 (Concatenate)  (None, 4, 4, 216)    0           ['concatenate_189[0][0]',        \n",
            "                                                                  'dropout_202[0][0]']            \n",
            "                                                                                                  \n",
            " batch_normalization_206 (Batch  (None, 4, 4, 216)   864         ['concatenate_190[0][0]']        \n",
            " Normalization)                                                                                   \n",
            "                                                                                                  \n",
            " activation_206 (Activation)    (None, 4, 4, 216)    0           ['batch_normalization_206[0][0]']\n",
            "                                                                                                  \n",
            " conv2d_207 (Conv2D)            (None, 4, 4, 18)     97200       ['activation_206[0][0]']         \n",
            "                                                                                                  \n",
            " dropout_203 (Dropout)          (None, 4, 4, 18)     0           ['conv2d_207[0][0]']             \n",
            "                                                                                                  \n",
            " concatenate_191 (Concatenate)  (None, 4, 4, 234)    0           ['concatenate_190[0][0]',        \n",
            "                                                                  'dropout_203[0][0]']            \n",
            "                                                                                                  \n",
            " batch_normalization_207 (Batch  (None, 4, 4, 234)   936         ['concatenate_191[0][0]']        \n",
            " Normalization)                                                                                   \n",
            "                                                                                                  \n",
            " activation_207 (Activation)    (None, 4, 4, 234)    0           ['batch_normalization_207[0][0]']\n",
            "                                                                                                  \n",
            " average_pooling2d_15 (AverageP  (None, 2, 2, 234)   0           ['activation_207[0][0]']         \n",
            " ooling2D)                                                                                        \n",
            "                                                                                                  \n",
            " flatten_3 (Flatten)            (None, 936)          0           ['average_pooling2d_15[0][0]']   \n",
            "                                                                                                  \n",
            " dense_3 (Dense)                (None, 10)           9370        ['flatten_3[0][0]']              \n",
            "                                                                                                  \n",
            "==================================================================================================\n",
            "Total params: 2,879,164\n",
            "Trainable params: 2,866,060\n",
            "Non-trainable params: 13,104\n",
            "__________________________________________________________________________________________________\n"
          ]
        }
      ]
    },
    {
      "cell_type": "code",
      "metadata": {
        "id": "54_dzLoF0Q3W",
        "colab": {
          "base_uri": "https://localhost:8080/",
          "height": 166
        },
        "outputId": "48bdacd9-ae68-4107-b315-aa17bdf084fa"
      },
      "source": [
        "process_staging(X_train, y_train, X_test, y_test, 32, 40, 10)"
      ],
      "execution_count": null,
      "outputs": [
        {
          "output_type": "error",
          "ename": "NameError",
          "evalue": "ignored",
          "traceback": [
            "\u001b[0;31m---------------------------------------------------------------------------\u001b[0m",
            "\u001b[0;31mNameError\u001b[0m                                 Traceback (most recent call last)",
            "\u001b[0;32m<ipython-input-60-84beaff8d186>\u001b[0m in \u001b[0;36m<module>\u001b[0;34m()\u001b[0m\n\u001b[0;32m----> 1\u001b[0;31m \u001b[0mprocess_staging\u001b[0m\u001b[0;34m(\u001b[0m\u001b[0mX_train\u001b[0m\u001b[0;34m,\u001b[0m \u001b[0my_train\u001b[0m\u001b[0;34m,\u001b[0m \u001b[0mX_test\u001b[0m\u001b[0;34m,\u001b[0m \u001b[0my_test\u001b[0m\u001b[0;34m,\u001b[0m \u001b[0;36m32\u001b[0m\u001b[0;34m,\u001b[0m \u001b[0;36m40\u001b[0m\u001b[0;34m,\u001b[0m \u001b[0;36m10\u001b[0m\u001b[0;34m)\u001b[0m\u001b[0;34m\u001b[0m\u001b[0;34m\u001b[0m\u001b[0m\n\u001b[0m",
            "\u001b[0;31mNameError\u001b[0m: name 'process_staging' is not defined"
          ]
        }
      ]
    },
    {
      "cell_type": "code",
      "metadata": {
        "id": "eiuhJ1wriFnI"
      },
      "source": [
        "model.load_weights('/content/drive/MyDrive/Colab Notebooks/CNNonCIFR/weights1.hdf5')"
      ],
      "execution_count": null,
      "outputs": []
    },
    {
      "cell_type": "code",
      "metadata": {
        "id": "VAjJnTGe0Q7R"
      },
      "source": [
        "process_staging(X_train, y_train, X_test, y_test, 32, 40, 10)"
      ],
      "execution_count": null,
      "outputs": []
    },
    {
      "cell_type": "code",
      "metadata": {
        "id": "Ce91_alciHDa"
      },
      "source": [
        "model.load_weights('/content/drive/MyDrive/Colab Notebooks/CNNonCIFR/weights1.hdf5')"
      ],
      "execution_count": null,
      "outputs": []
    },
    {
      "cell_type": "code",
      "metadata": {
        "id": "_seeBH9d0Q_O"
      },
      "source": [
        "process_staging(X_train, y_train, X_test, y_test, 32, 40, 10)"
      ],
      "execution_count": null,
      "outputs": []
    },
    {
      "cell_type": "code",
      "metadata": {
        "id": "YfliQaUWiIK5"
      },
      "source": [
        "model.load_weights('/content/drive/MyDrive/Colab Notebooks/CNNonCIFR/weights1.hdf5')"
      ],
      "execution_count": null,
      "outputs": []
    },
    {
      "cell_type": "code",
      "metadata": {
        "id": "FL_Gtfbn0RC3"
      },
      "source": [
        "process_staging(X_train, y_train, X_test, y_test, 32, 40, 10)"
      ],
      "execution_count": null,
      "outputs": []
    },
    {
      "cell_type": "code",
      "metadata": {
        "id": "kQq7ayqSiJYj"
      },
      "source": [
        "model.load_weights('/content/drive/MyDrive/Colab Notebooks/CNNonCIFR/weights1.hdf5')"
      ],
      "execution_count": null,
      "outputs": []
    },
    {
      "cell_type": "code",
      "metadata": {
        "id": "QcXNbIsb0RGm"
      },
      "source": [
        "process_staging(X_train, y_train, X_test, y_test, 32, 40, 10)"
      ],
      "execution_count": null,
      "outputs": []
    },
    {
      "cell_type": "code",
      "metadata": {
        "id": "AWPZY3yziKho"
      },
      "source": [
        "model.load_weights('/content/drive/MyDrive/Colab Notebooks/CNNonCIFR/weights1.hdf5')"
      ],
      "execution_count": null,
      "outputs": []
    },
    {
      "cell_type": "code",
      "metadata": {
        "id": "oU3ztmyF-1Eq"
      },
      "source": [
        "process_staging(X_train, y_train, X_test, y_test, 32, 40, 10)"
      ],
      "execution_count": null,
      "outputs": []
    },
    {
      "cell_type": "code",
      "metadata": {
        "id": "JL7LqQcl-_SR"
      },
      "source": [
        "model.load_weights('/content/drive/MyDrive/Colab Notebooks/CNNonCIFR/weights1.hdf5')"
      ],
      "execution_count": null,
      "outputs": []
    },
    {
      "cell_type": "code",
      "metadata": {
        "id": "cAi8GT42-2PU"
      },
      "source": [
        "process_staging(X_train, y_train, X_test, y_test, 32, 40, 10)"
      ],
      "execution_count": null,
      "outputs": []
    },
    {
      "cell_type": "code",
      "metadata": {
        "id": "cUf47QVT_Avi"
      },
      "source": [
        "model.load_weights('/content/drive/MyDrive/Colab Notebooks/CNNonCIFR/weights1.hdf5')"
      ],
      "execution_count": null,
      "outputs": []
    },
    {
      "cell_type": "code",
      "metadata": {
        "id": "fTgBItc4-3C9"
      },
      "source": [
        "process_staging(X_train, y_train, X_test, y_test, 32, 40, 10)"
      ],
      "execution_count": null,
      "outputs": []
    },
    {
      "cell_type": "code",
      "metadata": {
        "id": "zR5eKQ4m_Bj4"
      },
      "source": [
        "model.load_weights('/content/drive/MyDrive/Colab Notebooks/CNNonCIFR/weights1.hdf5')"
      ],
      "execution_count": null,
      "outputs": []
    },
    {
      "cell_type": "code",
      "metadata": {
        "id": "R27ZDY7k-3uf"
      },
      "source": [
        "process_staging(X_train, y_train, X_test, y_test, 32, 40, 10)"
      ],
      "execution_count": null,
      "outputs": []
    },
    {
      "cell_type": "code",
      "metadata": {
        "id": "CBF1akZX_CQ3"
      },
      "source": [
        "model.load_weights('/content/drive/MyDrive/Colab Notebooks/CNNonCIFR/weights1.hdf5')"
      ],
      "execution_count": null,
      "outputs": []
    },
    {
      "cell_type": "code",
      "metadata": {
        "id": "Vg9fgSiV-4RC"
      },
      "source": [
        "process_staging(X_train, y_train, X_test, y_test, 32, 40, 10)"
      ],
      "execution_count": null,
      "outputs": []
    },
    {
      "cell_type": "code",
      "metadata": {
        "id": "GrWKFeFs_DRD"
      },
      "source": [
        "model.load_weights('/content/drive/MyDrive/Colab Notebooks/CNNonCIFR/weights1.hdf5')"
      ],
      "execution_count": null,
      "outputs": []
    },
    {
      "cell_type": "code",
      "metadata": {
        "id": "3hJgGMst-4xP"
      },
      "source": [
        "process_staging(X_train, y_train, X_test, y_test, 32, 40, 10)"
      ],
      "execution_count": null,
      "outputs": []
    },
    {
      "cell_type": "code",
      "metadata": {
        "id": "fDV7lCqH_EBR"
      },
      "source": [
        "model.load_weights('/content/drive/MyDrive/Colab Notebooks/CNNonCIFR/weights1.hdf5')"
      ],
      "execution_count": null,
      "outputs": []
    },
    {
      "cell_type": "code",
      "metadata": {
        "id": "gHKJarzi-5Px"
      },
      "source": [
        "process_staging(X_train, y_train, X_test, y_test, 32, 40, 10)"
      ],
      "execution_count": null,
      "outputs": []
    },
    {
      "cell_type": "code",
      "metadata": {
        "id": "TwXr3DCa_FEk"
      },
      "source": [
        "model.load_weights('/content/drive/MyDrive/Colab Notebooks/CNNonCIFR/weights1.hdf5')"
      ],
      "execution_count": null,
      "outputs": []
    },
    {
      "cell_type": "code",
      "metadata": {
        "id": "esUo_oeY-5xk"
      },
      "source": [
        "process_staging(X_train, y_train, X_test, y_test, 32, 40, 10)"
      ],
      "execution_count": null,
      "outputs": []
    },
    {
      "cell_type": "code",
      "metadata": {
        "id": "U7hNy_6o_FyR"
      },
      "source": [
        "model.load_weights('/content/drive/MyDrive/Colab Notebooks/CNNonCIFR/weights1.hdf5')"
      ],
      "execution_count": null,
      "outputs": []
    },
    {
      "cell_type": "code",
      "metadata": {
        "id": "Iy6ls3an-6Pp"
      },
      "source": [
        "process_staging(X_train, y_train, X_test, y_test, 32, 40, 10)"
      ],
      "execution_count": null,
      "outputs": []
    },
    {
      "cell_type": "code",
      "metadata": {
        "id": "_niOIvWu_Gv6"
      },
      "source": [
        "model.load_weights('/content/drive/MyDrive/Colab Notebooks/CNNonCIFR/weights1.hdf5')"
      ],
      "execution_count": null,
      "outputs": []
    },
    {
      "cell_type": "code",
      "metadata": {
        "id": "lt4LSimw-6u5"
      },
      "source": [
        "process_staging(X_train, y_train, X_test, y_test, 32, 40, 10)"
      ],
      "execution_count": null,
      "outputs": []
    },
    {
      "cell_type": "code",
      "metadata": {
        "id": "dL3c7LzKO-d8"
      },
      "source": [
        "model.load_weights('/content/drive/MyDrive/Colab Notebooks/CNNonCIFR/weights1.hdf5')"
      ],
      "execution_count": null,
      "outputs": []
    },
    {
      "cell_type": "code",
      "metadata": {
        "id": "k2XUJizEO-d8"
      },
      "source": [
        "process_staging(X_train, y_train, X_test, y_test, 32, 40, 10)"
      ],
      "execution_count": null,
      "outputs": []
    },
    {
      "cell_type": "code",
      "metadata": {
        "id": "UvS4BgzNO-31"
      },
      "source": [
        "model.load_weights('/content/drive/MyDrive/Colab Notebooks/CNNonCIFR/weights1.hdf5')"
      ],
      "execution_count": null,
      "outputs": []
    },
    {
      "cell_type": "code",
      "metadata": {
        "id": "SMCofq_8O-32"
      },
      "source": [
        "process_staging(X_train, y_train, X_test, y_test, 32, 40, 10)"
      ],
      "execution_count": null,
      "outputs": []
    },
    {
      "cell_type": "code",
      "metadata": {
        "id": "0tqHSwRoO_Ha"
      },
      "source": [
        "model.load_weights('/content/drive/MyDrive/Colab Notebooks/CNNonCIFR/weights1.hdf5')"
      ],
      "execution_count": null,
      "outputs": []
    },
    {
      "cell_type": "code",
      "metadata": {
        "id": "mz_BgykZO_Ha"
      },
      "source": [
        "process_staging(X_train, y_train, X_test, y_test, 32, 40, 10)"
      ],
      "execution_count": null,
      "outputs": []
    },
    {
      "cell_type": "code",
      "metadata": {
        "id": "x8hAaB32O_VW"
      },
      "source": [
        "model.load_weights('/content/drive/MyDrive/Colab Notebooks/CNNonCIFR/weights1.hdf5')"
      ],
      "execution_count": null,
      "outputs": []
    },
    {
      "cell_type": "code",
      "metadata": {
        "id": "6kEPxcNhO_VW"
      },
      "source": [
        "process_staging(X_train, y_train, X_test, y_test, 32, 40, 10)"
      ],
      "execution_count": null,
      "outputs": []
    },
    {
      "cell_type": "code",
      "metadata": {
        "id": "5KpK9ZbLO_iv"
      },
      "source": [
        "model.load_weights('/content/drive/MyDrive/Colab Notebooks/CNNonCIFR/weights1.hdf5')"
      ],
      "execution_count": null,
      "outputs": []
    },
    {
      "cell_type": "code",
      "metadata": {
        "id": "jtGxqHCZO_iw"
      },
      "source": [
        "process_staging(X_train, y_train, X_test, y_test, 32, 40, 10)"
      ],
      "execution_count": null,
      "outputs": []
    },
    {
      "cell_type": "code",
      "metadata": {
        "id": "TRVpDJv_O_xr"
      },
      "source": [
        "model.load_weights('/content/drive/MyDrive/Colab Notebooks/CNNonCIFR/weights1.hdf5')"
      ],
      "execution_count": null,
      "outputs": []
    },
    {
      "cell_type": "code",
      "metadata": {
        "id": "ckf2_IM_O_xr"
      },
      "source": [
        "process_staging(X_train, y_train, X_test, y_test, 32, 40, 10)"
      ],
      "execution_count": null,
      "outputs": []
    },
    {
      "cell_type": "code",
      "metadata": {
        "id": "FaKCg2rXO_9n"
      },
      "source": [
        "model.load_weights('/content/drive/MyDrive/Colab Notebooks/CNNonCIFR/weights1.hdf5')"
      ],
      "execution_count": null,
      "outputs": []
    },
    {
      "cell_type": "code",
      "metadata": {
        "id": "lFHpu_RnO_9n"
      },
      "source": [
        "process_staging(X_train, y_train, X_test, y_test, 32, 40, 10)"
      ],
      "execution_count": null,
      "outputs": []
    },
    {
      "cell_type": "code",
      "metadata": {
        "id": "MQftbsEIPAKS"
      },
      "source": [
        "model.load_weights('/content/drive/MyDrive/Colab Notebooks/CNNonCIFR/weights1.hdf5')"
      ],
      "execution_count": null,
      "outputs": []
    },
    {
      "cell_type": "code",
      "metadata": {
        "id": "TBZCX5LePAKS"
      },
      "source": [
        "process_staging(X_train, y_train, X_test, y_test, 32, 40, 10)"
      ],
      "execution_count": null,
      "outputs": []
    },
    {
      "cell_type": "code",
      "metadata": {
        "id": "rxS6uvNmPAY-"
      },
      "source": [
        "model.load_weights('/content/drive/MyDrive/Colab Notebooks/CNNonCIFR/weights1.hdf5')"
      ],
      "execution_count": null,
      "outputs": []
    },
    {
      "cell_type": "code",
      "metadata": {
        "id": "zLV8iDcnPAY-"
      },
      "source": [
        "process_staging(X_train, y_train, X_test, y_test, 32, 40, 10)"
      ],
      "execution_count": null,
      "outputs": []
    },
    {
      "cell_type": "code",
      "metadata": {
        "id": "Cj7TRtoNPAmG"
      },
      "source": [
        "model.load_weights('/content/drive/MyDrive/Colab Notebooks/CNNonCIFR/weights1.hdf5')"
      ],
      "execution_count": null,
      "outputs": []
    },
    {
      "cell_type": "code",
      "metadata": {
        "id": "G4ji49UlPAmH"
      },
      "source": [
        "process_staging(X_train, y_train, X_test, y_test, 32, 40, 10)"
      ],
      "execution_count": null,
      "outputs": []
    },
    {
      "cell_type": "code",
      "metadata": {
        "id": "uOOh_KWLwbyT"
      },
      "source": [
        "model.load_weights('/content/drive/MyDrive/Colab Notebooks/CNNonCIFR/weights1.hdf5')"
      ],
      "execution_count": null,
      "outputs": []
    },
    {
      "cell_type": "code",
      "metadata": {
        "id": "LlDJ9FK8wbyT"
      },
      "source": [
        "process_staging(X_train, y_train, X_test, y_test, 32, 40, 10)"
      ],
      "execution_count": null,
      "outputs": []
    },
    {
      "cell_type": "code",
      "metadata": {
        "id": "g-2QHfFdwcDE"
      },
      "source": [
        "model.load_weights('/content/drive/MyDrive/Colab Notebooks/CNNonCIFR/weights1.hdf5')"
      ],
      "execution_count": null,
      "outputs": []
    },
    {
      "cell_type": "code",
      "metadata": {
        "id": "dbz5gyEfwcDF"
      },
      "source": [
        "process_staging(X_train, y_train, X_test, y_test, 32, 40, 10)"
      ],
      "execution_count": null,
      "outputs": []
    },
    {
      "cell_type": "code",
      "metadata": {
        "id": "wab9ICQPwcSc"
      },
      "source": [
        "model.load_weights('/content/drive/MyDrive/Colab Notebooks/CNNonCIFR/weights1.hdf5')"
      ],
      "execution_count": null,
      "outputs": []
    },
    {
      "cell_type": "code",
      "metadata": {
        "id": "_lpqktUJwcSd"
      },
      "source": [
        "process_staging(X_train, y_train, X_test, y_test, 32, 40, 10)"
      ],
      "execution_count": null,
      "outputs": []
    },
    {
      "cell_type": "code",
      "metadata": {
        "id": "fQ_4Ori-1dgP"
      },
      "source": [
        "model.load_weights('/content/drive/MyDrive/Colab Notebooks/CNNonCIFR/weights1.hdf5')"
      ],
      "execution_count": null,
      "outputs": []
    },
    {
      "cell_type": "code",
      "metadata": {
        "id": "rvEDqFIR1dgP"
      },
      "source": [
        "process_staging(X_train, y_train, X_test, y_test, 32, 40, 10)"
      ],
      "execution_count": null,
      "outputs": []
    },
    {
      "cell_type": "code",
      "metadata": {
        "id": "A0mf6HI31duS"
      },
      "source": [
        "model.load_weights('/content/drive/MyDrive/Colab Notebooks/CNNonCIFR/weights1.hdf5')"
      ],
      "execution_count": null,
      "outputs": []
    },
    {
      "cell_type": "code",
      "metadata": {
        "id": "x3gYj5UC1duT"
      },
      "source": [
        "process_staging(X_train, y_train, X_test, y_test, 32, 40, 10)"
      ],
      "execution_count": null,
      "outputs": []
    },
    {
      "cell_type": "code",
      "metadata": {
        "id": "3POdzF3i1d8q"
      },
      "source": [
        "model.load_weights('/content/drive/MyDrive/Colab Notebooks/CNNonCIFR/weights1.hdf5')"
      ],
      "execution_count": null,
      "outputs": []
    },
    {
      "cell_type": "code",
      "metadata": {
        "id": "CevJCr4d1d8q"
      },
      "source": [
        "process_staging(X_train, y_train, X_test, y_test, 32, 40, 10)"
      ],
      "execution_count": null,
      "outputs": []
    },
    {
      "cell_type": "markdown",
      "source": [
        "## Summary\n",
        "\n",
        "Best Accuracy achieved so far is 58.64"
      ],
      "metadata": {
        "id": "Cb9YLpsMcT-R"
      }
    }
  ]
}